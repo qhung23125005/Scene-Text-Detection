{
  "nbformat": 4,
  "nbformat_minor": 0,
  "metadata": {
    "colab": {
      "provenance": []
    },
    "kernelspec": {
      "name": "python3",
      "display_name": "Python 3"
    },
    "language_info": {
      "name": "python"
    }
  },
  "cells": [
    {
      "cell_type": "markdown",
      "source": [
        "# Install necessary libs\n"
      ],
      "metadata": {
        "id": "SunHAQfhQIEJ"
      }
    },
    {
      "cell_type": "code",
      "execution_count": null,
      "metadata": {
        "colab": {
          "base_uri": "https://localhost:8080/"
        },
        "id": "DG21OJQxNbMz",
        "outputId": "343a9efc-4056-4c10-c524-28f9f4596cba"
      },
      "outputs": [
        {
          "output_type": "stream",
          "name": "stdout",
          "text": [
            "Collecting ultralytics\n",
            "  Downloading ultralytics-8.3.82-py3-none-any.whl.metadata (35 kB)\n",
            "Requirement already satisfied: numpy<=2.1.1,>=1.23.0 in /usr/local/lib/python3.11/dist-packages (from ultralytics) (1.26.4)\n",
            "Requirement already satisfied: matplotlib>=3.3.0 in /usr/local/lib/python3.11/dist-packages (from ultralytics) (3.10.0)\n",
            "Requirement already satisfied: opencv-python>=4.6.0 in /usr/local/lib/python3.11/dist-packages (from ultralytics) (4.11.0.86)\n",
            "Requirement already satisfied: pillow>=7.1.2 in /usr/local/lib/python3.11/dist-packages (from ultralytics) (11.1.0)\n",
            "Requirement already satisfied: pyyaml>=5.3.1 in /usr/local/lib/python3.11/dist-packages (from ultralytics) (6.0.2)\n",
            "Requirement already satisfied: requests>=2.23.0 in /usr/local/lib/python3.11/dist-packages (from ultralytics) (2.32.3)\n",
            "Requirement already satisfied: scipy>=1.4.1 in /usr/local/lib/python3.11/dist-packages (from ultralytics) (1.13.1)\n",
            "Requirement already satisfied: torch>=1.8.0 in /usr/local/lib/python3.11/dist-packages (from ultralytics) (2.5.1+cu124)\n",
            "Requirement already satisfied: torchvision>=0.9.0 in /usr/local/lib/python3.11/dist-packages (from ultralytics) (0.20.1+cu124)\n",
            "Requirement already satisfied: tqdm>=4.64.0 in /usr/local/lib/python3.11/dist-packages (from ultralytics) (4.67.1)\n",
            "Requirement already satisfied: psutil in /usr/local/lib/python3.11/dist-packages (from ultralytics) (5.9.5)\n",
            "Requirement already satisfied: py-cpuinfo in /usr/local/lib/python3.11/dist-packages (from ultralytics) (9.0.0)\n",
            "Requirement already satisfied: pandas>=1.1.4 in /usr/local/lib/python3.11/dist-packages (from ultralytics) (2.2.2)\n",
            "Requirement already satisfied: seaborn>=0.11.0 in /usr/local/lib/python3.11/dist-packages (from ultralytics) (0.13.2)\n",
            "Collecting ultralytics-thop>=2.0.0 (from ultralytics)\n",
            "  Downloading ultralytics_thop-2.0.14-py3-none-any.whl.metadata (9.4 kB)\n",
            "Requirement already satisfied: contourpy>=1.0.1 in /usr/local/lib/python3.11/dist-packages (from matplotlib>=3.3.0->ultralytics) (1.3.1)\n",
            "Requirement already satisfied: cycler>=0.10 in /usr/local/lib/python3.11/dist-packages (from matplotlib>=3.3.0->ultralytics) (0.12.1)\n",
            "Requirement already satisfied: fonttools>=4.22.0 in /usr/local/lib/python3.11/dist-packages (from matplotlib>=3.3.0->ultralytics) (4.56.0)\n",
            "Requirement already satisfied: kiwisolver>=1.3.1 in /usr/local/lib/python3.11/dist-packages (from matplotlib>=3.3.0->ultralytics) (1.4.8)\n",
            "Requirement already satisfied: packaging>=20.0 in /usr/local/lib/python3.11/dist-packages (from matplotlib>=3.3.0->ultralytics) (24.2)\n",
            "Requirement already satisfied: pyparsing>=2.3.1 in /usr/local/lib/python3.11/dist-packages (from matplotlib>=3.3.0->ultralytics) (3.2.1)\n",
            "Requirement already satisfied: python-dateutil>=2.7 in /usr/local/lib/python3.11/dist-packages (from matplotlib>=3.3.0->ultralytics) (2.8.2)\n",
            "Requirement already satisfied: pytz>=2020.1 in /usr/local/lib/python3.11/dist-packages (from pandas>=1.1.4->ultralytics) (2025.1)\n",
            "Requirement already satisfied: tzdata>=2022.7 in /usr/local/lib/python3.11/dist-packages (from pandas>=1.1.4->ultralytics) (2025.1)\n",
            "Requirement already satisfied: charset-normalizer<4,>=2 in /usr/local/lib/python3.11/dist-packages (from requests>=2.23.0->ultralytics) (3.4.1)\n",
            "Requirement already satisfied: idna<4,>=2.5 in /usr/local/lib/python3.11/dist-packages (from requests>=2.23.0->ultralytics) (3.10)\n",
            "Requirement already satisfied: urllib3<3,>=1.21.1 in /usr/local/lib/python3.11/dist-packages (from requests>=2.23.0->ultralytics) (2.3.0)\n",
            "Requirement already satisfied: certifi>=2017.4.17 in /usr/local/lib/python3.11/dist-packages (from requests>=2.23.0->ultralytics) (2025.1.31)\n",
            "Requirement already satisfied: filelock in /usr/local/lib/python3.11/dist-packages (from torch>=1.8.0->ultralytics) (3.17.0)\n",
            "Requirement already satisfied: typing-extensions>=4.8.0 in /usr/local/lib/python3.11/dist-packages (from torch>=1.8.0->ultralytics) (4.12.2)\n",
            "Requirement already satisfied: networkx in /usr/local/lib/python3.11/dist-packages (from torch>=1.8.0->ultralytics) (3.4.2)\n",
            "Requirement already satisfied: jinja2 in /usr/local/lib/python3.11/dist-packages (from torch>=1.8.0->ultralytics) (3.1.5)\n",
            "Requirement already satisfied: fsspec in /usr/local/lib/python3.11/dist-packages (from torch>=1.8.0->ultralytics) (2024.10.0)\n",
            "Collecting nvidia-cuda-nvrtc-cu12==12.4.127 (from torch>=1.8.0->ultralytics)\n",
            "  Downloading nvidia_cuda_nvrtc_cu12-12.4.127-py3-none-manylinux2014_x86_64.whl.metadata (1.5 kB)\n",
            "Collecting nvidia-cuda-runtime-cu12==12.4.127 (from torch>=1.8.0->ultralytics)\n",
            "  Downloading nvidia_cuda_runtime_cu12-12.4.127-py3-none-manylinux2014_x86_64.whl.metadata (1.5 kB)\n",
            "Collecting nvidia-cuda-cupti-cu12==12.4.127 (from torch>=1.8.0->ultralytics)\n",
            "  Downloading nvidia_cuda_cupti_cu12-12.4.127-py3-none-manylinux2014_x86_64.whl.metadata (1.6 kB)\n",
            "Collecting nvidia-cudnn-cu12==9.1.0.70 (from torch>=1.8.0->ultralytics)\n",
            "  Downloading nvidia_cudnn_cu12-9.1.0.70-py3-none-manylinux2014_x86_64.whl.metadata (1.6 kB)\n",
            "Collecting nvidia-cublas-cu12==12.4.5.8 (from torch>=1.8.0->ultralytics)\n",
            "  Downloading nvidia_cublas_cu12-12.4.5.8-py3-none-manylinux2014_x86_64.whl.metadata (1.5 kB)\n",
            "Collecting nvidia-cufft-cu12==11.2.1.3 (from torch>=1.8.0->ultralytics)\n",
            "  Downloading nvidia_cufft_cu12-11.2.1.3-py3-none-manylinux2014_x86_64.whl.metadata (1.5 kB)\n",
            "Collecting nvidia-curand-cu12==10.3.5.147 (from torch>=1.8.0->ultralytics)\n",
            "  Downloading nvidia_curand_cu12-10.3.5.147-py3-none-manylinux2014_x86_64.whl.metadata (1.5 kB)\n",
            "Collecting nvidia-cusolver-cu12==11.6.1.9 (from torch>=1.8.0->ultralytics)\n",
            "  Downloading nvidia_cusolver_cu12-11.6.1.9-py3-none-manylinux2014_x86_64.whl.metadata (1.6 kB)\n",
            "Collecting nvidia-cusparse-cu12==12.3.1.170 (from torch>=1.8.0->ultralytics)\n",
            "  Downloading nvidia_cusparse_cu12-12.3.1.170-py3-none-manylinux2014_x86_64.whl.metadata (1.6 kB)\n",
            "Requirement already satisfied: nvidia-nccl-cu12==2.21.5 in /usr/local/lib/python3.11/dist-packages (from torch>=1.8.0->ultralytics) (2.21.5)\n",
            "Requirement already satisfied: nvidia-nvtx-cu12==12.4.127 in /usr/local/lib/python3.11/dist-packages (from torch>=1.8.0->ultralytics) (12.4.127)\n",
            "Collecting nvidia-nvjitlink-cu12==12.4.127 (from torch>=1.8.0->ultralytics)\n",
            "  Downloading nvidia_nvjitlink_cu12-12.4.127-py3-none-manylinux2014_x86_64.whl.metadata (1.5 kB)\n",
            "Requirement already satisfied: triton==3.1.0 in /usr/local/lib/python3.11/dist-packages (from torch>=1.8.0->ultralytics) (3.1.0)\n",
            "Requirement already satisfied: sympy==1.13.1 in /usr/local/lib/python3.11/dist-packages (from torch>=1.8.0->ultralytics) (1.13.1)\n",
            "Requirement already satisfied: mpmath<1.4,>=1.1.0 in /usr/local/lib/python3.11/dist-packages (from sympy==1.13.1->torch>=1.8.0->ultralytics) (1.3.0)\n",
            "Requirement already satisfied: six>=1.5 in /usr/local/lib/python3.11/dist-packages (from python-dateutil>=2.7->matplotlib>=3.3.0->ultralytics) (1.17.0)\n",
            "Requirement already satisfied: MarkupSafe>=2.0 in /usr/local/lib/python3.11/dist-packages (from jinja2->torch>=1.8.0->ultralytics) (3.0.2)\n",
            "Downloading ultralytics-8.3.82-py3-none-any.whl (922 kB)\n",
            "\u001b[2K   \u001b[90m━━━━━━━━━━━━━━━━━━━━━━━━━━━━━━━━━━━━━━━━\u001b[0m \u001b[32m922.2/922.2 kB\u001b[0m \u001b[31m19.3 MB/s\u001b[0m eta \u001b[36m0:00:00\u001b[0m\n",
            "\u001b[?25hDownloading nvidia_cublas_cu12-12.4.5.8-py3-none-manylinux2014_x86_64.whl (363.4 MB)\n",
            "\u001b[2K   \u001b[90m━━━━━━━━━━━━━━━━━━━━━━━━━━━━━━━━━━━━━━━━\u001b[0m \u001b[32m363.4/363.4 MB\u001b[0m \u001b[31m1.2 MB/s\u001b[0m eta \u001b[36m0:00:00\u001b[0m\n",
            "\u001b[?25hDownloading nvidia_cuda_cupti_cu12-12.4.127-py3-none-manylinux2014_x86_64.whl (13.8 MB)\n",
            "\u001b[2K   \u001b[90m━━━━━━━━━━━━━━━━━━━━━━━━━━━━━━━━━━━━━━━━\u001b[0m \u001b[32m13.8/13.8 MB\u001b[0m \u001b[31m69.0 MB/s\u001b[0m eta \u001b[36m0:00:00\u001b[0m\n",
            "\u001b[?25hDownloading nvidia_cuda_nvrtc_cu12-12.4.127-py3-none-manylinux2014_x86_64.whl (24.6 MB)\n",
            "\u001b[2K   \u001b[90m━━━━━━━━━━━━━━━━━━━━━━━━━━━━━━━━━━━━━━━━\u001b[0m \u001b[32m24.6/24.6 MB\u001b[0m \u001b[31m44.1 MB/s\u001b[0m eta \u001b[36m0:00:00\u001b[0m\n",
            "\u001b[?25hDownloading nvidia_cuda_runtime_cu12-12.4.127-py3-none-manylinux2014_x86_64.whl (883 kB)\n",
            "\u001b[2K   \u001b[90m━━━━━━━━━━━━━━━━━━━━━━━━━━━━━━━━━━━━━━━━\u001b[0m \u001b[32m883.7/883.7 kB\u001b[0m \u001b[31m39.2 MB/s\u001b[0m eta \u001b[36m0:00:00\u001b[0m\n",
            "\u001b[?25hDownloading nvidia_cudnn_cu12-9.1.0.70-py3-none-manylinux2014_x86_64.whl (664.8 MB)\n",
            "\u001b[2K   \u001b[90m━━━━━━━━━━━━━━━━━━━━━━━━━━━━━━━━━━━━━━━━\u001b[0m \u001b[32m664.8/664.8 MB\u001b[0m \u001b[31m2.9 MB/s\u001b[0m eta \u001b[36m0:00:00\u001b[0m\n",
            "\u001b[?25hDownloading nvidia_cufft_cu12-11.2.1.3-py3-none-manylinux2014_x86_64.whl (211.5 MB)\n",
            "\u001b[2K   \u001b[90m━━━━━━━━━━━━━━━━━━━━━━━━━━━━━━━━━━━━━━━━\u001b[0m \u001b[32m211.5/211.5 MB\u001b[0m \u001b[31m5.6 MB/s\u001b[0m eta \u001b[36m0:00:00\u001b[0m\n",
            "\u001b[?25hDownloading nvidia_curand_cu12-10.3.5.147-py3-none-manylinux2014_x86_64.whl (56.3 MB)\n",
            "\u001b[2K   \u001b[90m━━━━━━━━━━━━━━━━━━━━━━━━━━━━━━━━━━━━━━━━\u001b[0m \u001b[32m56.3/56.3 MB\u001b[0m \u001b[31m16.5 MB/s\u001b[0m eta \u001b[36m0:00:00\u001b[0m\n",
            "\u001b[?25hDownloading nvidia_cusolver_cu12-11.6.1.9-py3-none-manylinux2014_x86_64.whl (127.9 MB)\n",
            "\u001b[2K   \u001b[90m━━━━━━━━━━━━━━━━━━━━━━━━━━━━━━━━━━━━━━━━\u001b[0m \u001b[32m127.9/127.9 MB\u001b[0m \u001b[31m7.3 MB/s\u001b[0m eta \u001b[36m0:00:00\u001b[0m\n",
            "\u001b[?25hDownloading nvidia_cusparse_cu12-12.3.1.170-py3-none-manylinux2014_x86_64.whl (207.5 MB)\n",
            "\u001b[2K   \u001b[90m━━━━━━━━━━━━━━━━━━━━━━━━━━━━━━━━━━━━━━━━\u001b[0m \u001b[32m207.5/207.5 MB\u001b[0m \u001b[31m5.2 MB/s\u001b[0m eta \u001b[36m0:00:00\u001b[0m\n",
            "\u001b[?25hDownloading nvidia_nvjitlink_cu12-12.4.127-py3-none-manylinux2014_x86_64.whl (21.1 MB)\n",
            "\u001b[2K   \u001b[90m━━━━━━━━━━━━━━━━━━━━━━━━━━━━━━━━━━━━━━━━\u001b[0m \u001b[32m21.1/21.1 MB\u001b[0m \u001b[31m58.5 MB/s\u001b[0m eta \u001b[36m0:00:00\u001b[0m\n",
            "\u001b[?25hDownloading ultralytics_thop-2.0.14-py3-none-any.whl (26 kB)\n",
            "Installing collected packages: nvidia-nvjitlink-cu12, nvidia-curand-cu12, nvidia-cufft-cu12, nvidia-cuda-runtime-cu12, nvidia-cuda-nvrtc-cu12, nvidia-cuda-cupti-cu12, nvidia-cublas-cu12, nvidia-cusparse-cu12, nvidia-cudnn-cu12, nvidia-cusolver-cu12, ultralytics-thop, ultralytics\n",
            "  Attempting uninstall: nvidia-nvjitlink-cu12\n",
            "    Found existing installation: nvidia-nvjitlink-cu12 12.5.82\n",
            "    Uninstalling nvidia-nvjitlink-cu12-12.5.82:\n",
            "      Successfully uninstalled nvidia-nvjitlink-cu12-12.5.82\n",
            "  Attempting uninstall: nvidia-curand-cu12\n",
            "    Found existing installation: nvidia-curand-cu12 10.3.6.82\n",
            "    Uninstalling nvidia-curand-cu12-10.3.6.82:\n",
            "      Successfully uninstalled nvidia-curand-cu12-10.3.6.82\n",
            "  Attempting uninstall: nvidia-cufft-cu12\n",
            "    Found existing installation: nvidia-cufft-cu12 11.2.3.61\n",
            "    Uninstalling nvidia-cufft-cu12-11.2.3.61:\n",
            "      Successfully uninstalled nvidia-cufft-cu12-11.2.3.61\n",
            "  Attempting uninstall: nvidia-cuda-runtime-cu12\n",
            "    Found existing installation: nvidia-cuda-runtime-cu12 12.5.82\n",
            "    Uninstalling nvidia-cuda-runtime-cu12-12.5.82:\n",
            "      Successfully uninstalled nvidia-cuda-runtime-cu12-12.5.82\n",
            "  Attempting uninstall: nvidia-cuda-nvrtc-cu12\n",
            "    Found existing installation: nvidia-cuda-nvrtc-cu12 12.5.82\n",
            "    Uninstalling nvidia-cuda-nvrtc-cu12-12.5.82:\n",
            "      Successfully uninstalled nvidia-cuda-nvrtc-cu12-12.5.82\n",
            "  Attempting uninstall: nvidia-cuda-cupti-cu12\n",
            "    Found existing installation: nvidia-cuda-cupti-cu12 12.5.82\n",
            "    Uninstalling nvidia-cuda-cupti-cu12-12.5.82:\n",
            "      Successfully uninstalled nvidia-cuda-cupti-cu12-12.5.82\n",
            "  Attempting uninstall: nvidia-cublas-cu12\n",
            "    Found existing installation: nvidia-cublas-cu12 12.5.3.2\n",
            "    Uninstalling nvidia-cublas-cu12-12.5.3.2:\n",
            "      Successfully uninstalled nvidia-cublas-cu12-12.5.3.2\n",
            "  Attempting uninstall: nvidia-cusparse-cu12\n",
            "    Found existing installation: nvidia-cusparse-cu12 12.5.1.3\n",
            "    Uninstalling nvidia-cusparse-cu12-12.5.1.3:\n",
            "      Successfully uninstalled nvidia-cusparse-cu12-12.5.1.3\n",
            "  Attempting uninstall: nvidia-cudnn-cu12\n",
            "    Found existing installation: nvidia-cudnn-cu12 9.3.0.75\n",
            "    Uninstalling nvidia-cudnn-cu12-9.3.0.75:\n",
            "      Successfully uninstalled nvidia-cudnn-cu12-9.3.0.75\n",
            "  Attempting uninstall: nvidia-cusolver-cu12\n",
            "    Found existing installation: nvidia-cusolver-cu12 11.6.3.83\n",
            "    Uninstalling nvidia-cusolver-cu12-11.6.3.83:\n",
            "      Successfully uninstalled nvidia-cusolver-cu12-11.6.3.83\n",
            "Successfully installed nvidia-cublas-cu12-12.4.5.8 nvidia-cuda-cupti-cu12-12.4.127 nvidia-cuda-nvrtc-cu12-12.4.127 nvidia-cuda-runtime-cu12-12.4.127 nvidia-cudnn-cu12-9.1.0.70 nvidia-cufft-cu12-11.2.1.3 nvidia-curand-cu12-10.3.5.147 nvidia-cusolver-cu12-11.6.1.9 nvidia-cusparse-cu12-12.3.1.170 nvidia-nvjitlink-cu12-12.4.127 ultralytics-8.3.82 ultralytics-thop-2.0.14\n"
          ]
        }
      ],
      "source": [
        "!pip install ultralytics"
      ]
    },
    {
      "cell_type": "code",
      "source": [
        "import os\n",
        "import random\n",
        "import time\n",
        "import shutil\n",
        "import yaml\n",
        "import xml.etree.ElementTree as ET\n",
        "\n",
        "import cv2\n",
        "import matplotlib.pyplot as plt\n",
        "import numpy as np\n",
        "import timm\n",
        "import torch\n",
        "import torch.nn as nn\n",
        "import torchvision\n",
        "from PIL import Image\n",
        "from sklearn.model_selection import train_test_split\n",
        "from torch.nn import functional as F\n",
        "from torch.utils.data import DataLoader, Dataset\n",
        "from torchvision import transforms"
      ],
      "metadata": {
        "id": "OGtcU5-FSh5Y"
      },
      "execution_count": null,
      "outputs": []
    },
    {
      "cell_type": "markdown",
      "source": [
        "# Prepare Data"
      ],
      "metadata": {
        "id": "Z19iDEyZRpVf"
      }
    },
    {
      "cell_type": "markdown",
      "source": [
        "## Download data"
      ],
      "metadata": {
        "id": "0G2kipAJRyXu"
      }
    },
    {
      "cell_type": "code",
      "source": [
        "!gdown 1kUy2tuH-kKBlFCNA0a9sqD2TG4uyvBnV"
      ],
      "metadata": {
        "colab": {
          "base_uri": "https://localhost:8080/"
        },
        "id": "OPQ5ohKvRaCI",
        "outputId": "bd2d989c-ecb0-4c14-b34f-04b00c33190a"
      },
      "execution_count": null,
      "outputs": [
        {
          "output_type": "stream",
          "name": "stdout",
          "text": [
            "Downloading...\n",
            "From (original): https://drive.google.com/uc?id=1kUy2tuH-kKBlFCNA0a9sqD2TG4uyvBnV\n",
            "From (redirected): https://drive.google.com/uc?id=1kUy2tuH-kKBlFCNA0a9sqD2TG4uyvBnV&confirm=t&uuid=7e5564a9-22d7-4193-8d9a-5812b8c88b81\n",
            "To: /content/icdar2003.zip\n",
            "100% 45.7M/45.7M [00:01<00:00, 43.8MB/s]\n"
          ]
        }
      ]
    },
    {
      "cell_type": "code",
      "source": [
        "!unzip icdar2003.zip"
      ],
      "metadata": {
        "colab": {
          "base_uri": "https://localhost:8080/"
        },
        "id": "wQ3dmU0fRgaS",
        "outputId": "7518f797-00b6-4fa8-d54c-e119e6930c12"
      },
      "execution_count": null,
      "outputs": [
        {
          "output_type": "stream",
          "name": "stdout",
          "text": [
            "Archive:  icdar2003.zip\n",
            "   creating: SceneTrialTrain/apanar_06.08.2002/\n",
            "  inflating: SceneTrialTrain/apanar_06.08.2002/IMG_1247.JPG  \n",
            "  inflating: SceneTrialTrain/apanar_06.08.2002/IMG_1252.JPG  \n",
            "  inflating: SceneTrialTrain/apanar_06.08.2002/IMG_1253.JPG  \n",
            "  inflating: SceneTrialTrain/apanar_06.08.2002/IMG_1255.JPG  \n",
            "  inflating: SceneTrialTrain/apanar_06.08.2002/IMG_1259.JPG  \n",
            "  inflating: SceneTrialTrain/apanar_06.08.2002/IMG_1261.JPG  \n",
            "  inflating: SceneTrialTrain/apanar_06.08.2002/IMG_1263.JPG  \n",
            "  inflating: SceneTrialTrain/apanar_06.08.2002/IMG_1265.JPG  \n",
            "  inflating: SceneTrialTrain/apanar_06.08.2002/IMG_1269.JPG  \n",
            "  inflating: SceneTrialTrain/apanar_06.08.2002/IMG_1281.JPG  \n",
            "  inflating: SceneTrialTrain/apanar_06.08.2002/IMG_1282.JPG  \n",
            "  inflating: SceneTrialTrain/apanar_06.08.2002/IMG_1283.JPG  \n",
            "  inflating: SceneTrialTrain/apanar_06.08.2002/IMG_1284.JPG  \n",
            "  inflating: SceneTrialTrain/apanar_06.08.2002/IMG_1285.JPG  \n",
            "  inflating: SceneTrialTrain/apanar_06.08.2002/IMG_1286.JPG  \n",
            "  inflating: SceneTrialTrain/apanar_06.08.2002/IMG_1288.JPG  \n",
            "  inflating: SceneTrialTrain/apanar_06.08.2002/IMG_1289.JPG  \n",
            "  inflating: SceneTrialTrain/apanar_06.08.2002/IMG_1290.JPG  \n",
            "  inflating: SceneTrialTrain/apanar_06.08.2002/IMG_1291.JPG  \n",
            "  inflating: SceneTrialTrain/apanar_06.08.2002/IMG_1292.JPG  \n",
            "  inflating: SceneTrialTrain/apanar_06.08.2002/IMG_1293.JPG  \n",
            "  inflating: SceneTrialTrain/apanar_06.08.2002/IMG_1294.JPG  \n",
            "  inflating: SceneTrialTrain/apanar_06.08.2002/IMG_1298.JPG  \n",
            "  inflating: SceneTrialTrain/apanar_06.08.2002/IMG_1299.JPG  \n",
            "  inflating: SceneTrialTrain/apanar_06.08.2002/IMG_1300.JPG  \n",
            "  inflating: SceneTrialTrain/apanar_06.08.2002/IMG_1301.JPG  \n",
            "  inflating: SceneTrialTrain/apanar_06.08.2002/IMG_1302.JPG  \n",
            "  inflating: SceneTrialTrain/apanar_06.08.2002/IMG_1303.JPG  \n",
            "  inflating: SceneTrialTrain/apanar_06.08.2002/IMG_1304.JPG  \n",
            "  inflating: SceneTrialTrain/apanar_06.08.2002/Img_1305.jpg  \n",
            "  inflating: SceneTrialTrain/apanar_06.08.2002/IMG_1306.JPG  \n",
            "  inflating: SceneTrialTrain/apanar_06.08.2002/IMG_1307.JPG  \n",
            "  inflating: SceneTrialTrain/apanar_06.08.2002/IMG_1308.JPG  \n",
            "  inflating: SceneTrialTrain/apanar_06.08.2002/IMG_1311.JPG  \n",
            "  inflating: SceneTrialTrain/apanar_06.08.2002/IMG_1312.JPG  \n",
            "  inflating: SceneTrialTrain/apanar_06.08.2002/Img_1313.jpg  \n",
            "  inflating: SceneTrialTrain/apanar_06.08.2002/IMG_1315.JPG  \n",
            "  inflating: SceneTrialTrain/apanar_06.08.2002/IMG_1316.JPG  \n",
            "  inflating: SceneTrialTrain/apanar_06.08.2002/IMG_1317.JPG  \n",
            "   creating: SceneTrialTrain/lfsosa_12.08.2002/\n",
            "  inflating: SceneTrialTrain/lfsosa_12.08.2002/IMG_2013.jpg  \n",
            "  inflating: SceneTrialTrain/lfsosa_12.08.2002/IMG_2460.JPG  \n",
            "  inflating: SceneTrialTrain/lfsosa_12.08.2002/IMG_2461.JPG  \n",
            "  inflating: SceneTrialTrain/lfsosa_12.08.2002/IMG_2462.JPG  \n",
            "  inflating: SceneTrialTrain/lfsosa_12.08.2002/IMG_2463.JPG  \n",
            "  inflating: SceneTrialTrain/lfsosa_12.08.2002/IMG_2464.JPG  \n",
            "  inflating: SceneTrialTrain/lfsosa_12.08.2002/IMG_2466.JPG  \n",
            "  inflating: SceneTrialTrain/lfsosa_12.08.2002/IMG_2468.JPG  \n",
            "  inflating: SceneTrialTrain/lfsosa_12.08.2002/IMG_2469.JPG  \n",
            "  inflating: SceneTrialTrain/lfsosa_12.08.2002/IMG_2471.JPG  \n",
            "  inflating: SceneTrialTrain/lfsosa_12.08.2002/IMG_2472.JPG  \n",
            "  inflating: SceneTrialTrain/lfsosa_12.08.2002/IMG_2473.JPG  \n",
            "  inflating: SceneTrialTrain/lfsosa_12.08.2002/IMG_2474.JPG  \n",
            "  inflating: SceneTrialTrain/lfsosa_12.08.2002/IMG_2476.JPG  \n",
            "  inflating: SceneTrialTrain/lfsosa_12.08.2002/IMG_2477.JPG  \n",
            "  inflating: SceneTrialTrain/lfsosa_12.08.2002/IMG_2478.JPG  \n",
            "  inflating: SceneTrialTrain/lfsosa_12.08.2002/IMG_2479.JPG  \n",
            "  inflating: SceneTrialTrain/lfsosa_12.08.2002/IMG_2480.JPG  \n",
            "  inflating: SceneTrialTrain/lfsosa_12.08.2002/IMG_2481.JPG  \n",
            "  inflating: SceneTrialTrain/lfsosa_12.08.2002/IMG_2482.JPG  \n",
            "  inflating: SceneTrialTrain/lfsosa_12.08.2002/IMG_2483.JPG  \n",
            "  inflating: SceneTrialTrain/lfsosa_12.08.2002/IMG_2484.JPG  \n",
            "  inflating: SceneTrialTrain/lfsosa_12.08.2002/IMG_2485.JPG  \n",
            "  inflating: SceneTrialTrain/lfsosa_12.08.2002/IMG_2486.JPG  \n",
            "  inflating: SceneTrialTrain/lfsosa_12.08.2002/IMG_2487.JPG  \n",
            "  inflating: SceneTrialTrain/lfsosa_12.08.2002/IMG_2488.JPG  \n",
            "  inflating: SceneTrialTrain/lfsosa_12.08.2002/IMG_2489.JPG  \n",
            "  inflating: SceneTrialTrain/lfsosa_12.08.2002/IMG_2490.JPG  \n",
            "  inflating: SceneTrialTrain/lfsosa_12.08.2002/IMG_2491.JPG  \n",
            "  inflating: SceneTrialTrain/lfsosa_12.08.2002/IMG_2493.JPG  \n",
            "  inflating: SceneTrialTrain/lfsosa_12.08.2002/IMG_2495.JPG  \n",
            "  inflating: SceneTrialTrain/lfsosa_12.08.2002/IMG_2498.JPG  \n",
            "  inflating: SceneTrialTrain/lfsosa_12.08.2002/IMG_2499.JPG  \n",
            "  inflating: SceneTrialTrain/lfsosa_12.08.2002/IMG_2500.JPG  \n",
            "  inflating: SceneTrialTrain/lfsosa_12.08.2002/IMG_2501.JPG  \n",
            "  inflating: SceneTrialTrain/lfsosa_12.08.2002/IMG_2502.JPG  \n",
            "  inflating: SceneTrialTrain/lfsosa_12.08.2002/IMG_2503.JPG  \n",
            "  inflating: SceneTrialTrain/lfsosa_12.08.2002/IMG_2504.JPG  \n",
            "  inflating: SceneTrialTrain/lfsosa_12.08.2002/IMG_2505.JPG  \n",
            "  inflating: SceneTrialTrain/lfsosa_12.08.2002/IMG_2506.JPG  \n",
            "  inflating: SceneTrialTrain/lfsosa_12.08.2002/IMG_2507.JPG  \n",
            "  inflating: SceneTrialTrain/lfsosa_12.08.2002/IMG_2508.JPG  \n",
            "  inflating: SceneTrialTrain/lfsosa_12.08.2002/IMG_2509.JPG  \n",
            "  inflating: SceneTrialTrain/lfsosa_12.08.2002/IMG_2510.JPG  \n",
            "  inflating: SceneTrialTrain/lfsosa_12.08.2002/IMG_2511.JPG  \n",
            "  inflating: SceneTrialTrain/lfsosa_12.08.2002/IMG_2512.JPG  \n",
            "  inflating: SceneTrialTrain/lfsosa_12.08.2002/IMG_2513.JPG  \n",
            "  inflating: SceneTrialTrain/lfsosa_12.08.2002/IMG_2514.JPG  \n",
            "  inflating: SceneTrialTrain/lfsosa_12.08.2002/IMG_2516.JPG  \n",
            "  inflating: SceneTrialTrain/lfsosa_12.08.2002/IMG_2518.JPG  \n",
            "  inflating: SceneTrialTrain/lfsosa_12.08.2002/IMG_2519.JPG  \n",
            "  inflating: SceneTrialTrain/lfsosa_12.08.2002/IMG_2520.JPG  \n",
            "  inflating: SceneTrialTrain/lfsosa_12.08.2002/IMG_2521.JPG  \n",
            "  inflating: SceneTrialTrain/lfsosa_12.08.2002/IMG_2522.JPG  \n",
            "  inflating: SceneTrialTrain/lfsosa_12.08.2002/IMG_2523.JPG  \n",
            "  inflating: SceneTrialTrain/lfsosa_12.08.2002/IMG_2524.JPG  \n",
            "  inflating: SceneTrialTrain/lfsosa_12.08.2002/IMG_2525.JPG  \n",
            "  inflating: SceneTrialTrain/lfsosa_12.08.2002/IMG_2526.JPG  \n",
            "  inflating: SceneTrialTrain/lfsosa_12.08.2002/IMG_2528.JPG  \n",
            "  inflating: SceneTrialTrain/lfsosa_12.08.2002/IMG_2530.JPG  \n",
            "  inflating: SceneTrialTrain/lfsosa_12.08.2002/IMG_2531.JPG  \n",
            "  inflating: SceneTrialTrain/lfsosa_12.08.2002/IMG_2532.JPG  \n",
            "  inflating: SceneTrialTrain/lfsosa_12.08.2002/IMG_2533.JPG  \n",
            "  inflating: SceneTrialTrain/lfsosa_12.08.2002/IMG_2534.JPG  \n",
            "  inflating: SceneTrialTrain/lfsosa_12.08.2002/IMG_2535.JPG  \n",
            "  inflating: SceneTrialTrain/lfsosa_12.08.2002/IMG_2536.JPG  \n",
            "  inflating: SceneTrialTrain/lfsosa_12.08.2002/IMG_2537.JPG  \n",
            "  inflating: SceneTrialTrain/lfsosa_12.08.2002/IMG_2538.JPG  \n",
            "  inflating: SceneTrialTrain/lfsosa_12.08.2002/IMG_2539.JPG  \n",
            "  inflating: SceneTrialTrain/lfsosa_12.08.2002/IMG_2540.JPG  \n",
            "  inflating: SceneTrialTrain/lfsosa_12.08.2002/IMG_2541.JPG  \n",
            "  inflating: SceneTrialTrain/lfsosa_12.08.2002/IMG_2542.JPG  \n",
            "  inflating: SceneTrialTrain/lfsosa_12.08.2002/IMG_2543.JPG  \n",
            "  inflating: SceneTrialTrain/lfsosa_12.08.2002/IMG_2544.JPG  \n",
            "  inflating: SceneTrialTrain/lfsosa_12.08.2002/IMG_2545.JPG  \n",
            "  inflating: SceneTrialTrain/lfsosa_12.08.2002/IMG_2546.JPG  \n",
            "  inflating: SceneTrialTrain/lfsosa_12.08.2002/IMG_2547.JPG  \n",
            "  inflating: SceneTrialTrain/lfsosa_12.08.2002/IMG_2548.JPG  \n",
            "  inflating: SceneTrialTrain/lfsosa_12.08.2002/IMG_2549.JPG  \n",
            "  inflating: SceneTrialTrain/lfsosa_12.08.2002/IMG_2550.JPG  \n",
            "  inflating: SceneTrialTrain/lfsosa_12.08.2002/IMG_2552.JPG  \n",
            "  inflating: SceneTrialTrain/lfsosa_12.08.2002/IMG_2553.JPG  \n",
            "  inflating: SceneTrialTrain/lfsosa_12.08.2002/IMG_2554.JPG  \n",
            "  inflating: SceneTrialTrain/lfsosa_12.08.2002/IMG_2555.JPG  \n",
            "  inflating: SceneTrialTrain/lfsosa_12.08.2002/IMG_2556.JPG  \n",
            "  inflating: SceneTrialTrain/lfsosa_12.08.2002/IMG_2557.JPG  \n",
            "  inflating: SceneTrialTrain/lfsosa_12.08.2002/IMG_2558.JPG  \n",
            "  inflating: SceneTrialTrain/lfsosa_12.08.2002/IMG_2559.JPG  \n",
            "  inflating: SceneTrialTrain/lfsosa_12.08.2002/IMG_2560.JPG  \n",
            "  inflating: SceneTrialTrain/lfsosa_12.08.2002/IMG_2561.JPG  \n",
            "  inflating: SceneTrialTrain/lfsosa_12.08.2002/IMG_2564.JPG  \n",
            "  inflating: SceneTrialTrain/lfsosa_12.08.2002/IMG_2565.JPG  \n",
            "  inflating: SceneTrialTrain/lfsosa_12.08.2002/IMG_2566.JPG  \n",
            "  inflating: SceneTrialTrain/lfsosa_12.08.2002/IMG_2567.JPG  \n",
            "  inflating: SceneTrialTrain/lfsosa_12.08.2002/IMG_2569.JPG  \n",
            "  inflating: SceneTrialTrain/lfsosa_12.08.2002/IMG_2571.JPG  \n",
            "  inflating: SceneTrialTrain/lfsosa_12.08.2002/IMG_2572.JPG  \n",
            "  inflating: SceneTrialTrain/lfsosa_12.08.2002/IMG_2573.JPG  \n",
            "  inflating: SceneTrialTrain/lfsosa_12.08.2002/IMG_2575.JPG  \n",
            "  inflating: SceneTrialTrain/lfsosa_12.08.2002/IMG_2583.JPG  \n",
            "  inflating: SceneTrialTrain/lfsosa_12.08.2002/IMG_2584.JPG  \n",
            "  inflating: SceneTrialTrain/lfsosa_12.08.2002/IMG_2585.JPG  \n",
            "  inflating: SceneTrialTrain/lfsosa_12.08.2002/IMG_2586.JPG  \n",
            "  inflating: SceneTrialTrain/lfsosa_12.08.2002/IMG_2588.JPG  \n",
            "  inflating: SceneTrialTrain/lfsosa_12.08.2002/IMG_2591.JPG  \n",
            "  inflating: SceneTrialTrain/lfsosa_12.08.2002/IMG_2593.JPG  \n",
            "  inflating: SceneTrialTrain/lfsosa_12.08.2002/IMG_2594.JPG  \n",
            "  inflating: SceneTrialTrain/lfsosa_12.08.2002/IMG_2595.JPG  \n",
            "  inflating: SceneTrialTrain/lfsosa_12.08.2002/IMG_2597.JPG  \n",
            "  inflating: SceneTrialTrain/lfsosa_12.08.2002/IMG_2598.JPG  \n",
            "  inflating: SceneTrialTrain/lfsosa_12.08.2002/IMG_2599.JPG  \n",
            "  inflating: SceneTrialTrain/lfsosa_12.08.2002/IMG_2600.JPG  \n",
            "  inflating: SceneTrialTrain/lfsosa_12.08.2002/IMG_2604.JPG  \n",
            "  inflating: SceneTrialTrain/lfsosa_12.08.2002/IMG_2605.JPG  \n",
            "  inflating: SceneTrialTrain/lfsosa_12.08.2002/IMG_2606.JPG  \n",
            "  inflating: SceneTrialTrain/lfsosa_12.08.2002/IMG_2607.JPG  \n",
            "  inflating: SceneTrialTrain/lfsosa_12.08.2002/IMG_2612.JPG  \n",
            "  inflating: SceneTrialTrain/lfsosa_12.08.2002/IMG_2613.JPG  \n",
            "  inflating: SceneTrialTrain/lfsosa_12.08.2002/IMG_2614.JPG  \n",
            "  inflating: SceneTrialTrain/lfsosa_12.08.2002/IMG_2615.JPG  \n",
            "  inflating: SceneTrialTrain/lfsosa_12.08.2002/IMG_2616.JPG  \n",
            "  inflating: SceneTrialTrain/lfsosa_12.08.2002/IMG_2617.JPG  \n",
            "  inflating: SceneTrialTrain/lfsosa_12.08.2002/IMG_2618.JPG  \n",
            "  inflating: SceneTrialTrain/lfsosa_12.08.2002/IMG_2619.JPG  \n",
            "  inflating: SceneTrialTrain/lfsosa_12.08.2002/IMG_2620.JPG  \n",
            "  inflating: SceneTrialTrain/lfsosa_12.08.2002/IMG_2622.JPG  \n",
            "  inflating: SceneTrialTrain/lfsosa_12.08.2002/IMG_2624.JPG  \n",
            "  inflating: SceneTrialTrain/lfsosa_12.08.2002/IMG_2626.JPG  \n",
            "  inflating: SceneTrialTrain/lfsosa_12.08.2002/IMG_2627.JPG  \n",
            "  inflating: SceneTrialTrain/lfsosa_12.08.2002/IMG_2628.JPG  \n",
            "  inflating: SceneTrialTrain/lfsosa_12.08.2002/IMG_2629.JPG  \n",
            "  inflating: SceneTrialTrain/lfsosa_12.08.2002/IMG_2630.JPG  \n",
            "  inflating: SceneTrialTrain/lfsosa_12.08.2002/IMG_2631.JPG  \n",
            "  inflating: SceneTrialTrain/lfsosa_12.08.2002/IMG_2633.JPG  \n",
            "  inflating: SceneTrialTrain/lfsosa_12.08.2002/IMG_2634.JPG  \n",
            "  inflating: SceneTrialTrain/lfsosa_12.08.2002/IMG_2635.JPG  \n",
            "  inflating: SceneTrialTrain/lfsosa_12.08.2002/IMG_2637.JPG  \n",
            "  inflating: SceneTrialTrain/lfsosa_12.08.2002/IMG_2638.JPG  \n",
            "  inflating: SceneTrialTrain/lfsosa_12.08.2002/IMG_2639.JPG  \n",
            "  inflating: SceneTrialTrain/lfsosa_12.08.2002/IMG_2640.JPG  \n",
            "  inflating: SceneTrialTrain/lfsosa_12.08.2002/IMG_2641.JPG  \n",
            "  inflating: SceneTrialTrain/lfsosa_12.08.2002/IMG_2642.JPG  \n",
            "  inflating: SceneTrialTrain/lfsosa_12.08.2002/IMG_2643.JPG  \n",
            "  inflating: SceneTrialTrain/lfsosa_12.08.2002/IMG_2644.JPG  \n",
            "  inflating: SceneTrialTrain/lfsosa_12.08.2002/IMG_2645.JPG  \n",
            "  inflating: SceneTrialTrain/lfsosa_12.08.2002/IMG_2646.JPG  \n",
            "  inflating: SceneTrialTrain/lfsosa_12.08.2002/IMG_2647.JPG  \n",
            "  inflating: SceneTrialTrain/lfsosa_12.08.2002/IMG_2648.JPG  \n",
            "  inflating: SceneTrialTrain/lfsosa_12.08.2002/IMG_2653.JPG  \n",
            "  inflating: SceneTrialTrain/lfsosa_12.08.2002/IMG_2654.JPG  \n",
            "  inflating: SceneTrialTrain/lfsosa_12.08.2002/IMG_2655.JPG  \n",
            "  inflating: SceneTrialTrain/lfsosa_12.08.2002/IMG_2657.JPG  \n",
            "  inflating: SceneTrialTrain/lfsosa_12.08.2002/IMG_2658.JPG  \n",
            "  inflating: SceneTrialTrain/lfsosa_12.08.2002/IMG_2659.JPG  \n",
            "  inflating: SceneTrialTrain/lfsosa_12.08.2002/IMG_2660.JPG  \n",
            "  inflating: SceneTrialTrain/lfsosa_12.08.2002/IMG_2661.JPG  \n",
            "  inflating: SceneTrialTrain/lfsosa_12.08.2002/IMG_2662.JPG  \n",
            "  inflating: SceneTrialTrain/lfsosa_12.08.2002/IMG_2663.JPG  \n",
            "  inflating: SceneTrialTrain/lfsosa_12.08.2002/IMG_2664.JPG  \n",
            "  inflating: SceneTrialTrain/lfsosa_12.08.2002/IMG_2666.JPG  \n",
            "  inflating: SceneTrialTrain/lfsosa_12.08.2002/IMG_2667.JPG  \n",
            "  inflating: SceneTrialTrain/lfsosa_12.08.2002/IMG_2668.JPG  \n",
            "  inflating: SceneTrialTrain/lfsosa_12.08.2002/IMG_2669.JPG  \n",
            "  inflating: SceneTrialTrain/lfsosa_12.08.2002/IMG_2670.JPG  \n",
            "  inflating: SceneTrialTrain/lfsosa_12.08.2002/IMG_2671.JPG  \n",
            "  inflating: SceneTrialTrain/lfsosa_12.08.2002/IMG_2672.JPG  \n",
            "  inflating: SceneTrialTrain/lfsosa_12.08.2002/IMG_2673.JPG  \n",
            "  inflating: SceneTrialTrain/lfsosa_12.08.2002/IMG_2674.JPG  \n",
            "  inflating: SceneTrialTrain/lfsosa_12.08.2002/IMG_2675.JPG  \n",
            "  inflating: SceneTrialTrain/lfsosa_12.08.2002/IMG_2676.JPG  \n",
            "  inflating: SceneTrialTrain/lfsosa_12.08.2002/IMG_2678.JPG  \n",
            "  inflating: SceneTrialTrain/lfsosa_12.08.2002/IMG_2679.JPG  \n",
            "  inflating: SceneTrialTrain/lfsosa_12.08.2002/IMG_2682.JPG  \n",
            "  inflating: SceneTrialTrain/lfsosa_12.08.2002/IMG_2683.JPG  \n",
            "  inflating: SceneTrialTrain/locations.xml  \n",
            "   creating: SceneTrialTrain/ryoungt_03.09.2002/\n",
            "  inflating: SceneTrialTrain/ryoungt_03.09.2002/036._.jpg  \n",
            "  inflating: SceneTrialTrain/ryoungt_03.09.2002/ball.jpg  \n",
            "  inflating: SceneTrialTrain/ryoungt_03.09.2002/benone.jpg  \n",
            "  inflating: SceneTrialTrain/ryoungt_03.09.2002/from_joanne.jpg  \n",
            "  inflating: SceneTrialTrain/ryoungt_03.09.2002/goose.jpg  \n",
            "  inflating: SceneTrialTrain/ryoungt_03.09.2002/mach.jpg  \n",
            "  inflating: SceneTrialTrain/ryoungt_03.09.2002/PICT0004.JPG  \n",
            "  inflating: SceneTrialTrain/ryoungt_03.09.2002/PICT0005.JPG  \n",
            "  inflating: SceneTrialTrain/ryoungt_03.09.2002/PICT0010.JPG  \n",
            "  inflating: SceneTrialTrain/ryoungt_03.09.2002/PICT0011.JPG  \n",
            "  inflating: SceneTrialTrain/ryoungt_03.09.2002/PICT0015.JPG  \n",
            "  inflating: SceneTrialTrain/ryoungt_03.09.2002/PICT0019.JPG  \n",
            "  inflating: SceneTrialTrain/ryoungt_03.09.2002/Pict0020.jpg  \n",
            "  inflating: SceneTrialTrain/ryoungt_03.09.2002/PICT0022.JPG  \n",
            "  inflating: SceneTrialTrain/ryoungt_03.09.2002/PICT0023.JPG  \n",
            "  inflating: SceneTrialTrain/ryoungt_03.09.2002/PICT0025.JPG  \n",
            "  inflating: SceneTrialTrain/ryoungt_03.09.2002/PICT0026.JPG  \n",
            "  inflating: SceneTrialTrain/ryoungt_03.09.2002/PICT0029.JPG  \n",
            "  inflating: SceneTrialTrain/ryoungt_03.09.2002/PICT0030.JPG  \n",
            "  inflating: SceneTrialTrain/ryoungt_03.09.2002/PICT0031.JPG  \n",
            "  inflating: SceneTrialTrain/ryoungt_03.09.2002/PICT0042.JPG  \n",
            "  inflating: SceneTrialTrain/ryoungt_03.09.2002/PICT0043.JPG  \n",
            "  inflating: SceneTrialTrain/ryoungt_03.09.2002/PICT0048.JPG  \n",
            "  inflating: SceneTrialTrain/ryoungt_03.09.2002/PICT0049.JPG  \n",
            "  inflating: SceneTrialTrain/ryoungt_03.09.2002/PICT0052.JPG  \n",
            "   creating: SceneTrialTrain/ryoungt_05.08.2002/\n",
            "  inflating: SceneTrialTrain/ryoungt_05.08.2002/052.Kungstradgarden.jpg  \n",
            "  inflating: SceneTrialTrain/ryoungt_05.08.2002/abPICT0005.JPG  \n",
            "  inflating: SceneTrialTrain/ryoungt_05.08.2002/aPICT0001.JPG  \n",
            "  inflating: SceneTrialTrain/ryoungt_05.08.2002/aPICT0002.JPG  \n",
            "  inflating: SceneTrialTrain/ryoungt_05.08.2002/aPICT0004.JPG  \n",
            "  inflating: SceneTrialTrain/ryoungt_05.08.2002/aPICT0006.JPG  \n",
            "  inflating: SceneTrialTrain/ryoungt_05.08.2002/aPICT0007.JPG  \n",
            "  inflating: SceneTrialTrain/ryoungt_05.08.2002/aPICT0010.JPG  \n",
            "  inflating: SceneTrialTrain/ryoungt_05.08.2002/aPICT0011.JPG  \n",
            "  inflating: SceneTrialTrain/ryoungt_05.08.2002/aPICT0013.JPG  \n",
            "  inflating: SceneTrialTrain/ryoungt_05.08.2002/aPICT0014.JPG  \n",
            "  inflating: SceneTrialTrain/ryoungt_05.08.2002/aPICT0017.JPG  \n",
            "  inflating: SceneTrialTrain/ryoungt_05.08.2002/aPICT0018.JPG  \n",
            "  inflating: SceneTrialTrain/ryoungt_05.08.2002/aPICT0020.JPG  \n",
            "  inflating: SceneTrialTrain/ryoungt_05.08.2002/aPICT0021.JPG  \n",
            "  inflating: SceneTrialTrain/ryoungt_05.08.2002/aPICT0023.JPG  \n",
            "  inflating: SceneTrialTrain/ryoungt_05.08.2002/aPICT0024.JPG  \n",
            "  inflating: SceneTrialTrain/ryoungt_05.08.2002/aPICT0025.JPG  \n",
            "  inflating: SceneTrialTrain/ryoungt_05.08.2002/aPICT0026.JPG  \n",
            "  inflating: SceneTrialTrain/ryoungt_05.08.2002/aPICT0027.JPG  \n",
            "  inflating: SceneTrialTrain/segmentation.xml  \n",
            "  inflating: SceneTrialTrain/words.xml  \n"
          ]
        }
      ]
    },
    {
      "cell_type": "markdown",
      "source": [
        "##Extract from .xml files"
      ],
      "metadata": {
        "id": "eT5XcRMNR6no"
      }
    },
    {
      "cell_type": "markdown",
      "source": [
        "![image.png](data:image/png;base64,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)\n",
        "\n",
        "Structure of the file, including image path, bounding rect,..."
      ],
      "metadata": {
        "id": "2KDeaNJlTEwY"
      }
    },
    {
      "cell_type": "code",
      "source": [
        "def extract_data_from_xml(path):\n",
        "    tree = ET.parse(path)\n",
        "    root = tree.getroot()\n",
        "\n",
        "    image_paths = []\n",
        "    image_sizes = []\n",
        "    image_labels = []\n",
        "    bounding_boxes = []\n",
        "\n",
        "    for image in root:\n",
        "        bbs_of_image = []\n",
        "        labels_of_image = []\n",
        "\n",
        "        for bbs in image.findall(\"taggedRectangles\"):\n",
        "            for bb in bbs:\n",
        "                # check non-alphabet and non-number\n",
        "                if not bb[0].text.isalnum():\n",
        "                    continue\n",
        "\n",
        "                if \"é\" in bb[0].text.lower() or \"ñ\" in bb[0].text.lower():\n",
        "                    continue\n",
        "\n",
        "                bbs_of_image.append(\n",
        "                    [\n",
        "                        float(bb.attrib[\"x\"]),\n",
        "                        float(bb.attrib[\"y\"]),\n",
        "                        float(bb.attrib[\"width\"]),\n",
        "                        float(bb.attrib[\"height\"]),\n",
        "                    ]\n",
        "                )\n",
        "                labels_of_image.append(bb[0].text.lower())\n",
        "\n",
        "        # Store\n",
        "        image_paths.append(image[0].text)\n",
        "        image_sizes.append((int(image[1].attrib[\"x\"]), int(image[1].attrib[\"y\"])))\n",
        "        bounding_boxes.append(bbs_of_image)\n",
        "        image_labels.append(labels_of_image)\n",
        "\n",
        "    return image_paths, image_sizes, image_labels, bounding_boxes"
      ],
      "metadata": {
        "id": "ul8-PqBdRv1f"
      },
      "execution_count": null,
      "outputs": []
    },
    {
      "cell_type": "code",
      "source": [
        "dataset_dir = \"SceneTrialTrain\"\n",
        "words_xml_path = os.path.join(dataset_dir, \"words.xml\")\n",
        "img_paths, img_sizes, img_labels, bboxes = extract_data_from_xml(\n",
        "    words_xml_path\n",
        ")"
      ],
      "metadata": {
        "id": "lr7IzsupbGwP"
      },
      "execution_count": null,
      "outputs": []
    },
    {
      "cell_type": "markdown",
      "source": [
        "##Convert data to YOLOv11 format"
      ],
      "metadata": {
        "id": "ax7GVFZFdZXE"
      }
    },
    {
      "cell_type": "markdown",
      "source": [
        "![image.png](data:image/png;base64,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)\n",
        "\n",
        "In this case, the label will be the coordinates of the bounding boxes"
      ],
      "metadata": {
        "id": "rz3faRzudfqL"
      }
    },
    {
      "cell_type": "code",
      "source": [
        "def convert_to_yolo_format(img_paths, img_sizes, bboxes):\n",
        "    yolo_data = []\n",
        "\n",
        "    for img_path, img_size, bbox in zip(img_paths, img_sizes, bboxes):\n",
        "        img_width, img_height = img_size\n",
        "\n",
        "        yolo_labels = []\n",
        "\n",
        "        for box in bbox:\n",
        "            x, y, w, h = box\n",
        "\n",
        "            # Calculate normalized bounding box coordinates\n",
        "            x_center = (x + w / 2) / img_width\n",
        "            y_center = (y + h / 2) / img_height\n",
        "            normalized_width = w / img_width\n",
        "            normalized_height = h / img_height\n",
        "\n",
        "            # Because we only have one class , we set class_id to 0\n",
        "            class_id = 0\n",
        "\n",
        "            # Convert to YOLO format\n",
        "            yolo_label  = f\"{class_id} {x_center} {y_center} {normalized_width} {normalized_height}\"\n",
        "            yolo_labels.append(yolo_label)\n",
        "\n",
        "        yolo_data.append((img_path, yolo_labels))\n",
        "\n",
        "    return yolo_data"
      ],
      "metadata": {
        "id": "KKk5IgT0ddBl"
      },
      "execution_count": null,
      "outputs": []
    },
    {
      "cell_type": "code",
      "source": [
        "class_labels = [\"text\"]\n",
        "\n",
        "yolo_data = convert_to_yolo_format(img_paths, img_sizes, bboxes)"
      ],
      "metadata": {
        "id": "azBnwwRxf0cl"
      },
      "execution_count": null,
      "outputs": []
    },
    {
      "cell_type": "markdown",
      "source": [
        "## Split data to train, val, test"
      ],
      "metadata": {
        "id": "NyI7AjCWgC4R"
      }
    },
    {
      "cell_type": "code",
      "source": [
        "seed = 0\n",
        "val_size = 0.2\n",
        "test_size = 0.125\n",
        "is_shuffle = True\n",
        "\n",
        "train_data, test_data = train_test_split(\n",
        "    yolo_data,\n",
        "    test_size=val_size,\n",
        "    random_state=seed,\n",
        "    shuffle=is_shuffle\n",
        ")\n",
        "\n",
        "test_data, val_data = train_test_split(\n",
        "    test_data,\n",
        "    test_size=test_size,\n",
        "    random_state=seed,\n",
        "    shuffle=is_shuffle\n",
        ")"
      ],
      "metadata": {
        "id": "69GPCA1ggNMB"
      },
      "execution_count": null,
      "outputs": []
    },
    {
      "cell_type": "markdown",
      "source": [
        "##Save data to folder"
      ],
      "metadata": {
        "id": "3Eg_Rp54god7"
      }
    },
    {
      "cell_type": "code",
      "source": [
        "def save_data(data, src_img_dir, save_dir):\n",
        "  # Create folder if not exists\n",
        "  os.makedirs(save_dir, exist_ok = True)\n",
        "\n",
        "  # Make images and labels folder\n",
        "  os.makedirs(os.path.join(save_dir, \"images\"), exist_ok = True)\n",
        "  os.makedirs(os.path.join(save_dir, \"labels\"), exist_ok = True)\n",
        "\n",
        "  for img_path, yolo_labels in data:\n",
        "      # Copy image to images folder\n",
        "      shutil.copy(\n",
        "          os.path.join(src_img_dir, img_path),\n",
        "          os.path.join(save_dir, \"images\")\n",
        "      )\n",
        "\n",
        "      # Save labels to labels folder\n",
        "      img_name = os.path.basename(img_path)\n",
        "      img_name = os.path.splitext(img_name)[0]\n",
        "\n",
        "      with open(os.path.join(save_dir, 'labels', f\"{img_name}.txt\"), \"w\") as f:\n",
        "          for label in yolo_labels:\n",
        "              f.write(f\"{label}\\n\")"
      ],
      "metadata": {
        "id": "wcciD2ONgqoJ"
      },
      "execution_count": null,
      "outputs": []
    },
    {
      "cell_type": "code",
      "source": [
        "save_yolo_data_dir = \"./datasets/yolo_data\"\n",
        "os.makedirs(save_yolo_data_dir, exist_ok = True)\n",
        "\n",
        "save_train_dir = os.path.join(save_yolo_data_dir, \"train\")\n",
        "save_val_dir = os.path.join(save_yolo_data_dir, \"val\")\n",
        "save_test_dir = os.path.join(save_yolo_data_dir, \"test\")\n",
        "\n",
        "save_data(train_data, dataset_dir, save_train_dir)\n",
        "save_data(val_data, dataset_dir, save_val_dir)\n",
        "save_data(test_data, dataset_dir, save_test_dir)"
      ],
      "metadata": {
        "id": "osO4r8z8hpHh"
      },
      "execution_count": null,
      "outputs": []
    },
    {
      "cell_type": "markdown",
      "source": [
        "##Create yaml file"
      ],
      "metadata": {
        "id": "UBEEyBUWuPAh"
      }
    },
    {
      "cell_type": "code",
      "source": [
        "data_yaml = {\n",
        "    \"path\": 'yolo_data',\n",
        "    \"train\": \"train/images\",\n",
        "    \"test\": \"test/images\",\n",
        "    \"val\": \"val/images\",\n",
        "    \"nc\": 1,\n",
        "    \"names\": class_labels\n",
        "}\n",
        "\n",
        "yolo_yaml_path = os.path.join(save_yolo_data_dir , \"data.yml\")\n",
        "\n",
        "with open(yolo_yaml_path, \"w\") as f:\n",
        "    yaml.dump(data_yaml, f, default_flow_style = False)"
      ],
      "metadata": {
        "id": "fsxsK4qtuQUm"
      },
      "execution_count": null,
      "outputs": []
    },
    {
      "cell_type": "markdown",
      "source": [
        "# Training"
      ],
      "metadata": {
        "id": "eaUMX3T_BlsG"
      }
    },
    {
      "cell_type": "markdown",
      "source": [
        "## Load a model"
      ],
      "metadata": {
        "id": "OxEG-a00B6QM"
      }
    },
    {
      "cell_type": "code",
      "source": [
        "from ultralytics import YOLO\n",
        "\n",
        "#Load a model\n",
        "model = YOLO('yolo11m.pt')"
      ],
      "metadata": {
        "colab": {
          "base_uri": "https://localhost:8080/"
        },
        "id": "js_8YUq5BulN",
        "outputId": "591543ba-604e-405e-ae04-718e786bff0f"
      },
      "execution_count": null,
      "outputs": [
        {
          "output_type": "stream",
          "name": "stdout",
          "text": [
            "Creating new Ultralytics Settings v0.0.6 file ✅ \n",
            "View Ultralytics Settings with 'yolo settings' or at '/root/.config/Ultralytics/settings.json'\n",
            "Update Settings with 'yolo settings key=value', i.e. 'yolo settings runs_dir=path/to/dir'. For help see https://docs.ultralytics.com/quickstart/#ultralytics-settings.\n",
            "Downloading https://github.com/ultralytics/assets/releases/download/v8.3.0/yolo11m.pt to 'yolo11m.pt'...\n"
          ]
        },
        {
          "output_type": "stream",
          "name": "stderr",
          "text": [
            "100%|██████████| 38.8M/38.8M [00:00<00:00, 143MB/s]\n"
          ]
        }
      ]
    },
    {
      "cell_type": "markdown",
      "source": [
        "## Train the model"
      ],
      "metadata": {
        "id": "WficfjXnB8O-"
      }
    },
    {
      "cell_type": "code",
      "source": [
        "!cat /content/datasets/yolo_data/data.yml\n"
      ],
      "metadata": {
        "colab": {
          "base_uri": "https://localhost:8080/"
        },
        "id": "QcgRhFySDOZL",
        "outputId": "777caa79-b3b1-4d02-c045-15e6f762f4b7"
      },
      "execution_count": null,
      "outputs": [
        {
          "output_type": "stream",
          "name": "stdout",
          "text": [
            "names:\n",
            "- text\n",
            "nc: 1\n",
            "path: yolo_data\n",
            "test: test/images\n",
            "train: train/images\n",
            "val: val/images\n"
          ]
        }
      ]
    },
    {
      "cell_type": "code",
      "source": [
        "results = model.train(\n",
        "    data = yolo_yaml_path,\n",
        "    epochs = 100,\n",
        "    imgsz = 640,\n",
        "    cache = True,\n",
        "    patience = 20,\n",
        "    plots = True\n",
        ")"
      ],
      "metadata": {
        "colab": {
          "base_uri": "https://localhost:8080/"
        },
        "id": "uIbZceizB7tK",
        "outputId": "1d09b744-f66b-4910-ff77-e4f9fd89c15d"
      },
      "execution_count": null,
      "outputs": [
        {
          "output_type": "stream",
          "name": "stdout",
          "text": [
            "Ultralytics 8.3.82 🚀 Python-3.11.11 torch-2.5.1+cu124 CUDA:0 (Tesla T4, 15095MiB)\n",
            "\u001b[34m\u001b[1mengine/trainer: \u001b[0mtask=detect, mode=train, model=yolo11m.pt, data=./datasets/yolo_data/data.yml, epochs=100, time=None, patience=20, batch=16, imgsz=640, save=True, save_period=-1, cache=True, device=None, workers=8, project=None, name=train, exist_ok=False, pretrained=True, optimizer=auto, verbose=True, seed=0, deterministic=True, single_cls=False, rect=False, cos_lr=False, close_mosaic=10, resume=False, amp=True, fraction=1.0, profile=False, freeze=None, multi_scale=False, overlap_mask=True, mask_ratio=4, dropout=0.0, val=True, split=val, save_json=False, save_hybrid=False, conf=None, iou=0.7, max_det=300, half=False, dnn=False, plots=True, source=None, vid_stride=1, stream_buffer=False, visualize=False, augment=False, agnostic_nms=False, classes=None, retina_masks=False, embed=None, show=False, save_frames=False, save_txt=False, save_conf=False, save_crop=False, show_labels=True, show_conf=True, show_boxes=True, line_width=None, format=torchscript, keras=False, optimize=False, int8=False, dynamic=False, simplify=True, opset=None, workspace=None, nms=False, lr0=0.01, lrf=0.01, momentum=0.937, weight_decay=0.0005, warmup_epochs=3.0, warmup_momentum=0.8, warmup_bias_lr=0.1, box=7.5, cls=0.5, dfl=1.5, pose=12.0, kobj=1.0, nbs=64, hsv_h=0.015, hsv_s=0.7, hsv_v=0.4, degrees=0.0, translate=0.1, scale=0.5, shear=0.0, perspective=0.0, flipud=0.0, fliplr=0.5, bgr=0.0, mosaic=1.0, mixup=0.0, copy_paste=0.0, copy_paste_mode=flip, auto_augment=randaugment, erasing=0.4, crop_fraction=1.0, cfg=None, tracker=botsort.yaml, save_dir=runs/detect/train\n",
            "Downloading https://ultralytics.com/assets/Arial.ttf to '/root/.config/Ultralytics/Arial.ttf'...\n"
          ]
        },
        {
          "output_type": "stream",
          "name": "stderr",
          "text": [
            "100%|██████████| 755k/755k [00:00<00:00, 24.2MB/s]\n"
          ]
        },
        {
          "output_type": "stream",
          "name": "stdout",
          "text": [
            "Overriding model.yaml nc=80 with nc=1\n",
            "\n",
            "                   from  n    params  module                                       arguments                     \n",
            "  0                  -1  1      1856  ultralytics.nn.modules.conv.Conv             [3, 64, 3, 2]                 \n",
            "  1                  -1  1     73984  ultralytics.nn.modules.conv.Conv             [64, 128, 3, 2]               \n",
            "  2                  -1  1    111872  ultralytics.nn.modules.block.C3k2            [128, 256, 1, True, 0.25]     \n",
            "  3                  -1  1    590336  ultralytics.nn.modules.conv.Conv             [256, 256, 3, 2]              \n",
            "  4                  -1  1    444928  ultralytics.nn.modules.block.C3k2            [256, 512, 1, True, 0.25]     \n",
            "  5                  -1  1   2360320  ultralytics.nn.modules.conv.Conv             [512, 512, 3, 2]              \n",
            "  6                  -1  1   1380352  ultralytics.nn.modules.block.C3k2            [512, 512, 1, True]           \n",
            "  7                  -1  1   2360320  ultralytics.nn.modules.conv.Conv             [512, 512, 3, 2]              \n",
            "  8                  -1  1   1380352  ultralytics.nn.modules.block.C3k2            [512, 512, 1, True]           \n",
            "  9                  -1  1    656896  ultralytics.nn.modules.block.SPPF            [512, 512, 5]                 \n",
            " 10                  -1  1    990976  ultralytics.nn.modules.block.C2PSA           [512, 512, 1]                 \n",
            " 11                  -1  1         0  torch.nn.modules.upsampling.Upsample         [None, 2, 'nearest']          \n",
            " 12             [-1, 6]  1         0  ultralytics.nn.modules.conv.Concat           [1]                           \n",
            " 13                  -1  1   1642496  ultralytics.nn.modules.block.C3k2            [1024, 512, 1, True]          \n",
            " 14                  -1  1         0  torch.nn.modules.upsampling.Upsample         [None, 2, 'nearest']          \n",
            " 15             [-1, 4]  1         0  ultralytics.nn.modules.conv.Concat           [1]                           \n",
            " 16                  -1  1    542720  ultralytics.nn.modules.block.C3k2            [1024, 256, 1, True]          \n",
            " 17                  -1  1    590336  ultralytics.nn.modules.conv.Conv             [256, 256, 3, 2]              \n",
            " 18            [-1, 13]  1         0  ultralytics.nn.modules.conv.Concat           [1]                           \n",
            " 19                  -1  1   1511424  ultralytics.nn.modules.block.C3k2            [768, 512, 1, True]           \n",
            " 20                  -1  1   2360320  ultralytics.nn.modules.conv.Conv             [512, 512, 3, 2]              \n",
            " 21            [-1, 10]  1         0  ultralytics.nn.modules.conv.Concat           [1]                           \n",
            " 22                  -1  1   1642496  ultralytics.nn.modules.block.C3k2            [1024, 512, 1, True]          \n",
            " 23        [16, 19, 22]  1   1411795  ultralytics.nn.modules.head.Detect           [1, [256, 512, 512]]          \n",
            "YOLO11m summary: 231 layers, 20,053,779 parameters, 20,053,763 gradients, 68.2 GFLOPs\n",
            "\n",
            "Transferred 643/649 items from pretrained weights\n",
            "\u001b[34m\u001b[1mTensorBoard: \u001b[0mStart with 'tensorboard --logdir runs/detect/train', view at http://localhost:6006/\n",
            "Freezing layer 'model.23.dfl.conv.weight'\n",
            "\u001b[34m\u001b[1mAMP: \u001b[0mrunning Automatic Mixed Precision (AMP) checks...\n",
            "Downloading https://github.com/ultralytics/assets/releases/download/v8.3.0/yolo11n.pt to 'yolo11n.pt'...\n"
          ]
        },
        {
          "output_type": "stream",
          "name": "stderr",
          "text": [
            "100%|██████████| 5.35M/5.35M [00:00<00:00, 125MB/s]\n"
          ]
        },
        {
          "output_type": "stream",
          "name": "stdout",
          "text": [
            "\u001b[34m\u001b[1mAMP: \u001b[0mchecks passed ✅\n"
          ]
        },
        {
          "output_type": "stream",
          "name": "stderr",
          "text": [
            "\u001b[34m\u001b[1mtrain: \u001b[0mScanning /content/datasets/yolo_data/train/labels... 200 images, 7 backgrounds, 0 corrupt: 100%|██████████| 200/200 [00:00<00:00, 1703.55it/s]"
          ]
        },
        {
          "output_type": "stream",
          "name": "stdout",
          "text": [
            "\u001b[34m\u001b[1mtrain: \u001b[0mNew cache created: /content/datasets/yolo_data/train/labels.cache\n"
          ]
        },
        {
          "output_type": "stream",
          "name": "stderr",
          "text": [
            "\n"
          ]
        },
        {
          "output_type": "stream",
          "name": "stdout",
          "text": [
            "WARNING ⚠️ cache='ram' may produce non-deterministic training results. Consider cache='disk' as a deterministic alternative if your disk space allows.\n"
          ]
        },
        {
          "output_type": "stream",
          "name": "stderr",
          "text": [
            "\u001b[34m\u001b[1mtrain: \u001b[0mCaching images (0.2GB RAM): 100%|██████████| 200/200 [00:01<00:00, 183.93it/s]\n"
          ]
        },
        {
          "output_type": "stream",
          "name": "stdout",
          "text": [
            "\u001b[34m\u001b[1malbumentations: \u001b[0mBlur(p=0.01, blur_limit=(3, 7)), MedianBlur(p=0.01, blur_limit=(3, 7)), ToGray(p=0.01, num_output_channels=3, method='weighted_average'), CLAHE(p=0.01, clip_limit=(1.0, 4.0), tile_grid_size=(8, 8))\n"
          ]
        },
        {
          "output_type": "stream",
          "name": "stderr",
          "text": [
            "/usr/local/lib/python3.11/dist-packages/albumentations/__init__.py:28: UserWarning: A new version of Albumentations is available: '2.0.5' (you have '2.0.4'). Upgrade using: pip install -U albumentations. To disable automatic update checks, set the environment variable NO_ALBUMENTATIONS_UPDATE to 1.\n",
            "  check_for_updates()\n",
            "\u001b[34m\u001b[1mval: \u001b[0mScanning /content/datasets/yolo_data/val/labels... 7 images, 0 backgrounds, 0 corrupt: 100%|██████████| 7/7 [00:00<00:00, 1136.76it/s]"
          ]
        },
        {
          "output_type": "stream",
          "name": "stdout",
          "text": [
            "\u001b[34m\u001b[1mval: \u001b[0mNew cache created: /content/datasets/yolo_data/val/labels.cache\n"
          ]
        },
        {
          "output_type": "stream",
          "name": "stderr",
          "text": [
            "\n"
          ]
        },
        {
          "output_type": "stream",
          "name": "stdout",
          "text": [
            "WARNING ⚠️ cache='ram' may produce non-deterministic training results. Consider cache='disk' as a deterministic alternative if your disk space allows.\n"
          ]
        },
        {
          "output_type": "stream",
          "name": "stderr",
          "text": [
            "\u001b[34m\u001b[1mval: \u001b[0mCaching images (0.0GB RAM): 100%|██████████| 7/7 [00:00<00:00, 40.65it/s]\n"
          ]
        },
        {
          "output_type": "stream",
          "name": "stdout",
          "text": [
            "Plotting labels to runs/detect/train/labels.jpg... \n",
            "\u001b[34m\u001b[1moptimizer:\u001b[0m 'optimizer=auto' found, ignoring 'lr0=0.01' and 'momentum=0.937' and determining best 'optimizer', 'lr0' and 'momentum' automatically... \n",
            "\u001b[34m\u001b[1moptimizer:\u001b[0m AdamW(lr=0.002, momentum=0.9) with parameter groups 106 weight(decay=0.0), 113 weight(decay=0.0005), 112 bias(decay=0.0)\n",
            "\u001b[34m\u001b[1mTensorBoard: \u001b[0mmodel graph visualization added ✅\n",
            "Image sizes 640 train, 640 val\n",
            "Using 2 dataloader workers\n",
            "Logging results to \u001b[1mruns/detect/train\u001b[0m\n",
            "Starting training for 100 epochs...\n",
            "\n",
            "      Epoch    GPU_mem   box_loss   cls_loss   dfl_loss  Instances       Size\n"
          ]
        },
        {
          "output_type": "stream",
          "name": "stderr",
          "text": [
            "      1/100      8.02G      1.905      2.828      1.714         28        640: 100%|██████████| 13/13 [00:08<00:00,  1.51it/s]\n",
            "                 Class     Images  Instances      Box(P          R      mAP50  mAP50-95): 100%|██████████| 1/1 [00:01<00:00,  1.45s/it]"
          ]
        },
        {
          "output_type": "stream",
          "name": "stdout",
          "text": [
            "                   all          7         62      0.412      0.339      0.267      0.143\n"
          ]
        },
        {
          "output_type": "stream",
          "name": "stderr",
          "text": [
            "\n"
          ]
        },
        {
          "output_type": "stream",
          "name": "stdout",
          "text": [
            "\n",
            "      Epoch    GPU_mem   box_loss   cls_loss   dfl_loss  Instances       Size\n"
          ]
        },
        {
          "output_type": "stream",
          "name": "stderr",
          "text": [
            "      2/100      8.03G      1.248      1.365       1.19         81        640: 100%|██████████| 13/13 [00:06<00:00,  1.93it/s]\n",
            "                 Class     Images  Instances      Box(P          R      mAP50  mAP50-95): 100%|██████████| 1/1 [00:00<00:00,  7.33it/s]"
          ]
        },
        {
          "output_type": "stream",
          "name": "stdout",
          "text": [
            "                   all          7         62       0.46       0.44      0.409       0.21\n"
          ]
        },
        {
          "output_type": "stream",
          "name": "stderr",
          "text": [
            "\n"
          ]
        },
        {
          "output_type": "stream",
          "name": "stdout",
          "text": [
            "\n",
            "      Epoch    GPU_mem   box_loss   cls_loss   dfl_loss  Instances       Size\n"
          ]
        },
        {
          "output_type": "stream",
          "name": "stderr",
          "text": [
            "      3/100      8.06G      1.218      1.252      1.214         30        640: 100%|██████████| 13/13 [00:06<00:00,  1.90it/s]\n",
            "                 Class     Images  Instances      Box(P          R      mAP50  mAP50-95): 100%|██████████| 1/1 [00:00<00:00,  8.81it/s]"
          ]
        },
        {
          "output_type": "stream",
          "name": "stdout",
          "text": [
            "                   all          7         62    0.00268     0.0806    0.00133   0.000445\n"
          ]
        },
        {
          "output_type": "stream",
          "name": "stderr",
          "text": [
            "\n"
          ]
        },
        {
          "output_type": "stream",
          "name": "stdout",
          "text": [
            "\n",
            "      Epoch    GPU_mem   box_loss   cls_loss   dfl_loss  Instances       Size\n"
          ]
        },
        {
          "output_type": "stream",
          "name": "stderr",
          "text": [
            "      4/100      7.97G      1.402      1.322      1.336         37        640: 100%|██████████| 13/13 [00:07<00:00,  1.86it/s]\n",
            "                 Class     Images  Instances      Box(P          R      mAP50  mAP50-95): 100%|██████████| 1/1 [00:00<00:00,  9.24it/s]"
          ]
        },
        {
          "output_type": "stream",
          "name": "stdout",
          "text": [
            "                   all          7         62          0          0          0          0\n"
          ]
        },
        {
          "output_type": "stream",
          "name": "stderr",
          "text": [
            "\n"
          ]
        },
        {
          "output_type": "stream",
          "name": "stdout",
          "text": [
            "\n",
            "      Epoch    GPU_mem   box_loss   cls_loss   dfl_loss  Instances       Size\n"
          ]
        },
        {
          "output_type": "stream",
          "name": "stderr",
          "text": [
            "      5/100      8.09G      1.389      1.297      1.304         34        640: 100%|██████████| 13/13 [00:06<00:00,  1.95it/s]\n",
            "                 Class     Images  Instances      Box(P          R      mAP50  mAP50-95): 100%|██████████| 1/1 [00:00<00:00,  8.74it/s]"
          ]
        },
        {
          "output_type": "stream",
          "name": "stdout",
          "text": [
            "                   all          7         62    0.00178     0.0484   0.000777   0.000183\n"
          ]
        },
        {
          "output_type": "stream",
          "name": "stderr",
          "text": [
            "\n"
          ]
        },
        {
          "output_type": "stream",
          "name": "stdout",
          "text": [
            "\n",
            "      Epoch    GPU_mem   box_loss   cls_loss   dfl_loss  Instances       Size\n"
          ]
        },
        {
          "output_type": "stream",
          "name": "stderr",
          "text": [
            "      6/100      8.13G      1.393      1.355      1.272         47        640: 100%|██████████| 13/13 [00:06<00:00,  1.90it/s]\n",
            "                 Class     Images  Instances      Box(P          R      mAP50  mAP50-95): 100%|██████████| 1/1 [00:00<00:00,  9.23it/s]"
          ]
        },
        {
          "output_type": "stream",
          "name": "stdout",
          "text": [
            "                   all          7         62          0          0          0          0\n"
          ]
        },
        {
          "output_type": "stream",
          "name": "stderr",
          "text": [
            "\n"
          ]
        },
        {
          "output_type": "stream",
          "name": "stdout",
          "text": [
            "\n",
            "      Epoch    GPU_mem   box_loss   cls_loss   dfl_loss  Instances       Size\n"
          ]
        },
        {
          "output_type": "stream",
          "name": "stderr",
          "text": [
            "      7/100      8.01G      1.362      1.345      1.276         34        640: 100%|██████████| 13/13 [00:06<00:00,  1.88it/s]\n",
            "                 Class     Images  Instances      Box(P          R      mAP50  mAP50-95): 100%|██████████| 1/1 [00:00<00:00,  9.38it/s]"
          ]
        },
        {
          "output_type": "stream",
          "name": "stdout",
          "text": [
            "                   all          7         62          0          0          0          0\n"
          ]
        },
        {
          "output_type": "stream",
          "name": "stderr",
          "text": [
            "\n"
          ]
        },
        {
          "output_type": "stream",
          "name": "stdout",
          "text": [
            "\n",
            "      Epoch    GPU_mem   box_loss   cls_loss   dfl_loss  Instances       Size\n"
          ]
        },
        {
          "output_type": "stream",
          "name": "stderr",
          "text": [
            "      8/100       8.1G      1.494      1.392      1.288         79        640: 100%|██████████| 13/13 [00:06<00:00,  1.90it/s]\n",
            "                 Class     Images  Instances      Box(P          R      mAP50  mAP50-95): 100%|██████████| 1/1 [00:00<00:00,  7.40it/s]"
          ]
        },
        {
          "output_type": "stream",
          "name": "stdout",
          "text": [
            "                   all          7         62          0          0          0          0\n"
          ]
        },
        {
          "output_type": "stream",
          "name": "stderr",
          "text": [
            "\n"
          ]
        },
        {
          "output_type": "stream",
          "name": "stdout",
          "text": [
            "\n",
            "      Epoch    GPU_mem   box_loss   cls_loss   dfl_loss  Instances       Size\n"
          ]
        },
        {
          "output_type": "stream",
          "name": "stderr",
          "text": [
            "      9/100      8.12G      1.471      1.236      1.303         53        640: 100%|██████████| 13/13 [00:06<00:00,  1.91it/s]\n",
            "                 Class     Images  Instances      Box(P          R      mAP50  mAP50-95): 100%|██████████| 1/1 [00:00<00:00,  8.03it/s]"
          ]
        },
        {
          "output_type": "stream",
          "name": "stdout",
          "text": [
            "                   all          7         62     0.0181     0.0323    0.00158   0.000423\n"
          ]
        },
        {
          "output_type": "stream",
          "name": "stderr",
          "text": [
            "\n"
          ]
        },
        {
          "output_type": "stream",
          "name": "stdout",
          "text": [
            "\n",
            "      Epoch    GPU_mem   box_loss   cls_loss   dfl_loss  Instances       Size\n"
          ]
        },
        {
          "output_type": "stream",
          "name": "stderr",
          "text": [
            "     10/100      8.18G      1.427      1.243      1.265         51        640: 100%|██████████| 13/13 [00:06<00:00,  1.87it/s]\n",
            "                 Class     Images  Instances      Box(P          R      mAP50  mAP50-95): 100%|██████████| 1/1 [00:00<00:00,  8.24it/s]"
          ]
        },
        {
          "output_type": "stream",
          "name": "stdout",
          "text": [
            "                   all          7         62      0.137       0.21     0.0797      0.029\n"
          ]
        },
        {
          "output_type": "stream",
          "name": "stderr",
          "text": [
            "\n"
          ]
        },
        {
          "output_type": "stream",
          "name": "stdout",
          "text": [
            "\n",
            "      Epoch    GPU_mem   box_loss   cls_loss   dfl_loss  Instances       Size\n"
          ]
        },
        {
          "output_type": "stream",
          "name": "stderr",
          "text": [
            "     11/100      8.15G      1.379      1.309      1.284         29        640: 100%|██████████| 13/13 [00:06<00:00,  1.89it/s]\n",
            "                 Class     Images  Instances      Box(P          R      mAP50  mAP50-95): 100%|██████████| 1/1 [00:00<00:00,  7.40it/s]"
          ]
        },
        {
          "output_type": "stream",
          "name": "stdout",
          "text": [
            "                   all          7         62      0.206      0.258     0.0863     0.0296\n"
          ]
        },
        {
          "output_type": "stream",
          "name": "stderr",
          "text": [
            "\n"
          ]
        },
        {
          "output_type": "stream",
          "name": "stdout",
          "text": [
            "\n",
            "      Epoch    GPU_mem   box_loss   cls_loss   dfl_loss  Instances       Size\n"
          ]
        },
        {
          "output_type": "stream",
          "name": "stderr",
          "text": [
            "     12/100      8.17G      1.406      1.199      1.257         61        640: 100%|██████████| 13/13 [00:06<00:00,  1.86it/s]\n",
            "                 Class     Images  Instances      Box(P          R      mAP50  mAP50-95): 100%|██████████| 1/1 [00:00<00:00,  8.82it/s]"
          ]
        },
        {
          "output_type": "stream",
          "name": "stdout",
          "text": [
            "                   all          7         62      0.193      0.161     0.0707     0.0319\n"
          ]
        },
        {
          "output_type": "stream",
          "name": "stderr",
          "text": [
            "\n"
          ]
        },
        {
          "output_type": "stream",
          "name": "stdout",
          "text": [
            "\n",
            "      Epoch    GPU_mem   box_loss   cls_loss   dfl_loss  Instances       Size\n"
          ]
        },
        {
          "output_type": "stream",
          "name": "stderr",
          "text": [
            "     13/100      8.09G       1.34      1.222      1.245         43        640: 100%|██████████| 13/13 [00:07<00:00,  1.83it/s]\n",
            "                 Class     Images  Instances      Box(P          R      mAP50  mAP50-95): 100%|██████████| 1/1 [00:00<00:00,  8.41it/s]"
          ]
        },
        {
          "output_type": "stream",
          "name": "stdout",
          "text": [
            "                   all          7         62      0.428      0.323      0.331      0.163\n"
          ]
        },
        {
          "output_type": "stream",
          "name": "stderr",
          "text": [
            "\n"
          ]
        },
        {
          "output_type": "stream",
          "name": "stdout",
          "text": [
            "\n",
            "      Epoch    GPU_mem   box_loss   cls_loss   dfl_loss  Instances       Size\n"
          ]
        },
        {
          "output_type": "stream",
          "name": "stderr",
          "text": [
            "     14/100      8.09G      1.292      1.149      1.228         30        640: 100%|██████████| 13/13 [00:06<00:00,  1.87it/s]\n",
            "                 Class     Images  Instances      Box(P          R      mAP50  mAP50-95): 100%|██████████| 1/1 [00:00<00:00,  4.96it/s]"
          ]
        },
        {
          "output_type": "stream",
          "name": "stdout",
          "text": [
            "                   all          7         62      0.456      0.435      0.372      0.195\n"
          ]
        },
        {
          "output_type": "stream",
          "name": "stderr",
          "text": [
            "\n"
          ]
        },
        {
          "output_type": "stream",
          "name": "stdout",
          "text": [
            "\n",
            "      Epoch    GPU_mem   box_loss   cls_loss   dfl_loss  Instances       Size\n"
          ]
        },
        {
          "output_type": "stream",
          "name": "stderr",
          "text": [
            "     15/100      8.11G      1.273      1.071      1.199         82        640: 100%|██████████| 13/13 [00:06<00:00,  1.89it/s]\n",
            "                 Class     Images  Instances      Box(P          R      mAP50  mAP50-95): 100%|██████████| 1/1 [00:00<00:00,  9.07it/s]"
          ]
        },
        {
          "output_type": "stream",
          "name": "stdout",
          "text": [
            "                   all          7         62       0.32      0.371      0.257      0.137\n"
          ]
        },
        {
          "output_type": "stream",
          "name": "stderr",
          "text": [
            "\n"
          ]
        },
        {
          "output_type": "stream",
          "name": "stdout",
          "text": [
            "\n",
            "      Epoch    GPU_mem   box_loss   cls_loss   dfl_loss  Instances       Size\n"
          ]
        },
        {
          "output_type": "stream",
          "name": "stderr",
          "text": [
            "     16/100      8.12G      1.262      1.114      1.208         45        640: 100%|██████████| 13/13 [00:07<00:00,  1.86it/s]\n",
            "                 Class     Images  Instances      Box(P          R      mAP50  mAP50-95): 100%|██████████| 1/1 [00:00<00:00,  9.08it/s]"
          ]
        },
        {
          "output_type": "stream",
          "name": "stdout",
          "text": [
            "                   all          7         62      0.175      0.613      0.229      0.107\n"
          ]
        },
        {
          "output_type": "stream",
          "name": "stderr",
          "text": [
            "\n"
          ]
        },
        {
          "output_type": "stream",
          "name": "stdout",
          "text": [
            "\n",
            "      Epoch    GPU_mem   box_loss   cls_loss   dfl_loss  Instances       Size\n"
          ]
        },
        {
          "output_type": "stream",
          "name": "stderr",
          "text": [
            "     17/100      8.07G      1.212      1.066      1.172         59        640: 100%|██████████| 13/13 [00:06<00:00,  1.88it/s]\n",
            "                 Class     Images  Instances      Box(P          R      mAP50  mAP50-95): 100%|██████████| 1/1 [00:00<00:00,  5.10it/s]"
          ]
        },
        {
          "output_type": "stream",
          "name": "stdout",
          "text": [
            "                   all          7         62      0.279      0.435      0.224       0.11\n"
          ]
        },
        {
          "output_type": "stream",
          "name": "stderr",
          "text": [
            "\n"
          ]
        },
        {
          "output_type": "stream",
          "name": "stdout",
          "text": [
            "\n",
            "      Epoch    GPU_mem   box_loss   cls_loss   dfl_loss  Instances       Size\n"
          ]
        },
        {
          "output_type": "stream",
          "name": "stderr",
          "text": [
            "     18/100      8.04G      1.213      1.083      1.181         62        640: 100%|██████████| 13/13 [00:06<00:00,  1.91it/s]\n",
            "                 Class     Images  Instances      Box(P          R      mAP50  mAP50-95): 100%|██████████| 1/1 [00:00<00:00,  8.88it/s]"
          ]
        },
        {
          "output_type": "stream",
          "name": "stdout",
          "text": [
            "                   all          7         62      0.461      0.323      0.319      0.154\n"
          ]
        },
        {
          "output_type": "stream",
          "name": "stderr",
          "text": [
            "\n"
          ]
        },
        {
          "output_type": "stream",
          "name": "stdout",
          "text": [
            "\n",
            "      Epoch    GPU_mem   box_loss   cls_loss   dfl_loss  Instances       Size\n"
          ]
        },
        {
          "output_type": "stream",
          "name": "stderr",
          "text": [
            "     19/100      8.15G      1.171      1.027      1.134         54        640: 100%|██████████| 13/13 [00:06<00:00,  1.86it/s]\n",
            "                 Class     Images  Instances      Box(P          R      mAP50  mAP50-95): 100%|██████████| 1/1 [00:00<00:00,  8.97it/s]"
          ]
        },
        {
          "output_type": "stream",
          "name": "stdout",
          "text": [
            "                   all          7         62       0.64      0.419      0.438      0.254\n"
          ]
        },
        {
          "output_type": "stream",
          "name": "stderr",
          "text": [
            "\n"
          ]
        },
        {
          "output_type": "stream",
          "name": "stdout",
          "text": [
            "\n",
            "      Epoch    GPU_mem   box_loss   cls_loss   dfl_loss  Instances       Size\n"
          ]
        },
        {
          "output_type": "stream",
          "name": "stderr",
          "text": [
            "     20/100      8.14G      1.173     0.9919      1.138         76        640: 100%|██████████| 13/13 [00:07<00:00,  1.85it/s]\n",
            "                 Class     Images  Instances      Box(P          R      mAP50  mAP50-95): 100%|██████████| 1/1 [00:00<00:00,  6.54it/s]"
          ]
        },
        {
          "output_type": "stream",
          "name": "stdout",
          "text": [
            "                   all          7         62      0.324      0.758      0.421      0.229\n"
          ]
        },
        {
          "output_type": "stream",
          "name": "stderr",
          "text": [
            "\n"
          ]
        },
        {
          "output_type": "stream",
          "name": "stdout",
          "text": [
            "\n",
            "      Epoch    GPU_mem   box_loss   cls_loss   dfl_loss  Instances       Size\n"
          ]
        },
        {
          "output_type": "stream",
          "name": "stderr",
          "text": [
            "     21/100      8.11G      1.149     0.9997      1.141         74        640: 100%|██████████| 13/13 [00:06<00:00,  1.91it/s]\n",
            "                 Class     Images  Instances      Box(P          R      mAP50  mAP50-95): 100%|██████████| 1/1 [00:00<00:00,  8.74it/s]"
          ]
        },
        {
          "output_type": "stream",
          "name": "stdout",
          "text": [
            "                   all          7         62       0.62      0.419       0.46      0.251\n"
          ]
        },
        {
          "output_type": "stream",
          "name": "stderr",
          "text": [
            "\n"
          ]
        },
        {
          "output_type": "stream",
          "name": "stdout",
          "text": [
            "\n",
            "      Epoch    GPU_mem   box_loss   cls_loss   dfl_loss  Instances       Size\n"
          ]
        },
        {
          "output_type": "stream",
          "name": "stderr",
          "text": [
            "     22/100      8.15G      1.171      1.052      1.136         93        640: 100%|██████████| 13/13 [00:07<00:00,  1.85it/s]\n",
            "                 Class     Images  Instances      Box(P          R      mAP50  mAP50-95): 100%|██████████| 1/1 [00:00<00:00,  8.87it/s]"
          ]
        },
        {
          "output_type": "stream",
          "name": "stdout",
          "text": [
            "                   all          7         62       0.53      0.435      0.447      0.235\n"
          ]
        },
        {
          "output_type": "stream",
          "name": "stderr",
          "text": [
            "\n"
          ]
        },
        {
          "output_type": "stream",
          "name": "stdout",
          "text": [
            "\n",
            "      Epoch    GPU_mem   box_loss   cls_loss   dfl_loss  Instances       Size\n"
          ]
        },
        {
          "output_type": "stream",
          "name": "stderr",
          "text": [
            "     23/100      8.15G      1.134      0.943      1.103         51        640: 100%|██████████| 13/13 [00:06<00:00,  1.87it/s]\n",
            "                 Class     Images  Instances      Box(P          R      mAP50  mAP50-95): 100%|██████████| 1/1 [00:00<00:00,  5.87it/s]"
          ]
        },
        {
          "output_type": "stream",
          "name": "stdout",
          "text": [
            "                   all          7         62      0.518      0.565       0.56      0.305\n"
          ]
        },
        {
          "output_type": "stream",
          "name": "stderr",
          "text": [
            "\n"
          ]
        },
        {
          "output_type": "stream",
          "name": "stdout",
          "text": [
            "\n",
            "      Epoch    GPU_mem   box_loss   cls_loss   dfl_loss  Instances       Size\n"
          ]
        },
        {
          "output_type": "stream",
          "name": "stderr",
          "text": [
            "     24/100      8.12G      1.208     0.9848      1.154         52        640: 100%|██████████| 13/13 [00:06<00:00,  1.88it/s]\n",
            "                 Class     Images  Instances      Box(P          R      mAP50  mAP50-95): 100%|██████████| 1/1 [00:00<00:00,  8.83it/s]"
          ]
        },
        {
          "output_type": "stream",
          "name": "stdout",
          "text": [
            "                   all          7         62      0.485        0.5      0.431      0.216\n"
          ]
        },
        {
          "output_type": "stream",
          "name": "stderr",
          "text": [
            "\n"
          ]
        },
        {
          "output_type": "stream",
          "name": "stdout",
          "text": [
            "\n",
            "      Epoch    GPU_mem   box_loss   cls_loss   dfl_loss  Instances       Size\n"
          ]
        },
        {
          "output_type": "stream",
          "name": "stderr",
          "text": [
            "     25/100      8.02G      1.093      0.901      1.104         65        640: 100%|██████████| 13/13 [00:07<00:00,  1.84it/s]\n",
            "                 Class     Images  Instances      Box(P          R      mAP50  mAP50-95): 100%|██████████| 1/1 [00:00<00:00,  8.47it/s]"
          ]
        },
        {
          "output_type": "stream",
          "name": "stdout",
          "text": [
            "                   all          7         62      0.591      0.443      0.453      0.279\n"
          ]
        },
        {
          "output_type": "stream",
          "name": "stderr",
          "text": [
            "\n"
          ]
        },
        {
          "output_type": "stream",
          "name": "stdout",
          "text": [
            "\n",
            "      Epoch    GPU_mem   box_loss   cls_loss   dfl_loss  Instances       Size\n"
          ]
        },
        {
          "output_type": "stream",
          "name": "stderr",
          "text": [
            "     26/100      8.17G      1.098     0.9007      1.101         49        640: 100%|██████████| 13/13 [00:07<00:00,  1.86it/s]\n",
            "                 Class     Images  Instances      Box(P          R      mAP50  mAP50-95): 100%|██████████| 1/1 [00:00<00:00,  6.01it/s]"
          ]
        },
        {
          "output_type": "stream",
          "name": "stdout",
          "text": [
            "                   all          7         62      0.585      0.403      0.433      0.273\n"
          ]
        },
        {
          "output_type": "stream",
          "name": "stderr",
          "text": [
            "\n"
          ]
        },
        {
          "output_type": "stream",
          "name": "stdout",
          "text": [
            "\n",
            "      Epoch    GPU_mem   box_loss   cls_loss   dfl_loss  Instances       Size\n"
          ]
        },
        {
          "output_type": "stream",
          "name": "stderr",
          "text": [
            "     27/100      8.09G       1.09     0.9185       1.13         30        640: 100%|██████████| 13/13 [00:06<00:00,  1.91it/s]\n",
            "                 Class     Images  Instances      Box(P          R      mAP50  mAP50-95): 100%|██████████| 1/1 [00:00<00:00,  9.09it/s]"
          ]
        },
        {
          "output_type": "stream",
          "name": "stdout",
          "text": [
            "                   all          7         62      0.591      0.419      0.441      0.271\n"
          ]
        },
        {
          "output_type": "stream",
          "name": "stderr",
          "text": [
            "\n"
          ]
        },
        {
          "output_type": "stream",
          "name": "stdout",
          "text": [
            "\n",
            "      Epoch    GPU_mem   box_loss   cls_loss   dfl_loss  Instances       Size\n"
          ]
        },
        {
          "output_type": "stream",
          "name": "stderr",
          "text": [
            "     28/100      8.13G      1.076     0.8971      1.086         41        640: 100%|██████████| 13/13 [00:07<00:00,  1.84it/s]\n",
            "                 Class     Images  Instances      Box(P          R      mAP50  mAP50-95): 100%|██████████| 1/1 [00:00<00:00,  9.10it/s]"
          ]
        },
        {
          "output_type": "stream",
          "name": "stdout",
          "text": [
            "                   all          7         62      0.588        0.5      0.541      0.282\n"
          ]
        },
        {
          "output_type": "stream",
          "name": "stderr",
          "text": [
            "\n"
          ]
        },
        {
          "output_type": "stream",
          "name": "stdout",
          "text": [
            "\n",
            "      Epoch    GPU_mem   box_loss   cls_loss   dfl_loss  Instances       Size\n"
          ]
        },
        {
          "output_type": "stream",
          "name": "stderr",
          "text": [
            "     29/100      8.11G      1.057     0.9346      1.101         58        640: 100%|██████████| 13/13 [00:07<00:00,  1.85it/s]\n",
            "                 Class     Images  Instances      Box(P          R      mAP50  mAP50-95): 100%|██████████| 1/1 [00:00<00:00,  5.83it/s]"
          ]
        },
        {
          "output_type": "stream",
          "name": "stdout",
          "text": [
            "                   all          7         62      0.398      0.742      0.554      0.304\n"
          ]
        },
        {
          "output_type": "stream",
          "name": "stderr",
          "text": [
            "\n"
          ]
        },
        {
          "output_type": "stream",
          "name": "stdout",
          "text": [
            "\n",
            "      Epoch    GPU_mem   box_loss   cls_loss   dfl_loss  Instances       Size\n"
          ]
        },
        {
          "output_type": "stream",
          "name": "stderr",
          "text": [
            "     30/100      8.13G      1.052     0.8754      1.089         34        640: 100%|██████████| 13/13 [00:06<00:00,  1.89it/s]\n",
            "                 Class     Images  Instances      Box(P          R      mAP50  mAP50-95): 100%|██████████| 1/1 [00:00<00:00,  9.11it/s]"
          ]
        },
        {
          "output_type": "stream",
          "name": "stdout",
          "text": [
            "                   all          7         62      0.632      0.516      0.575      0.374\n"
          ]
        },
        {
          "output_type": "stream",
          "name": "stderr",
          "text": [
            "\n"
          ]
        },
        {
          "output_type": "stream",
          "name": "stdout",
          "text": [
            "\n",
            "      Epoch    GPU_mem   box_loss   cls_loss   dfl_loss  Instances       Size\n"
          ]
        },
        {
          "output_type": "stream",
          "name": "stderr",
          "text": [
            "     31/100      8.17G      1.071     0.8736       1.11         30        640: 100%|██████████| 13/13 [00:07<00:00,  1.83it/s]\n",
            "                 Class     Images  Instances      Box(P          R      mAP50  mAP50-95): 100%|██████████| 1/1 [00:00<00:00,  9.02it/s]"
          ]
        },
        {
          "output_type": "stream",
          "name": "stdout",
          "text": [
            "                   all          7         62      0.576      0.613      0.622       0.35\n"
          ]
        },
        {
          "output_type": "stream",
          "name": "stderr",
          "text": [
            "\n"
          ]
        },
        {
          "output_type": "stream",
          "name": "stdout",
          "text": [
            "\n",
            "      Epoch    GPU_mem   box_loss   cls_loss   dfl_loss  Instances       Size\n"
          ]
        },
        {
          "output_type": "stream",
          "name": "stderr",
          "text": [
            "     32/100      8.12G      1.059     0.8646      1.087         67        640: 100%|██████████| 13/13 [00:07<00:00,  1.82it/s]\n",
            "                 Class     Images  Instances      Box(P          R      mAP50  mAP50-95): 100%|██████████| 1/1 [00:00<00:00,  7.33it/s]"
          ]
        },
        {
          "output_type": "stream",
          "name": "stdout",
          "text": [
            "                   all          7         62       0.58      0.532      0.569       0.35\n"
          ]
        },
        {
          "output_type": "stream",
          "name": "stderr",
          "text": [
            "\n"
          ]
        },
        {
          "output_type": "stream",
          "name": "stdout",
          "text": [
            "\n",
            "      Epoch    GPU_mem   box_loss   cls_loss   dfl_loss  Instances       Size\n"
          ]
        },
        {
          "output_type": "stream",
          "name": "stderr",
          "text": [
            "     33/100       8.1G      1.048     0.8134      1.073         63        640: 100%|██████████| 13/13 [00:06<00:00,  1.90it/s]\n",
            "                 Class     Images  Instances      Box(P          R      mAP50  mAP50-95): 100%|██████████| 1/1 [00:00<00:00,  9.10it/s]"
          ]
        },
        {
          "output_type": "stream",
          "name": "stdout",
          "text": [
            "                   all          7         62      0.657      0.597      0.647      0.394\n"
          ]
        },
        {
          "output_type": "stream",
          "name": "stderr",
          "text": [
            "\n"
          ]
        },
        {
          "output_type": "stream",
          "name": "stdout",
          "text": [
            "\n",
            "      Epoch    GPU_mem   box_loss   cls_loss   dfl_loss  Instances       Size\n"
          ]
        },
        {
          "output_type": "stream",
          "name": "stderr",
          "text": [
            "     34/100      8.14G      1.101     0.8769      1.112         87        640: 100%|██████████| 13/13 [00:07<00:00,  1.83it/s]\n",
            "                 Class     Images  Instances      Box(P          R      mAP50  mAP50-95): 100%|██████████| 1/1 [00:00<00:00,  9.03it/s]"
          ]
        },
        {
          "output_type": "stream",
          "name": "stdout",
          "text": [
            "                   all          7         62      0.538      0.621      0.591      0.325\n"
          ]
        },
        {
          "output_type": "stream",
          "name": "stderr",
          "text": [
            "\n"
          ]
        },
        {
          "output_type": "stream",
          "name": "stdout",
          "text": [
            "\n",
            "      Epoch    GPU_mem   box_loss   cls_loss   dfl_loss  Instances       Size\n"
          ]
        },
        {
          "output_type": "stream",
          "name": "stderr",
          "text": [
            "     35/100      8.13G      1.036     0.8217      1.083         42        640: 100%|██████████| 13/13 [00:07<00:00,  1.83it/s]\n",
            "                 Class     Images  Instances      Box(P          R      mAP50  mAP50-95): 100%|██████████| 1/1 [00:00<00:00,  5.10it/s]\n"
          ]
        },
        {
          "output_type": "stream",
          "name": "stdout",
          "text": [
            "                   all          7         62      0.532      0.532       0.54      0.312\n",
            "\n",
            "      Epoch    GPU_mem   box_loss   cls_loss   dfl_loss  Instances       Size\n"
          ]
        },
        {
          "output_type": "stream",
          "name": "stderr",
          "text": [
            "     36/100      8.14G      1.067     0.8143      1.087         35        640: 100%|██████████| 13/13 [00:06<00:00,  1.89it/s]\n",
            "                 Class     Images  Instances      Box(P          R      mAP50  mAP50-95): 100%|██████████| 1/1 [00:00<00:00,  8.44it/s]"
          ]
        },
        {
          "output_type": "stream",
          "name": "stdout",
          "text": [
            "                   all          7         62      0.649      0.565       0.61      0.347\n"
          ]
        },
        {
          "output_type": "stream",
          "name": "stderr",
          "text": [
            "\n"
          ]
        },
        {
          "output_type": "stream",
          "name": "stdout",
          "text": [
            "\n",
            "      Epoch    GPU_mem   box_loss   cls_loss   dfl_loss  Instances       Size\n"
          ]
        },
        {
          "output_type": "stream",
          "name": "stderr",
          "text": [
            "     37/100      7.97G      1.014     0.8342      1.074         31        640: 100%|██████████| 13/13 [00:07<00:00,  1.84it/s]\n",
            "                 Class     Images  Instances      Box(P          R      mAP50  mAP50-95): 100%|██████████| 1/1 [00:00<00:00,  8.79it/s]"
          ]
        },
        {
          "output_type": "stream",
          "name": "stdout",
          "text": [
            "                   all          7         62      0.503      0.669      0.597      0.356\n"
          ]
        },
        {
          "output_type": "stream",
          "name": "stderr",
          "text": [
            "\n"
          ]
        },
        {
          "output_type": "stream",
          "name": "stdout",
          "text": [
            "\n",
            "      Epoch    GPU_mem   box_loss   cls_loss   dfl_loss  Instances       Size\n"
          ]
        },
        {
          "output_type": "stream",
          "name": "stderr",
          "text": [
            "     38/100      8.09G     0.9914     0.7778       1.05         54        640: 100%|██████████| 13/13 [00:07<00:00,  1.81it/s]\n",
            "                 Class     Images  Instances      Box(P          R      mAP50  mAP50-95): 100%|██████████| 1/1 [00:00<00:00,  7.17it/s]"
          ]
        },
        {
          "output_type": "stream",
          "name": "stdout",
          "text": [
            "                   all          7         62       0.64      0.597      0.648      0.366\n"
          ]
        },
        {
          "output_type": "stream",
          "name": "stderr",
          "text": [
            "\n"
          ]
        },
        {
          "output_type": "stream",
          "name": "stdout",
          "text": [
            "\n",
            "      Epoch    GPU_mem   box_loss   cls_loss   dfl_loss  Instances       Size\n"
          ]
        },
        {
          "output_type": "stream",
          "name": "stderr",
          "text": [
            "     39/100      8.14G     0.9788      0.799      1.061         37        640: 100%|██████████| 13/13 [00:06<00:00,  1.90it/s]\n",
            "                 Class     Images  Instances      Box(P          R      mAP50  mAP50-95): 100%|██████████| 1/1 [00:00<00:00,  9.12it/s]"
          ]
        },
        {
          "output_type": "stream",
          "name": "stdout",
          "text": [
            "                   all          7         62      0.641      0.645      0.645      0.352\n"
          ]
        },
        {
          "output_type": "stream",
          "name": "stderr",
          "text": [
            "\n"
          ]
        },
        {
          "output_type": "stream",
          "name": "stdout",
          "text": [
            "\n",
            "      Epoch    GPU_mem   box_loss   cls_loss   dfl_loss  Instances       Size\n"
          ]
        },
        {
          "output_type": "stream",
          "name": "stderr",
          "text": [
            "     40/100      8.15G     0.9772     0.7841      1.064         73        640: 100%|██████████| 13/13 [00:07<00:00,  1.84it/s]\n",
            "                 Class     Images  Instances      Box(P          R      mAP50  mAP50-95): 100%|██████████| 1/1 [00:00<00:00,  9.11it/s]"
          ]
        },
        {
          "output_type": "stream",
          "name": "stdout",
          "text": [
            "                   all          7         62      0.532      0.605      0.546      0.305\n"
          ]
        },
        {
          "output_type": "stream",
          "name": "stderr",
          "text": [
            "\n"
          ]
        },
        {
          "output_type": "stream",
          "name": "stdout",
          "text": [
            "\n",
            "      Epoch    GPU_mem   box_loss   cls_loss   dfl_loss  Instances       Size\n"
          ]
        },
        {
          "output_type": "stream",
          "name": "stderr",
          "text": [
            "     41/100      8.12G     0.9582     0.7681      1.045         46        640: 100%|██████████| 13/13 [00:06<00:00,  1.86it/s]\n",
            "                 Class     Images  Instances      Box(P          R      mAP50  mAP50-95): 100%|██████████| 1/1 [00:00<00:00,  5.37it/s]"
          ]
        },
        {
          "output_type": "stream",
          "name": "stdout",
          "text": [
            "                   all          7         62       0.65      0.599      0.614      0.348\n"
          ]
        },
        {
          "output_type": "stream",
          "name": "stderr",
          "text": [
            "\n"
          ]
        },
        {
          "output_type": "stream",
          "name": "stdout",
          "text": [
            "\n",
            "      Epoch    GPU_mem   box_loss   cls_loss   dfl_loss  Instances       Size\n"
          ]
        },
        {
          "output_type": "stream",
          "name": "stderr",
          "text": [
            "     42/100      8.15G     0.9744     0.7547      1.046         66        640: 100%|██████████| 13/13 [00:06<00:00,  1.90it/s]\n",
            "                 Class     Images  Instances      Box(P          R      mAP50  mAP50-95): 100%|██████████| 1/1 [00:00<00:00,  9.03it/s]"
          ]
        },
        {
          "output_type": "stream",
          "name": "stdout",
          "text": [
            "                   all          7         62      0.584      0.677       0.65      0.363\n"
          ]
        },
        {
          "output_type": "stream",
          "name": "stderr",
          "text": [
            "\n"
          ]
        },
        {
          "output_type": "stream",
          "name": "stdout",
          "text": [
            "\n",
            "      Epoch    GPU_mem   box_loss   cls_loss   dfl_loss  Instances       Size\n"
          ]
        },
        {
          "output_type": "stream",
          "name": "stderr",
          "text": [
            "     43/100      8.13G     0.9674     0.7741      1.044         43        640: 100%|██████████| 13/13 [00:07<00:00,  1.83it/s]\n",
            "                 Class     Images  Instances      Box(P          R      mAP50  mAP50-95): 100%|██████████| 1/1 [00:00<00:00,  8.36it/s]"
          ]
        },
        {
          "output_type": "stream",
          "name": "stdout",
          "text": [
            "                   all          7         62      0.558       0.71      0.673       0.36\n"
          ]
        },
        {
          "output_type": "stream",
          "name": "stderr",
          "text": [
            "\n"
          ]
        },
        {
          "output_type": "stream",
          "name": "stdout",
          "text": [
            "\n",
            "      Epoch    GPU_mem   box_loss   cls_loss   dfl_loss  Instances       Size\n"
          ]
        },
        {
          "output_type": "stream",
          "name": "stderr",
          "text": [
            "     44/100      8.14G     0.9394     0.7441      1.036         46        640: 100%|██████████| 13/13 [00:07<00:00,  1.81it/s]\n",
            "                 Class     Images  Instances      Box(P          R      mAP50  mAP50-95): 100%|██████████| 1/1 [00:00<00:00,  7.76it/s]\n"
          ]
        },
        {
          "output_type": "stream",
          "name": "stdout",
          "text": [
            "                   all          7         62      0.697      0.645      0.702      0.393\n",
            "\n",
            "      Epoch    GPU_mem   box_loss   cls_loss   dfl_loss  Instances       Size\n"
          ]
        },
        {
          "output_type": "stream",
          "name": "stderr",
          "text": [
            "     45/100      7.97G     0.9245     0.7275      1.018         41        640: 100%|██████████| 13/13 [00:06<00:00,  1.90it/s]\n",
            "                 Class     Images  Instances      Box(P          R      mAP50  mAP50-95): 100%|██████████| 1/1 [00:00<00:00,  9.02it/s]"
          ]
        },
        {
          "output_type": "stream",
          "name": "stdout",
          "text": [
            "                   all          7         62      0.725      0.637      0.677        0.4\n"
          ]
        },
        {
          "output_type": "stream",
          "name": "stderr",
          "text": [
            "\n"
          ]
        },
        {
          "output_type": "stream",
          "name": "stdout",
          "text": [
            "\n",
            "      Epoch    GPU_mem   box_loss   cls_loss   dfl_loss  Instances       Size\n"
          ]
        },
        {
          "output_type": "stream",
          "name": "stderr",
          "text": [
            "     46/100       8.1G     0.9697     0.7584      1.076         44        640: 100%|██████████| 13/13 [00:07<00:00,  1.82it/s]\n",
            "                 Class     Images  Instances      Box(P          R      mAP50  mAP50-95): 100%|██████████| 1/1 [00:00<00:00,  8.81it/s]"
          ]
        },
        {
          "output_type": "stream",
          "name": "stdout",
          "text": [
            "                   all          7         62      0.504      0.839      0.634      0.366\n"
          ]
        },
        {
          "output_type": "stream",
          "name": "stderr",
          "text": [
            "\n"
          ]
        },
        {
          "output_type": "stream",
          "name": "stdout",
          "text": [
            "\n",
            "      Epoch    GPU_mem   box_loss   cls_loss   dfl_loss  Instances       Size\n"
          ]
        },
        {
          "output_type": "stream",
          "name": "stderr",
          "text": [
            "     47/100      8.12G     0.9274     0.7336      1.043         36        640: 100%|██████████| 13/13 [00:07<00:00,  1.84it/s]\n",
            "                 Class     Images  Instances      Box(P          R      mAP50  mAP50-95): 100%|██████████| 1/1 [00:00<00:00,  7.22it/s]"
          ]
        },
        {
          "output_type": "stream",
          "name": "stdout",
          "text": [
            "                   all          7         62      0.632      0.677      0.694      0.422\n"
          ]
        },
        {
          "output_type": "stream",
          "name": "stderr",
          "text": [
            "\n"
          ]
        },
        {
          "output_type": "stream",
          "name": "stdout",
          "text": [
            "\n",
            "      Epoch    GPU_mem   box_loss   cls_loss   dfl_loss  Instances       Size\n"
          ]
        },
        {
          "output_type": "stream",
          "name": "stderr",
          "text": [
            "     48/100      8.11G     0.8863     0.6806      1.027        102        640: 100%|██████████| 13/13 [00:06<00:00,  1.89it/s]\n",
            "                 Class     Images  Instances      Box(P          R      mAP50  mAP50-95): 100%|██████████| 1/1 [00:00<00:00,  9.05it/s]"
          ]
        },
        {
          "output_type": "stream",
          "name": "stdout",
          "text": [
            "                   all          7         62      0.646      0.648      0.723      0.423\n"
          ]
        },
        {
          "output_type": "stream",
          "name": "stderr",
          "text": [
            "\n"
          ]
        },
        {
          "output_type": "stream",
          "name": "stdout",
          "text": [
            "\n",
            "      Epoch    GPU_mem   box_loss   cls_loss   dfl_loss  Instances       Size\n"
          ]
        },
        {
          "output_type": "stream",
          "name": "stderr",
          "text": [
            "     49/100      8.11G     0.9161     0.7035      1.027         48        640: 100%|██████████| 13/13 [00:07<00:00,  1.85it/s]\n",
            "                 Class     Images  Instances      Box(P          R      mAP50  mAP50-95): 100%|██████████| 1/1 [00:00<00:00,  9.00it/s]"
          ]
        },
        {
          "output_type": "stream",
          "name": "stdout",
          "text": [
            "                   all          7         62      0.746      0.616      0.706      0.431\n"
          ]
        },
        {
          "output_type": "stream",
          "name": "stderr",
          "text": [
            "\n"
          ]
        },
        {
          "output_type": "stream",
          "name": "stdout",
          "text": [
            "\n",
            "      Epoch    GPU_mem   box_loss   cls_loss   dfl_loss  Instances       Size\n"
          ]
        },
        {
          "output_type": "stream",
          "name": "stderr",
          "text": [
            "     50/100       8.1G     0.9572     0.7254       1.03         70        640: 100%|██████████| 13/13 [00:07<00:00,  1.82it/s]\n",
            "                 Class     Images  Instances      Box(P          R      mAP50  mAP50-95): 100%|██████████| 1/1 [00:00<00:00,  8.78it/s]"
          ]
        },
        {
          "output_type": "stream",
          "name": "stdout",
          "text": [
            "                   all          7         62      0.712      0.613      0.659      0.416\n"
          ]
        },
        {
          "output_type": "stream",
          "name": "stderr",
          "text": [
            "\n"
          ]
        },
        {
          "output_type": "stream",
          "name": "stdout",
          "text": [
            "\n",
            "      Epoch    GPU_mem   box_loss   cls_loss   dfl_loss  Instances       Size\n"
          ]
        },
        {
          "output_type": "stream",
          "name": "stderr",
          "text": [
            "     51/100      8.09G      0.903     0.7051      1.012         33        640: 100%|██████████| 13/13 [00:06<00:00,  1.89it/s]\n",
            "                 Class     Images  Instances      Box(P          R      mAP50  mAP50-95): 100%|██████████| 1/1 [00:00<00:00,  9.01it/s]"
          ]
        },
        {
          "output_type": "stream",
          "name": "stdout",
          "text": [
            "                   all          7         62      0.698      0.629      0.695      0.406\n"
          ]
        },
        {
          "output_type": "stream",
          "name": "stderr",
          "text": [
            "\n"
          ]
        },
        {
          "output_type": "stream",
          "name": "stdout",
          "text": [
            "\n",
            "      Epoch    GPU_mem   box_loss   cls_loss   dfl_loss  Instances       Size\n"
          ]
        },
        {
          "output_type": "stream",
          "name": "stderr",
          "text": [
            "     52/100      8.03G     0.8916     0.6863      1.032         51        640: 100%|██████████| 13/13 [00:07<00:00,  1.84it/s]\n",
            "                 Class     Images  Instances      Box(P          R      mAP50  mAP50-95): 100%|██████████| 1/1 [00:00<00:00,  8.78it/s]"
          ]
        },
        {
          "output_type": "stream",
          "name": "stdout",
          "text": [
            "                   all          7         62      0.846      0.706      0.801      0.466\n"
          ]
        },
        {
          "output_type": "stream",
          "name": "stderr",
          "text": [
            "\n"
          ]
        },
        {
          "output_type": "stream",
          "name": "stdout",
          "text": [
            "\n",
            "      Epoch    GPU_mem   box_loss   cls_loss   dfl_loss  Instances       Size\n"
          ]
        },
        {
          "output_type": "stream",
          "name": "stderr",
          "text": [
            "     53/100      8.09G     0.8795     0.6651      1.015         61        640: 100%|██████████| 13/13 [00:07<00:00,  1.84it/s]\n",
            "                 Class     Images  Instances      Box(P          R      mAP50  mAP50-95): 100%|██████████| 1/1 [00:00<00:00,  9.03it/s]"
          ]
        },
        {
          "output_type": "stream",
          "name": "stdout",
          "text": [
            "                   all          7         62      0.712      0.661      0.694      0.433\n"
          ]
        },
        {
          "output_type": "stream",
          "name": "stderr",
          "text": [
            "\n"
          ]
        },
        {
          "output_type": "stream",
          "name": "stdout",
          "text": [
            "\n",
            "      Epoch    GPU_mem   box_loss   cls_loss   dfl_loss  Instances       Size\n"
          ]
        },
        {
          "output_type": "stream",
          "name": "stderr",
          "text": [
            "     54/100      8.13G     0.8972     0.6725      1.027         51        640: 100%|██████████| 13/13 [00:06<00:00,  1.90it/s]\n",
            "                 Class     Images  Instances      Box(P          R      mAP50  mAP50-95): 100%|██████████| 1/1 [00:00<00:00,  8.63it/s]"
          ]
        },
        {
          "output_type": "stream",
          "name": "stdout",
          "text": [
            "                   all          7         62      0.744      0.597      0.666      0.406\n"
          ]
        },
        {
          "output_type": "stream",
          "name": "stderr",
          "text": [
            "\n"
          ]
        },
        {
          "output_type": "stream",
          "name": "stdout",
          "text": [
            "\n",
            "      Epoch    GPU_mem   box_loss   cls_loss   dfl_loss  Instances       Size\n"
          ]
        },
        {
          "output_type": "stream",
          "name": "stderr",
          "text": [
            "     55/100      8.13G     0.8908     0.6893      1.012         37        640: 100%|██████████| 13/13 [00:07<00:00,  1.82it/s]\n",
            "                 Class     Images  Instances      Box(P          R      mAP50  mAP50-95): 100%|██████████| 1/1 [00:00<00:00,  9.13it/s]"
          ]
        },
        {
          "output_type": "stream",
          "name": "stdout",
          "text": [
            "                   all          7         62      0.816      0.613      0.738      0.438\n"
          ]
        },
        {
          "output_type": "stream",
          "name": "stderr",
          "text": [
            "\n"
          ]
        },
        {
          "output_type": "stream",
          "name": "stdout",
          "text": [
            "\n",
            "      Epoch    GPU_mem   box_loss   cls_loss   dfl_loss  Instances       Size\n"
          ]
        },
        {
          "output_type": "stream",
          "name": "stderr",
          "text": [
            "     56/100      8.17G     0.8824     0.6859     0.9998         31        640: 100%|██████████| 13/13 [00:07<00:00,  1.82it/s]\n",
            "                 Class     Images  Instances      Box(P          R      mAP50  mAP50-95): 100%|██████████| 1/1 [00:00<00:00,  7.21it/s]"
          ]
        },
        {
          "output_type": "stream",
          "name": "stdout",
          "text": [
            "                   all          7         62      0.691      0.758      0.768      0.471\n"
          ]
        },
        {
          "output_type": "stream",
          "name": "stderr",
          "text": [
            "\n"
          ]
        },
        {
          "output_type": "stream",
          "name": "stdout",
          "text": [
            "\n",
            "      Epoch    GPU_mem   box_loss   cls_loss   dfl_loss  Instances       Size\n"
          ]
        },
        {
          "output_type": "stream",
          "name": "stderr",
          "text": [
            "     57/100      8.09G     0.9191     0.6771       1.01         61        640: 100%|██████████| 13/13 [00:06<00:00,  1.88it/s]\n",
            "                 Class     Images  Instances      Box(P          R      mAP50  mAP50-95): 100%|██████████| 1/1 [00:00<00:00,  9.01it/s]"
          ]
        },
        {
          "output_type": "stream",
          "name": "stdout",
          "text": [
            "                   all          7         62      0.637      0.806      0.746      0.462\n"
          ]
        },
        {
          "output_type": "stream",
          "name": "stderr",
          "text": [
            "\n"
          ]
        },
        {
          "output_type": "stream",
          "name": "stdout",
          "text": [
            "\n",
            "      Epoch    GPU_mem   box_loss   cls_loss   dfl_loss  Instances       Size\n"
          ]
        },
        {
          "output_type": "stream",
          "name": "stderr",
          "text": [
            "     58/100      8.08G      0.859     0.6715      1.012         62        640: 100%|██████████| 13/13 [00:07<00:00,  1.84it/s]\n",
            "                 Class     Images  Instances      Box(P          R      mAP50  mAP50-95): 100%|██████████| 1/1 [00:00<00:00,  8.97it/s]"
          ]
        },
        {
          "output_type": "stream",
          "name": "stdout",
          "text": [
            "                   all          7         62      0.654      0.726      0.728      0.461\n"
          ]
        },
        {
          "output_type": "stream",
          "name": "stderr",
          "text": [
            "\n"
          ]
        },
        {
          "output_type": "stream",
          "name": "stdout",
          "text": [
            "\n",
            "      Epoch    GPU_mem   box_loss   cls_loss   dfl_loss  Instances       Size\n"
          ]
        },
        {
          "output_type": "stream",
          "name": "stderr",
          "text": [
            "     59/100      8.13G     0.8196     0.6317     0.9814         43        640: 100%|██████████| 13/13 [00:07<00:00,  1.84it/s]\n",
            "                 Class     Images  Instances      Box(P          R      mAP50  mAP50-95): 100%|██████████| 1/1 [00:00<00:00,  5.92it/s]"
          ]
        },
        {
          "output_type": "stream",
          "name": "stdout",
          "text": [
            "                   all          7         62      0.648       0.83      0.766      0.462\n"
          ]
        },
        {
          "output_type": "stream",
          "name": "stderr",
          "text": [
            "\n"
          ]
        },
        {
          "output_type": "stream",
          "name": "stdout",
          "text": [
            "\n",
            "      Epoch    GPU_mem   box_loss   cls_loss   dfl_loss  Instances       Size\n"
          ]
        },
        {
          "output_type": "stream",
          "name": "stderr",
          "text": [
            "     60/100      8.09G      0.785     0.5806     0.9682         47        640: 100%|██████████| 13/13 [00:06<00:00,  1.89it/s]\n",
            "                 Class     Images  Instances      Box(P          R      mAP50  mAP50-95): 100%|██████████| 1/1 [00:00<00:00,  9.18it/s]"
          ]
        },
        {
          "output_type": "stream",
          "name": "stdout",
          "text": [
            "                   all          7         62      0.733       0.71      0.742      0.454\n"
          ]
        },
        {
          "output_type": "stream",
          "name": "stderr",
          "text": [
            "\n"
          ]
        },
        {
          "output_type": "stream",
          "name": "stdout",
          "text": [
            "\n",
            "      Epoch    GPU_mem   box_loss   cls_loss   dfl_loss  Instances       Size\n"
          ]
        },
        {
          "output_type": "stream",
          "name": "stderr",
          "text": [
            "     61/100      8.08G      0.818     0.6045     0.9826         63        640: 100%|██████████| 13/13 [00:07<00:00,  1.84it/s]\n",
            "                 Class     Images  Instances      Box(P          R      mAP50  mAP50-95): 100%|██████████| 1/1 [00:00<00:00,  8.82it/s]"
          ]
        },
        {
          "output_type": "stream",
          "name": "stdout",
          "text": [
            "                   all          7         62      0.651      0.784      0.769      0.467\n"
          ]
        },
        {
          "output_type": "stream",
          "name": "stderr",
          "text": [
            "\n"
          ]
        },
        {
          "output_type": "stream",
          "name": "stdout",
          "text": [
            "\n",
            "      Epoch    GPU_mem   box_loss   cls_loss   dfl_loss  Instances       Size\n"
          ]
        },
        {
          "output_type": "stream",
          "name": "stderr",
          "text": [
            "     62/100       8.1G     0.8516     0.6457      1.004         33        640: 100%|██████████| 13/13 [00:07<00:00,  1.82it/s]\n",
            "                 Class     Images  Instances      Box(P          R      mAP50  mAP50-95): 100%|██████████| 1/1 [00:00<00:00,  7.00it/s]"
          ]
        },
        {
          "output_type": "stream",
          "name": "stdout",
          "text": [
            "                   all          7         62      0.789      0.665      0.771      0.475\n"
          ]
        },
        {
          "output_type": "stream",
          "name": "stderr",
          "text": [
            "\n"
          ]
        },
        {
          "output_type": "stream",
          "name": "stdout",
          "text": [
            "\n",
            "      Epoch    GPU_mem   box_loss   cls_loss   dfl_loss  Instances       Size\n"
          ]
        },
        {
          "output_type": "stream",
          "name": "stderr",
          "text": [
            "     63/100       8.1G     0.8084     0.6329     0.9845         64        640: 100%|██████████| 13/13 [00:06<00:00,  1.90it/s]\n",
            "                 Class     Images  Instances      Box(P          R      mAP50  mAP50-95): 100%|██████████| 1/1 [00:00<00:00,  8.75it/s]"
          ]
        },
        {
          "output_type": "stream",
          "name": "stdout",
          "text": [
            "                   all          7         62      0.672      0.762      0.718      0.453\n"
          ]
        },
        {
          "output_type": "stream",
          "name": "stderr",
          "text": [
            "\n"
          ]
        },
        {
          "output_type": "stream",
          "name": "stdout",
          "text": [
            "\n",
            "      Epoch    GPU_mem   box_loss   cls_loss   dfl_loss  Instances       Size\n"
          ]
        },
        {
          "output_type": "stream",
          "name": "stderr",
          "text": [
            "     64/100      8.04G     0.8118     0.5982     0.9729         64        640: 100%|██████████| 13/13 [00:07<00:00,  1.83it/s]\n",
            "                 Class     Images  Instances      Box(P          R      mAP50  mAP50-95): 100%|██████████| 1/1 [00:00<00:00,  9.19it/s]"
          ]
        },
        {
          "output_type": "stream",
          "name": "stdout",
          "text": [
            "                   all          7         62       0.65       0.71      0.703      0.453\n"
          ]
        },
        {
          "output_type": "stream",
          "name": "stderr",
          "text": [
            "\n"
          ]
        },
        {
          "output_type": "stream",
          "name": "stdout",
          "text": [
            "\n",
            "      Epoch    GPU_mem   box_loss   cls_loss   dfl_loss  Instances       Size\n"
          ]
        },
        {
          "output_type": "stream",
          "name": "stderr",
          "text": [
            "     65/100       8.1G     0.8286     0.6272     0.9885         41        640: 100%|██████████| 13/13 [00:06<00:00,  1.87it/s]\n",
            "                 Class     Images  Instances      Box(P          R      mAP50  mAP50-95): 100%|██████████| 1/1 [00:00<00:00,  5.52it/s]"
          ]
        },
        {
          "output_type": "stream",
          "name": "stdout",
          "text": [
            "                   all          7         62      0.697      0.742      0.736      0.471\n"
          ]
        },
        {
          "output_type": "stream",
          "name": "stderr",
          "text": [
            "\n"
          ]
        },
        {
          "output_type": "stream",
          "name": "stdout",
          "text": [
            "\n",
            "      Epoch    GPU_mem   box_loss   cls_loss   dfl_loss  Instances       Size\n"
          ]
        },
        {
          "output_type": "stream",
          "name": "stderr",
          "text": [
            "     66/100      8.07G     0.8031     0.5899     0.9755         80        640: 100%|██████████| 13/13 [00:06<00:00,  1.89it/s]\n",
            "                 Class     Images  Instances      Box(P          R      mAP50  mAP50-95): 100%|██████████| 1/1 [00:00<00:00,  9.16it/s]"
          ]
        },
        {
          "output_type": "stream",
          "name": "stdout",
          "text": [
            "                   all          7         62      0.714      0.764      0.731      0.438\n"
          ]
        },
        {
          "output_type": "stream",
          "name": "stderr",
          "text": [
            "\n"
          ]
        },
        {
          "output_type": "stream",
          "name": "stdout",
          "text": [
            "\n",
            "      Epoch    GPU_mem   box_loss   cls_loss   dfl_loss  Instances       Size\n"
          ]
        },
        {
          "output_type": "stream",
          "name": "stderr",
          "text": [
            "     67/100      8.14G     0.8185     0.6099     0.9815         50        640: 100%|██████████| 13/13 [00:07<00:00,  1.84it/s]\n",
            "                 Class     Images  Instances      Box(P          R      mAP50  mAP50-95): 100%|██████████| 1/1 [00:00<00:00,  9.09it/s]"
          ]
        },
        {
          "output_type": "stream",
          "name": "stdout",
          "text": [
            "                   all          7         62      0.764       0.73      0.735       0.47\n"
          ]
        },
        {
          "output_type": "stream",
          "name": "stderr",
          "text": [
            "\n"
          ]
        },
        {
          "output_type": "stream",
          "name": "stdout",
          "text": [
            "\n",
            "      Epoch    GPU_mem   box_loss   cls_loss   dfl_loss  Instances       Size\n"
          ]
        },
        {
          "output_type": "stream",
          "name": "stderr",
          "text": [
            "     68/100      8.04G     0.8388     0.6165     0.9924         75        640: 100%|██████████| 13/13 [00:07<00:00,  1.82it/s]\n",
            "                 Class     Images  Instances      Box(P          R      mAP50  mAP50-95): 100%|██████████| 1/1 [00:00<00:00,  7.02it/s]\n"
          ]
        },
        {
          "output_type": "stream",
          "name": "stdout",
          "text": [
            "                   all          7         62      0.692       0.71      0.747      0.491\n",
            "\n",
            "      Epoch    GPU_mem   box_loss   cls_loss   dfl_loss  Instances       Size\n"
          ]
        },
        {
          "output_type": "stream",
          "name": "stderr",
          "text": [
            "     69/100      8.02G     0.7796     0.5852     0.9759         42        640: 100%|██████████| 13/13 [00:06<00:00,  1.89it/s]\n",
            "                 Class     Images  Instances      Box(P          R      mAP50  mAP50-95): 100%|██████████| 1/1 [00:00<00:00,  9.02it/s]"
          ]
        },
        {
          "output_type": "stream",
          "name": "stdout",
          "text": [
            "                   all          7         62      0.697      0.629      0.648      0.423\n"
          ]
        },
        {
          "output_type": "stream",
          "name": "stderr",
          "text": [
            "\n"
          ]
        },
        {
          "output_type": "stream",
          "name": "stdout",
          "text": [
            "\n",
            "      Epoch    GPU_mem   box_loss   cls_loss   dfl_loss  Instances       Size\n"
          ]
        },
        {
          "output_type": "stream",
          "name": "stderr",
          "text": [
            "     70/100      8.17G     0.8093     0.6196     0.9806         42        640: 100%|██████████| 13/13 [00:07<00:00,  1.84it/s]\n",
            "                 Class     Images  Instances      Box(P          R      mAP50  mAP50-95): 100%|██████████| 1/1 [00:00<00:00,  8.02it/s]"
          ]
        },
        {
          "output_type": "stream",
          "name": "stdout",
          "text": [
            "                   all          7         62      0.663      0.666      0.697      0.453\n"
          ]
        },
        {
          "output_type": "stream",
          "name": "stderr",
          "text": [
            "\n"
          ]
        },
        {
          "output_type": "stream",
          "name": "stdout",
          "text": [
            "\n",
            "      Epoch    GPU_mem   box_loss   cls_loss   dfl_loss  Instances       Size\n"
          ]
        },
        {
          "output_type": "stream",
          "name": "stderr",
          "text": [
            "     71/100      8.14G      0.825     0.6191     0.9961         34        640: 100%|██████████| 13/13 [00:07<00:00,  1.81it/s]\n",
            "                 Class     Images  Instances      Box(P          R      mAP50  mAP50-95): 100%|██████████| 1/1 [00:00<00:00,  7.13it/s]"
          ]
        },
        {
          "output_type": "stream",
          "name": "stdout",
          "text": [
            "                   all          7         62      0.674      0.702      0.711      0.485\n"
          ]
        },
        {
          "output_type": "stream",
          "name": "stderr",
          "text": [
            "\n"
          ]
        },
        {
          "output_type": "stream",
          "name": "stdout",
          "text": [
            "\n",
            "      Epoch    GPU_mem   box_loss   cls_loss   dfl_loss  Instances       Size\n"
          ]
        },
        {
          "output_type": "stream",
          "name": "stderr",
          "text": [
            "     72/100      8.14G     0.8246     0.6328     0.9927         51        640: 100%|██████████| 13/13 [00:06<00:00,  1.88it/s]\n",
            "                 Class     Images  Instances      Box(P          R      mAP50  mAP50-95): 100%|██████████| 1/1 [00:00<00:00,  9.19it/s]"
          ]
        },
        {
          "output_type": "stream",
          "name": "stdout",
          "text": [
            "                   all          7         62      0.747      0.548      0.662       0.46\n"
          ]
        },
        {
          "output_type": "stream",
          "name": "stderr",
          "text": [
            "\n"
          ]
        },
        {
          "output_type": "stream",
          "name": "stdout",
          "text": [
            "\n",
            "      Epoch    GPU_mem   box_loss   cls_loss   dfl_loss  Instances       Size\n"
          ]
        },
        {
          "output_type": "stream",
          "name": "stderr",
          "text": [
            "     73/100      8.05G     0.7867     0.6083     0.9773         69        640: 100%|██████████| 13/13 [00:07<00:00,  1.84it/s]\n",
            "                 Class     Images  Instances      Box(P          R      mAP50  mAP50-95): 100%|██████████| 1/1 [00:00<00:00,  9.10it/s]"
          ]
        },
        {
          "output_type": "stream",
          "name": "stdout",
          "text": [
            "                   all          7         62      0.691      0.694      0.748      0.484\n"
          ]
        },
        {
          "output_type": "stream",
          "name": "stderr",
          "text": [
            "\n"
          ]
        },
        {
          "output_type": "stream",
          "name": "stdout",
          "text": [
            "\n",
            "      Epoch    GPU_mem   box_loss   cls_loss   dfl_loss  Instances       Size\n"
          ]
        },
        {
          "output_type": "stream",
          "name": "stderr",
          "text": [
            "     74/100      8.03G     0.8001     0.6115     0.9986         33        640: 100%|██████████| 13/13 [00:07<00:00,  1.83it/s]\n",
            "                 Class     Images  Instances      Box(P          R      mAP50  mAP50-95): 100%|██████████| 1/1 [00:00<00:00,  6.03it/s]"
          ]
        },
        {
          "output_type": "stream",
          "name": "stdout",
          "text": [
            "                   all          7         62      0.628      0.682      0.699      0.458\n"
          ]
        },
        {
          "output_type": "stream",
          "name": "stderr",
          "text": [
            "\n"
          ]
        },
        {
          "output_type": "stream",
          "name": "stdout",
          "text": [
            "\n",
            "      Epoch    GPU_mem   box_loss   cls_loss   dfl_loss  Instances       Size\n"
          ]
        },
        {
          "output_type": "stream",
          "name": "stderr",
          "text": [
            "     75/100      8.09G       0.76     0.5478     0.9692         53        640: 100%|██████████| 13/13 [00:06<00:00,  1.90it/s]\n",
            "                 Class     Images  Instances      Box(P          R      mAP50  mAP50-95): 100%|██████████| 1/1 [00:00<00:00,  9.02it/s]"
          ]
        },
        {
          "output_type": "stream",
          "name": "stdout",
          "text": [
            "                   all          7         62      0.669      0.694      0.727      0.464\n"
          ]
        },
        {
          "output_type": "stream",
          "name": "stderr",
          "text": [
            "\n"
          ]
        },
        {
          "output_type": "stream",
          "name": "stdout",
          "text": [
            "\n",
            "      Epoch    GPU_mem   box_loss   cls_loss   dfl_loss  Instances       Size\n"
          ]
        },
        {
          "output_type": "stream",
          "name": "stderr",
          "text": [
            "     76/100      8.09G     0.7681     0.5692     0.9656         50        640: 100%|██████████| 13/13 [00:07<00:00,  1.83it/s]\n",
            "                 Class     Images  Instances      Box(P          R      mAP50  mAP50-95): 100%|██████████| 1/1 [00:00<00:00,  9.12it/s]"
          ]
        },
        {
          "output_type": "stream",
          "name": "stdout",
          "text": [
            "                   all          7         62      0.793       0.62      0.751      0.497\n"
          ]
        },
        {
          "output_type": "stream",
          "name": "stderr",
          "text": [
            "\n"
          ]
        },
        {
          "output_type": "stream",
          "name": "stdout",
          "text": [
            "\n",
            "      Epoch    GPU_mem   box_loss   cls_loss   dfl_loss  Instances       Size\n"
          ]
        },
        {
          "output_type": "stream",
          "name": "stderr",
          "text": [
            "     77/100      8.11G     0.7625      0.565     0.9652         61        640: 100%|██████████| 13/13 [00:07<00:00,  1.84it/s]\n",
            "                 Class     Images  Instances      Box(P          R      mAP50  mAP50-95): 100%|██████████| 1/1 [00:00<00:00,  4.43it/s]"
          ]
        },
        {
          "output_type": "stream",
          "name": "stdout",
          "text": [
            "                   all          7         62      0.774      0.677      0.747      0.498\n"
          ]
        },
        {
          "output_type": "stream",
          "name": "stderr",
          "text": [
            "\n"
          ]
        },
        {
          "output_type": "stream",
          "name": "stdout",
          "text": [
            "\n",
            "      Epoch    GPU_mem   box_loss   cls_loss   dfl_loss  Instances       Size\n"
          ]
        },
        {
          "output_type": "stream",
          "name": "stderr",
          "text": [
            "     78/100      8.08G     0.7414     0.5364     0.9588         53        640: 100%|██████████| 13/13 [00:06<00:00,  1.90it/s]\n",
            "                 Class     Images  Instances      Box(P          R      mAP50  mAP50-95): 100%|██████████| 1/1 [00:00<00:00,  9.03it/s]"
          ]
        },
        {
          "output_type": "stream",
          "name": "stdout",
          "text": [
            "                   all          7         62      0.808      0.661      0.761      0.512\n"
          ]
        },
        {
          "output_type": "stream",
          "name": "stderr",
          "text": [
            "\n"
          ]
        },
        {
          "output_type": "stream",
          "name": "stdout",
          "text": [
            "\n",
            "      Epoch    GPU_mem   box_loss   cls_loss   dfl_loss  Instances       Size\n"
          ]
        },
        {
          "output_type": "stream",
          "name": "stderr",
          "text": [
            "     79/100      8.03G     0.7488     0.5289     0.9425         54        640: 100%|██████████| 13/13 [00:07<00:00,  1.85it/s]\n",
            "                 Class     Images  Instances      Box(P          R      mAP50  mAP50-95): 100%|██████████| 1/1 [00:00<00:00,  9.08it/s]"
          ]
        },
        {
          "output_type": "stream",
          "name": "stdout",
          "text": [
            "                   all          7         62      0.744       0.75      0.805      0.522\n"
          ]
        },
        {
          "output_type": "stream",
          "name": "stderr",
          "text": [
            "\n"
          ]
        },
        {
          "output_type": "stream",
          "name": "stdout",
          "text": [
            "\n",
            "      Epoch    GPU_mem   box_loss   cls_loss   dfl_loss  Instances       Size\n"
          ]
        },
        {
          "output_type": "stream",
          "name": "stderr",
          "text": [
            "     80/100      8.15G     0.6903     0.5035     0.9388         54        640: 100%|██████████| 13/13 [00:07<00:00,  1.80it/s]\n",
            "                 Class     Images  Instances      Box(P          R      mAP50  mAP50-95): 100%|██████████| 1/1 [00:00<00:00,  8.23it/s]"
          ]
        },
        {
          "output_type": "stream",
          "name": "stdout",
          "text": [
            "                   all          7         62      0.706      0.815      0.798      0.526\n"
          ]
        },
        {
          "output_type": "stream",
          "name": "stderr",
          "text": [
            "\n"
          ]
        },
        {
          "output_type": "stream",
          "name": "stdout",
          "text": [
            "\n",
            "      Epoch    GPU_mem   box_loss   cls_loss   dfl_loss  Instances       Size\n"
          ]
        },
        {
          "output_type": "stream",
          "name": "stderr",
          "text": [
            "     81/100      8.03G     0.7149     0.5276     0.9508         45        640: 100%|██████████| 13/13 [00:06<00:00,  1.89it/s]\n",
            "                 Class     Images  Instances      Box(P          R      mAP50  mAP50-95): 100%|██████████| 1/1 [00:00<00:00,  8.84it/s]"
          ]
        },
        {
          "output_type": "stream",
          "name": "stdout",
          "text": [
            "                   all          7         62      0.746      0.774      0.823       0.55\n"
          ]
        },
        {
          "output_type": "stream",
          "name": "stderr",
          "text": [
            "\n"
          ]
        },
        {
          "output_type": "stream",
          "name": "stdout",
          "text": [
            "\n",
            "      Epoch    GPU_mem   box_loss   cls_loss   dfl_loss  Instances       Size\n"
          ]
        },
        {
          "output_type": "stream",
          "name": "stderr",
          "text": [
            "     82/100       8.1G     0.7634     0.5436     0.9534         94        640: 100%|██████████| 13/13 [00:07<00:00,  1.84it/s]\n",
            "                 Class     Images  Instances      Box(P          R      mAP50  mAP50-95): 100%|██████████| 1/1 [00:00<00:00,  9.10it/s]"
          ]
        },
        {
          "output_type": "stream",
          "name": "stdout",
          "text": [
            "                   all          7         62      0.694       0.77      0.793      0.514\n"
          ]
        },
        {
          "output_type": "stream",
          "name": "stderr",
          "text": [
            "\n"
          ]
        },
        {
          "output_type": "stream",
          "name": "stdout",
          "text": [
            "\n",
            "      Epoch    GPU_mem   box_loss   cls_loss   dfl_loss  Instances       Size\n"
          ]
        },
        {
          "output_type": "stream",
          "name": "stderr",
          "text": [
            "     83/100      8.12G     0.7386     0.5345     0.9611         67        640: 100%|██████████| 13/13 [00:07<00:00,  1.85it/s]\n",
            "                 Class     Images  Instances      Box(P          R      mAP50  mAP50-95): 100%|██████████| 1/1 [00:00<00:00,  7.24it/s]"
          ]
        },
        {
          "output_type": "stream",
          "name": "stdout",
          "text": [
            "                   all          7         62      0.711      0.774      0.781       0.52\n"
          ]
        },
        {
          "output_type": "stream",
          "name": "stderr",
          "text": [
            "\n"
          ]
        },
        {
          "output_type": "stream",
          "name": "stdout",
          "text": [
            "\n",
            "      Epoch    GPU_mem   box_loss   cls_loss   dfl_loss  Instances       Size\n"
          ]
        },
        {
          "output_type": "stream",
          "name": "stderr",
          "text": [
            "     84/100      8.11G     0.7486     0.5265      0.954         58        640: 100%|██████████| 13/13 [00:06<00:00,  1.88it/s]\n",
            "                 Class     Images  Instances      Box(P          R      mAP50  mAP50-95): 100%|██████████| 1/1 [00:00<00:00,  9.13it/s]"
          ]
        },
        {
          "output_type": "stream",
          "name": "stdout",
          "text": [
            "                   all          7         62      0.749      0.772      0.797      0.548\n"
          ]
        },
        {
          "output_type": "stream",
          "name": "stderr",
          "text": [
            "\n"
          ]
        },
        {
          "output_type": "stream",
          "name": "stdout",
          "text": [
            "\n",
            "      Epoch    GPU_mem   box_loss   cls_loss   dfl_loss  Instances       Size\n"
          ]
        },
        {
          "output_type": "stream",
          "name": "stderr",
          "text": [
            "     85/100      8.12G     0.7245     0.5231     0.9625         72        640: 100%|██████████| 13/13 [00:07<00:00,  1.85it/s]\n",
            "                 Class     Images  Instances      Box(P          R      mAP50  mAP50-95): 100%|██████████| 1/1 [00:00<00:00,  9.13it/s]"
          ]
        },
        {
          "output_type": "stream",
          "name": "stdout",
          "text": [
            "                   all          7         62      0.774      0.806      0.809      0.551\n"
          ]
        },
        {
          "output_type": "stream",
          "name": "stderr",
          "text": [
            "\n"
          ]
        },
        {
          "output_type": "stream",
          "name": "stdout",
          "text": [
            "\n",
            "      Epoch    GPU_mem   box_loss   cls_loss   dfl_loss  Instances       Size\n"
          ]
        },
        {
          "output_type": "stream",
          "name": "stderr",
          "text": [
            "     86/100      8.13G     0.7062     0.5182     0.9431         61        640: 100%|██████████| 13/13 [00:07<00:00,  1.84it/s]\n",
            "                 Class     Images  Instances      Box(P          R      mAP50  mAP50-95): 100%|██████████| 1/1 [00:00<00:00,  6.45it/s]"
          ]
        },
        {
          "output_type": "stream",
          "name": "stdout",
          "text": [
            "                   all          7         62      0.786       0.83      0.832      0.555\n"
          ]
        },
        {
          "output_type": "stream",
          "name": "stderr",
          "text": [
            "\n"
          ]
        },
        {
          "output_type": "stream",
          "name": "stdout",
          "text": [
            "\n",
            "      Epoch    GPU_mem   box_loss   cls_loss   dfl_loss  Instances       Size\n"
          ]
        },
        {
          "output_type": "stream",
          "name": "stderr",
          "text": [
            "     87/100      8.13G      0.729      0.529     0.9558         45        640: 100%|██████████| 13/13 [00:06<00:00,  1.89it/s]\n",
            "                 Class     Images  Instances      Box(P          R      mAP50  mAP50-95): 100%|██████████| 1/1 [00:00<00:00,  8.55it/s]"
          ]
        },
        {
          "output_type": "stream",
          "name": "stdout",
          "text": [
            "                   all          7         62      0.787      0.774      0.803      0.553\n"
          ]
        },
        {
          "output_type": "stream",
          "name": "stderr",
          "text": [
            "\n"
          ]
        },
        {
          "output_type": "stream",
          "name": "stdout",
          "text": [
            "\n",
            "      Epoch    GPU_mem   box_loss   cls_loss   dfl_loss  Instances       Size\n"
          ]
        },
        {
          "output_type": "stream",
          "name": "stderr",
          "text": [
            "     88/100      8.12G      0.695     0.5113     0.9476         72        640: 100%|██████████| 13/13 [00:07<00:00,  1.84it/s]\n",
            "                 Class     Images  Instances      Box(P          R      mAP50  mAP50-95): 100%|██████████| 1/1 [00:00<00:00,  8.65it/s]"
          ]
        },
        {
          "output_type": "stream",
          "name": "stdout",
          "text": [
            "                   all          7         62      0.805       0.71      0.776      0.533\n"
          ]
        },
        {
          "output_type": "stream",
          "name": "stderr",
          "text": [
            "\n"
          ]
        },
        {
          "output_type": "stream",
          "name": "stdout",
          "text": [
            "\n",
            "      Epoch    GPU_mem   box_loss   cls_loss   dfl_loss  Instances       Size\n"
          ]
        },
        {
          "output_type": "stream",
          "name": "stderr",
          "text": [
            "     89/100      7.98G     0.7061     0.4985     0.9241         51        640: 100%|██████████| 13/13 [00:06<00:00,  1.87it/s]\n",
            "                 Class     Images  Instances      Box(P          R      mAP50  mAP50-95): 100%|██████████| 1/1 [00:00<00:00,  5.77it/s]"
          ]
        },
        {
          "output_type": "stream",
          "name": "stdout",
          "text": [
            "                   all          7         62      0.813      0.699      0.782      0.528\n"
          ]
        },
        {
          "output_type": "stream",
          "name": "stderr",
          "text": [
            "\n"
          ]
        },
        {
          "output_type": "stream",
          "name": "stdout",
          "text": [
            "\n",
            "      Epoch    GPU_mem   box_loss   cls_loss   dfl_loss  Instances       Size\n"
          ]
        },
        {
          "output_type": "stream",
          "name": "stderr",
          "text": [
            "     90/100      8.13G     0.6818     0.4926     0.9292         70        640: 100%|██████████| 13/13 [00:06<00:00,  1.88it/s]\n",
            "                 Class     Images  Instances      Box(P          R      mAP50  mAP50-95): 100%|██████████| 1/1 [00:00<00:00,  8.43it/s]"
          ]
        },
        {
          "output_type": "stream",
          "name": "stdout",
          "text": [
            "                   all          7         62       0.82      0.758      0.826      0.527\n"
          ]
        },
        {
          "output_type": "stream",
          "name": "stderr",
          "text": [
            "\n"
          ]
        },
        {
          "output_type": "stream",
          "name": "stdout",
          "text": [
            "Closing dataloader mosaic\n",
            "\u001b[34m\u001b[1malbumentations: \u001b[0mBlur(p=0.01, blur_limit=(3, 7)), MedianBlur(p=0.01, blur_limit=(3, 7)), ToGray(p=0.01, num_output_channels=3, method='weighted_average'), CLAHE(p=0.01, clip_limit=(1.0, 4.0), tile_grid_size=(8, 8))\n",
            "\n",
            "      Epoch    GPU_mem   box_loss   cls_loss   dfl_loss  Instances       Size\n"
          ]
        },
        {
          "output_type": "stream",
          "name": "stderr",
          "text": [
            "     91/100      8.12G      0.741     0.5671     0.9488         47        640: 100%|██████████| 13/13 [00:08<00:00,  1.54it/s]\n",
            "                 Class     Images  Instances      Box(P          R      mAP50  mAP50-95): 100%|██████████| 1/1 [00:00<00:00,  8.98it/s]"
          ]
        },
        {
          "output_type": "stream",
          "name": "stdout",
          "text": [
            "                   all          7         62      0.806      0.726      0.788      0.524\n"
          ]
        },
        {
          "output_type": "stream",
          "name": "stderr",
          "text": [
            "\n"
          ]
        },
        {
          "output_type": "stream",
          "name": "stdout",
          "text": [
            "\n",
            "      Epoch    GPU_mem   box_loss   cls_loss   dfl_loss  Instances       Size\n"
          ]
        },
        {
          "output_type": "stream",
          "name": "stderr",
          "text": [
            "     92/100      8.08G      0.749     0.5822     0.9475         50        640: 100%|██████████| 13/13 [00:07<00:00,  1.84it/s]\n",
            "                 Class     Images  Instances      Box(P          R      mAP50  mAP50-95): 100%|██████████| 1/1 [00:00<00:00,  9.00it/s]"
          ]
        },
        {
          "output_type": "stream",
          "name": "stdout",
          "text": [
            "                   all          7         62      0.842      0.774      0.803      0.526\n"
          ]
        },
        {
          "output_type": "stream",
          "name": "stderr",
          "text": [
            "\n"
          ]
        },
        {
          "output_type": "stream",
          "name": "stdout",
          "text": [
            "\n",
            "      Epoch    GPU_mem   box_loss   cls_loss   dfl_loss  Instances       Size\n"
          ]
        },
        {
          "output_type": "stream",
          "name": "stderr",
          "text": [
            "     93/100      8.02G     0.7481     0.5605     0.9529         19        640: 100%|██████████| 13/13 [00:06<00:00,  1.91it/s]\n",
            "                 Class     Images  Instances      Box(P          R      mAP50  mAP50-95): 100%|██████████| 1/1 [00:00<00:00,  8.41it/s]"
          ]
        },
        {
          "output_type": "stream",
          "name": "stdout",
          "text": [
            "                   all          7         62      0.793      0.758      0.792      0.524\n"
          ]
        },
        {
          "output_type": "stream",
          "name": "stderr",
          "text": [
            "\n"
          ]
        },
        {
          "output_type": "stream",
          "name": "stdout",
          "text": [
            "\n",
            "      Epoch    GPU_mem   box_loss   cls_loss   dfl_loss  Instances       Size\n"
          ]
        },
        {
          "output_type": "stream",
          "name": "stderr",
          "text": [
            "     94/100       8.1G     0.7103     0.5456     0.9421         54        640: 100%|██████████| 13/13 [00:06<00:00,  1.86it/s]\n",
            "                 Class     Images  Instances      Box(P          R      mAP50  mAP50-95): 100%|██████████| 1/1 [00:00<00:00,  8.18it/s]"
          ]
        },
        {
          "output_type": "stream",
          "name": "stdout",
          "text": [
            "                   all          7         62      0.775      0.777      0.803      0.531\n"
          ]
        },
        {
          "output_type": "stream",
          "name": "stderr",
          "text": [
            "\n"
          ]
        },
        {
          "output_type": "stream",
          "name": "stdout",
          "text": [
            "\n",
            "      Epoch    GPU_mem   box_loss   cls_loss   dfl_loss  Instances       Size\n"
          ]
        },
        {
          "output_type": "stream",
          "name": "stderr",
          "text": [
            "     95/100      8.17G     0.7281     0.5318       0.94         26        640: 100%|██████████| 13/13 [00:07<00:00,  1.83it/s]\n",
            "                 Class     Images  Instances      Box(P          R      mAP50  mAP50-95): 100%|██████████| 1/1 [00:00<00:00,  8.32it/s]"
          ]
        },
        {
          "output_type": "stream",
          "name": "stdout",
          "text": [
            "                   all          7         62      0.766       0.79      0.801      0.535\n"
          ]
        },
        {
          "output_type": "stream",
          "name": "stderr",
          "text": [
            "\n"
          ]
        },
        {
          "output_type": "stream",
          "name": "stdout",
          "text": [
            "\n",
            "      Epoch    GPU_mem   box_loss   cls_loss   dfl_loss  Instances       Size\n"
          ]
        },
        {
          "output_type": "stream",
          "name": "stderr",
          "text": [
            "     96/100      8.15G     0.7038      0.545     0.9406         22        640: 100%|██████████| 13/13 [00:06<00:00,  1.90it/s]\n",
            "                 Class     Images  Instances      Box(P          R      mAP50  mAP50-95): 100%|██████████| 1/1 [00:00<00:00,  9.04it/s]"
          ]
        },
        {
          "output_type": "stream",
          "name": "stdout",
          "text": [
            "                   all          7         62      0.793      0.742      0.792      0.518\n"
          ]
        },
        {
          "output_type": "stream",
          "name": "stderr",
          "text": [
            "\n"
          ]
        },
        {
          "output_type": "stream",
          "name": "stdout",
          "text": [
            "\n",
            "      Epoch    GPU_mem   box_loss   cls_loss   dfl_loss  Instances       Size\n"
          ]
        },
        {
          "output_type": "stream",
          "name": "stderr",
          "text": [
            "     97/100      8.07G     0.6856     0.5009      0.916         33        640: 100%|██████████| 13/13 [00:07<00:00,  1.85it/s]\n",
            "                 Class     Images  Instances      Box(P          R      mAP50  mAP50-95): 100%|██████████| 1/1 [00:00<00:00,  8.53it/s]"
          ]
        },
        {
          "output_type": "stream",
          "name": "stdout",
          "text": [
            "                   all          7         62      0.811      0.726      0.802      0.526\n"
          ]
        },
        {
          "output_type": "stream",
          "name": "stderr",
          "text": [
            "\n"
          ]
        },
        {
          "output_type": "stream",
          "name": "stdout",
          "text": [
            "\n",
            "      Epoch    GPU_mem   box_loss   cls_loss   dfl_loss  Instances       Size\n"
          ]
        },
        {
          "output_type": "stream",
          "name": "stderr",
          "text": [
            "     98/100      8.18G     0.7252     0.5583     0.9428         33        640: 100%|██████████| 13/13 [00:07<00:00,  1.85it/s]\n",
            "                 Class     Images  Instances      Box(P          R      mAP50  mAP50-95): 100%|██████████| 1/1 [00:00<00:00,  8.15it/s]"
          ]
        },
        {
          "output_type": "stream",
          "name": "stdout",
          "text": [
            "                   all          7         62      0.819      0.742      0.817      0.532\n"
          ]
        },
        {
          "output_type": "stream",
          "name": "stderr",
          "text": [
            "\n"
          ]
        },
        {
          "output_type": "stream",
          "name": "stdout",
          "text": [
            "\n",
            "      Epoch    GPU_mem   box_loss   cls_loss   dfl_loss  Instances       Size\n"
          ]
        },
        {
          "output_type": "stream",
          "name": "stderr",
          "text": [
            "     99/100      8.12G     0.6951     0.5187     0.9301         18        640: 100%|██████████| 13/13 [00:06<00:00,  1.91it/s]\n",
            "                 Class     Images  Instances      Box(P          R      mAP50  mAP50-95): 100%|██████████| 1/1 [00:00<00:00,  8.50it/s]"
          ]
        },
        {
          "output_type": "stream",
          "name": "stdout",
          "text": [
            "                   all          7         62       0.78      0.774      0.816      0.529\n"
          ]
        },
        {
          "output_type": "stream",
          "name": "stderr",
          "text": [
            "\n"
          ]
        },
        {
          "output_type": "stream",
          "name": "stdout",
          "text": [
            "\n",
            "      Epoch    GPU_mem   box_loss   cls_loss   dfl_loss  Instances       Size\n"
          ]
        },
        {
          "output_type": "stream",
          "name": "stderr",
          "text": [
            "    100/100      8.17G     0.6696     0.4894     0.9101         36        640: 100%|██████████| 13/13 [00:07<00:00,  1.84it/s]\n",
            "                 Class     Images  Instances      Box(P          R      mAP50  mAP50-95): 100%|██████████| 1/1 [00:00<00:00,  9.23it/s]"
          ]
        },
        {
          "output_type": "stream",
          "name": "stdout",
          "text": [
            "                   all          7         62      0.785      0.742      0.804      0.523\n"
          ]
        },
        {
          "output_type": "stream",
          "name": "stderr",
          "text": [
            "\n"
          ]
        },
        {
          "output_type": "stream",
          "name": "stdout",
          "text": [
            "\n",
            "100 epochs completed in 0.238 hours.\n",
            "Optimizer stripped from runs/detect/train/weights/last.pt, 40.5MB\n",
            "Optimizer stripped from runs/detect/train/weights/best.pt, 40.5MB\n",
            "\n",
            "Validating runs/detect/train/weights/best.pt...\n",
            "Ultralytics 8.3.82 🚀 Python-3.11.11 torch-2.5.1+cu124 CUDA:0 (Tesla T4, 15095MiB)\n",
            "YOLO11m summary (fused): 125 layers, 20,030,803 parameters, 0 gradients, 67.6 GFLOPs\n"
          ]
        },
        {
          "output_type": "stream",
          "name": "stderr",
          "text": [
            "                 Class     Images  Instances      Box(P          R      mAP50  mAP50-95): 100%|██████████| 1/1 [00:00<00:00,  8.76it/s]\n"
          ]
        },
        {
          "output_type": "stream",
          "name": "stdout",
          "text": [
            "                   all          7         62      0.786       0.83      0.833      0.555\n",
            "Speed: 0.2ms preprocess, 9.9ms inference, 0.0ms loss, 1.1ms postprocess per image\n",
            "Results saved to \u001b[1mruns/detect/train\u001b[0m\n"
          ]
        }
      ]
    },
    {
      "cell_type": "markdown",
      "source": [
        "## Evaluation"
      ],
      "metadata": {
        "id": "vTRT_uTPIaH6"
      }
    },
    {
      "cell_type": "code",
      "source": [
        "model_path = \"runs/detect/train/weights/best.pt\"\n",
        "\n",
        "model = YOLO(model_path)\n",
        "\n",
        "metrics = model.val()"
      ],
      "metadata": {
        "colab": {
          "base_uri": "https://localhost:8080/"
        },
        "id": "1oo5waX9IfzK",
        "outputId": "51130583-f8b7-4e74-9864-569d766d81a2"
      },
      "execution_count": null,
      "outputs": [
        {
          "output_type": "stream",
          "name": "stdout",
          "text": [
            "Ultralytics 8.3.82 🚀 Python-3.11.11 torch-2.5.1+cu124 CUDA:0 (Tesla T4, 15095MiB)\n",
            "YOLO11m summary (fused): 125 layers, 20,030,803 parameters, 0 gradients, 67.6 GFLOPs\n"
          ]
        },
        {
          "output_type": "stream",
          "name": "stderr",
          "text": [
            "\u001b[34m\u001b[1mval: \u001b[0mScanning /content/datasets/yolo_data/val/labels.cache... 7 images, 0 backgrounds, 0 corrupt: 100%|██████████| 7/7 [00:00<?, ?it/s]\n",
            "                 Class     Images  Instances      Box(P          R      mAP50  mAP50-95): 100%|██████████| 1/1 [00:00<00:00,  2.18it/s]\n"
          ]
        },
        {
          "output_type": "stream",
          "name": "stdout",
          "text": [
            "                   all          7         62      0.786       0.83      0.833      0.552\n",
            "Speed: 0.3ms preprocess, 34.1ms inference, 0.0ms loss, 1.8ms postprocess per image\n",
            "Results saved to \u001b[1mruns/detect/val2\u001b[0m\n"
          ]
        }
      ]
    },
    {
      "cell_type": "code",
      "source": [
        "results_path = 'runs/detect/train/results.png'\n",
        "\n",
        "image = Image.open(results_path)\n",
        "image"
      ],
      "metadata": {
        "colab": {
          "base_uri": "https://localhost:8080/",
          "height": 352
        },
        "id": "0qKbmZCyJF-d",
        "outputId": "dd35db21-b09b-42d3-ca8e-0261fda592c3"
      },
      "execution_count": null,
      "outputs": [
        {
          "output_type": "execute_result",
          "data": {
            "text/plain": [
              "<PIL.PngImagePlugin.PngImageFile image mode=RGBA size=2400x1200>"
            ],
            "image/png": "[encoded data removed]"
          },
          "metadata": {},
          "execution_count": 26
        }
      ]
    },
    {
      "cell_type": "markdown",
      "source": [
        "# Download best model"
      ],
      "metadata": {
        "id": "FD6cRtM7JzB3"
      }
    },
    {
      "cell_type": "code",
      "source": [
        "import locale\n",
        "def getpreferredencoding(do_setlocale = True):\n",
        "    return \"UTF-8\"\n",
        "locale.getpreferredencoding = getpreferredencoding"
      ],
      "metadata": {
        "id": "cc0f2BmhKuru"
      },
      "execution_count": null,
      "outputs": []
    },
    {
      "cell_type": "code",
      "source": [
        "!zip -r /content/runs.zip /content/runs"
      ],
      "metadata": {
        "colab": {
          "base_uri": "https://localhost:8080/"
        },
        "id": "4e_CCkXMKeLO",
        "outputId": "2b1fe555-3682-48cf-e6b2-0281cfd69b1c"
      },
      "execution_count": null,
      "outputs": [
        {
          "output_type": "stream",
          "name": "stdout",
          "text": [
            "  adding: content/runs/ (stored 0%)\n",
            "  adding: content/runs/detect/ (stored 0%)\n",
            "  adding: content/runs/detect/train/ (stored 0%)\n",
            "  adding: content/runs/detect/train/train_batch1170.jpg (deflated 10%)\n",
            "  adding: content/runs/detect/train/results.png (deflated 7%)\n",
            "  adding: content/runs/detect/train/R_curve.png (deflated 16%)\n",
            "  adding: content/runs/detect/train/confusion_matrix.png (deflated 42%)\n",
            "  adding: content/runs/detect/train/labels_correlogram.jpg (deflated 41%)\n",
            "  adding: content/runs/detect/train/labels.jpg (deflated 30%)\n",
            "  adding: content/runs/detect/train/weights/ (stored 0%)\n",
            "  adding: content/runs/detect/train/weights/best.pt (deflated 8%)\n",
            "  adding: content/runs/detect/train/weights/last.pt (deflated 8%)\n",
            "  adding: content/runs/detect/train/F1_curve.png (deflated 16%)\n",
            "  adding: content/runs/detect/train/P_curve.png (deflated 18%)\n",
            "  adding: content/runs/detect/train/train_batch1172.jpg (deflated 12%)\n",
            "  adding: content/runs/detect/train/confusion_matrix_normalized.png (deflated 39%)\n",
            "  adding: content/runs/detect/train/results.csv (deflated 61%)\n",
            "  adding: content/runs/detect/train/val_batch0_labels.jpg (deflated 14%)\n",
            "  adding: content/runs/detect/train/train_batch1.jpg (deflated 5%)\n",
            "  adding: content/runs/detect/train/train_batch2.jpg (deflated 5%)\n",
            "  adding: content/runs/detect/train/val_batch0_pred.jpg (deflated 14%)\n",
            "  adding: content/runs/detect/train/train_batch0.jpg (deflated 4%)\n",
            "  adding: content/runs/detect/train/PR_curve.png (deflated 25%)\n",
            "  adding: content/runs/detect/train/events.out.tfevents.1741006586.a94451e8cf33.564.0 (deflated 90%)\n",
            "  adding: content/runs/detect/train/args.yaml (deflated 53%)\n",
            "  adding: content/runs/detect/train/train_batch1171.jpg (deflated 13%)\n",
            "  adding: content/runs/detect/val2/ (stored 0%)\n",
            "  adding: content/runs/detect/val2/R_curve.png (deflated 16%)\n",
            "  adding: content/runs/detect/val2/confusion_matrix.png (deflated 42%)\n",
            "  adding: content/runs/detect/val2/F1_curve.png (deflated 16%)\n",
            "  adding: content/runs/detect/val2/P_curve.png (deflated 18%)\n",
            "  adding: content/runs/detect/val2/confusion_matrix_normalized.png (deflated 39%)\n",
            "  adding: content/runs/detect/val2/val_batch0_labels.jpg (deflated 14%)\n",
            "  adding: content/runs/detect/val2/val_batch0_pred.jpg (deflated 13%)\n",
            "  adding: content/runs/detect/val2/PR_curve.png (deflated 25%)\n",
            "  adding: content/runs/detect/val/ (stored 0%)\n",
            "  adding: content/runs/detect/val/R_curve.png (deflated 16%)\n",
            "  adding: content/runs/detect/val/confusion_matrix.png (deflated 42%)\n",
            "  adding: content/runs/detect/val/F1_curve.png (deflated 16%)\n",
            "  adding: content/runs/detect/val/P_curve.png (deflated 18%)\n",
            "  adding: content/runs/detect/val/confusion_matrix_normalized.png (deflated 39%)\n",
            "  adding: content/runs/detect/val/val_batch0_labels.jpg (deflated 14%)\n",
            "  adding: content/runs/detect/val/val_batch0_pred.jpg (deflated 13%)\n",
            "  adding: content/runs/detect/val/PR_curve.png (deflated 25%)\n"
          ]
        }
      ]
    },
    {
      "cell_type": "code",
      "source": [
        "from google.colab import files\n",
        "\n",
        "files.download(\"/content/runs.zip\")"
      ],
      "metadata": {
        "colab": {
          "base_uri": "https://localhost:8080/",
          "height": 17
        },
        "id": "kLV0fq2pK2xS",
        "outputId": "2a8fde60-7c9e-4cce-b3e9-346559110ffc"
      },
      "execution_count": null,
      "outputs": [
        {
          "output_type": "display_data",
          "data": {
            "text/plain": [
              "<IPython.core.display.Javascript object>"
            ],
            "application/javascript": [
              "\n",
              "    async function download(id, filename, size) {\n",
              "      if (!google.colab.kernel.accessAllowed) {\n",
              "        return;\n",
              "      }\n",
              "      const div = document.createElement('div');\n",
              "      const label = document.createElement('label');\n",
              "      label.textContent = `Downloading \"${filename}\": `;\n",
              "      div.appendChild(label);\n",
              "      const progress = document.createElement('progress');\n",
              "      progress.max = size;\n",
              "      div.appendChild(progress);\n",
              "      document.body.appendChild(div);\n",
              "\n",
              "      const buffers = [];\n",
              "      let downloaded = 0;\n",
              "\n",
              "      const channel = await google.colab.kernel.comms.open(id);\n",
              "      // Send a message to notify the kernel that we're ready.\n",
              "      channel.send({})\n",
              "\n",
              "      for await (const message of channel.messages) {\n",
              "        // Send a message to notify the kernel that we're ready.\n",
              "        channel.send({})\n",
              "        if (message.buffers) {\n",
              "          for (const buffer of message.buffers) {\n",
              "            buffers.push(buffer);\n",
              "            downloaded += buffer.byteLength;\n",
              "            progress.value = downloaded;\n",
              "          }\n",
              "        }\n",
              "      }\n",
              "      const blob = new Blob(buffers, {type: 'application/binary'});\n",
              "      const a = document.createElement('a');\n",
              "      a.href = window.URL.createObjectURL(blob);\n",
              "      a.download = filename;\n",
              "      div.appendChild(a);\n",
              "      a.click();\n",
              "      div.remove();\n",
              "    }\n",
              "  "
            ]
          },
          "metadata": {}
        },
        {
          "output_type": "display_data",
          "data": {
            "text/plain": [
              "<IPython.core.display.Javascript object>"
            ],
            "application/javascript": [
              "download(\"download_9c492cb9-995b-4290-96bf-b787f588ac4c\", \"runs.zip\", 81011045)"
            ]
          },
          "metadata": {}
        }
      ]
    }
  ]
}