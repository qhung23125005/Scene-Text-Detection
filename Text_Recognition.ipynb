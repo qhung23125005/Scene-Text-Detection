{
  "nbformat": 4,
  "nbformat_minor": 0,
  "metadata": {
    "colab": {
      "provenance": [],
      "gpuType": "T4",
      "toc_visible": true
    },
    "kernelspec": {
      "name": "python3",
      "display_name": "Python 3"
    },
    "language_info": {
      "name": "python"
    },
    "accelerator": "GPU",
    "widgets": {
      "application/vnd.jupyter.widget-state+json": {
        "f0d03421f2b5404ea77fa94c62c0d99d": {
          "model_module": "@jupyter-widgets/controls",
          "model_name": "HBoxModel",
          "model_module_version": "1.5.0",
          "state": {
            "_dom_classes": [],
            "_model_module": "@jupyter-widgets/controls",
            "_model_module_version": "1.5.0",
            "_model_name": "HBoxModel",
            "_view_count": null,
            "_view_module": "@jupyter-widgets/controls",
            "_view_module_version": "1.5.0",
            "_view_name": "HBoxView",
            "box_style": "",
            "children": [
              "IPY_MODEL_6663ed0ab82b4a4a8e0b15fa46303d98",
              "IPY_MODEL_828d8f059b1c42899e903d81b3d0efe7",
              "IPY_MODEL_7d19f42b758c4432baa0f5c81866cb80"
            ],
            "layout": "IPY_MODEL_d1bcd762cfb14cbcacc87dd81c101c58"
          }
        },
        "6663ed0ab82b4a4a8e0b15fa46303d98": {
          "model_module": "@jupyter-widgets/controls",
          "model_name": "HTMLModel",
          "model_module_version": "1.5.0",
          "state": {
            "_dom_classes": [],
            "_model_module": "@jupyter-widgets/controls",
            "_model_module_version": "1.5.0",
            "_model_name": "HTMLModel",
            "_view_count": null,
            "_view_module": "@jupyter-widgets/controls",
            "_view_module_version": "1.5.0",
            "_view_name": "HTMLView",
            "description": "",
            "description_tooltip": null,
            "layout": "IPY_MODEL_fba3dadac79a436fb3bad728f062cdab",
            "placeholder": "​",
            "style": "IPY_MODEL_4b79310c64e9471c9084ff56862180ac",
            "value": "model.safetensors: 100%"
          }
        },
        "828d8f059b1c42899e903d81b3d0efe7": {
          "model_module": "@jupyter-widgets/controls",
          "model_name": "FloatProgressModel",
          "model_module_version": "1.5.0",
          "state": {
            "_dom_classes": [],
            "_model_module": "@jupyter-widgets/controls",
            "_model_module_version": "1.5.0",
            "_model_name": "FloatProgressModel",
            "_view_count": null,
            "_view_module": "@jupyter-widgets/controls",
            "_view_module_version": "1.5.0",
            "_view_name": "ProgressView",
            "bar_style": "success",
            "description": "",
            "description_tooltip": null,
            "layout": "IPY_MODEL_247125bff7484ccf8b88f20ea540fa31",
            "max": 87278522,
            "min": 0,
            "orientation": "horizontal",
            "style": "IPY_MODEL_39b1ea7684c7473baf7b80e4b939e923",
            "value": 87278522
          }
        },
        "7d19f42b758c4432baa0f5c81866cb80": {
          "model_module": "@jupyter-widgets/controls",
          "model_name": "HTMLModel",
          "model_module_version": "1.5.0",
          "state": {
            "_dom_classes": [],
            "_model_module": "@jupyter-widgets/controls",
            "_model_module_version": "1.5.0",
            "_model_name": "HTMLModel",
            "_view_count": null,
            "_view_module": "@jupyter-widgets/controls",
            "_view_module_version": "1.5.0",
            "_view_name": "HTMLView",
            "description": "",
            "description_tooltip": null,
            "layout": "IPY_MODEL_821b35b239ce4e2fa3992f466fb4531d",
            "placeholder": "​",
            "style": "IPY_MODEL_31884d5b27d84be7ba438fdcc8f10bae",
            "value": " 87.3M/87.3M [00:00&lt;00:00, 177MB/s]"
          }
        },
        "d1bcd762cfb14cbcacc87dd81c101c58": {
          "model_module": "@jupyter-widgets/base",
          "model_name": "LayoutModel",
          "model_module_version": "1.2.0",
          "state": {
            "_model_module": "@jupyter-widgets/base",
            "_model_module_version": "1.2.0",
            "_model_name": "LayoutModel",
            "_view_count": null,
            "_view_module": "@jupyter-widgets/base",
            "_view_module_version": "1.2.0",
            "_view_name": "LayoutView",
            "align_content": null,
            "align_items": null,
            "align_self": null,
            "border": null,
            "bottom": null,
            "display": null,
            "flex": null,
            "flex_flow": null,
            "grid_area": null,
            "grid_auto_columns": null,
            "grid_auto_flow": null,
            "grid_auto_rows": null,
            "grid_column": null,
            "grid_gap": null,
            "grid_row": null,
            "grid_template_areas": null,
            "grid_template_columns": null,
            "grid_template_rows": null,
            "height": null,
            "justify_content": null,
            "justify_items": null,
            "left": null,
            "margin": null,
            "max_height": null,
            "max_width": null,
            "min_height": null,
            "min_width": null,
            "object_fit": null,
            "object_position": null,
            "order": null,
            "overflow": null,
            "overflow_x": null,
            "overflow_y": null,
            "padding": null,
            "right": null,
            "top": null,
            "visibility": null,
            "width": null
          }
        },
        "fba3dadac79a436fb3bad728f062cdab": {
          "model_module": "@jupyter-widgets/base",
          "model_name": "LayoutModel",
          "model_module_version": "1.2.0",
          "state": {
            "_model_module": "@jupyter-widgets/base",
            "_model_module_version": "1.2.0",
            "_model_name": "LayoutModel",
            "_view_count": null,
            "_view_module": "@jupyter-widgets/base",
            "_view_module_version": "1.2.0",
            "_view_name": "LayoutView",
            "align_content": null,
            "align_items": null,
            "align_self": null,
            "border": null,
            "bottom": null,
            "display": null,
            "flex": null,
            "flex_flow": null,
            "grid_area": null,
            "grid_auto_columns": null,
            "grid_auto_flow": null,
            "grid_auto_rows": null,
            "grid_column": null,
            "grid_gap": null,
            "grid_row": null,
            "grid_template_areas": null,
            "grid_template_columns": null,
            "grid_template_rows": null,
            "height": null,
            "justify_content": null,
            "justify_items": null,
            "left": null,
            "margin": null,
            "max_height": null,
            "max_width": null,
            "min_height": null,
            "min_width": null,
            "object_fit": null,
            "object_position": null,
            "order": null,
            "overflow": null,
            "overflow_x": null,
            "overflow_y": null,
            "padding": null,
            "right": null,
            "top": null,
            "visibility": null,
            "width": null
          }
        },
        "4b79310c64e9471c9084ff56862180ac": {
          "model_module": "@jupyter-widgets/controls",
          "model_name": "DescriptionStyleModel",
          "model_module_version": "1.5.0",
          "state": {
            "_model_module": "@jupyter-widgets/controls",
            "_model_module_version": "1.5.0",
            "_model_name": "DescriptionStyleModel",
            "_view_count": null,
            "_view_module": "@jupyter-widgets/base",
            "_view_module_version": "1.2.0",
            "_view_name": "StyleView",
            "description_width": ""
          }
        },
        "247125bff7484ccf8b88f20ea540fa31": {
          "model_module": "@jupyter-widgets/base",
          "model_name": "LayoutModel",
          "model_module_version": "1.2.0",
          "state": {
            "_model_module": "@jupyter-widgets/base",
            "_model_module_version": "1.2.0",
            "_model_name": "LayoutModel",
            "_view_count": null,
            "_view_module": "@jupyter-widgets/base",
            "_view_module_version": "1.2.0",
            "_view_name": "LayoutView",
            "align_content": null,
            "align_items": null,
            "align_self": null,
            "border": null,
            "bottom": null,
            "display": null,
            "flex": null,
            "flex_flow": null,
            "grid_area": null,
            "grid_auto_columns": null,
            "grid_auto_flow": null,
            "grid_auto_rows": null,
            "grid_column": null,
            "grid_gap": null,
            "grid_row": null,
            "grid_template_areas": null,
            "grid_template_columns": null,
            "grid_template_rows": null,
            "height": null,
            "justify_content": null,
            "justify_items": null,
            "left": null,
            "margin": null,
            "max_height": null,
            "max_width": null,
            "min_height": null,
            "min_width": null,
            "object_fit": null,
            "object_position": null,
            "order": null,
            "overflow": null,
            "overflow_x": null,
            "overflow_y": null,
            "padding": null,
            "right": null,
            "top": null,
            "visibility": null,
            "width": null
          }
        },
        "39b1ea7684c7473baf7b80e4b939e923": {
          "model_module": "@jupyter-widgets/controls",
          "model_name": "ProgressStyleModel",
          "model_module_version": "1.5.0",
          "state": {
            "_model_module": "@jupyter-widgets/controls",
            "_model_module_version": "1.5.0",
            "_model_name": "ProgressStyleModel",
            "_view_count": null,
            "_view_module": "@jupyter-widgets/base",
            "_view_module_version": "1.2.0",
            "_view_name": "StyleView",
            "bar_color": null,
            "description_width": ""
          }
        },
        "821b35b239ce4e2fa3992f466fb4531d": {
          "model_module": "@jupyter-widgets/base",
          "model_name": "LayoutModel",
          "model_module_version": "1.2.0",
          "state": {
            "_model_module": "@jupyter-widgets/base",
            "_model_module_version": "1.2.0",
            "_model_name": "LayoutModel",
            "_view_count": null,
            "_view_module": "@jupyter-widgets/base",
            "_view_module_version": "1.2.0",
            "_view_name": "LayoutView",
            "align_content": null,
            "align_items": null,
            "align_self": null,
            "border": null,
            "bottom": null,
            "display": null,
            "flex": null,
            "flex_flow": null,
            "grid_area": null,
            "grid_auto_columns": null,
            "grid_auto_flow": null,
            "grid_auto_rows": null,
            "grid_column": null,
            "grid_gap": null,
            "grid_row": null,
            "grid_template_areas": null,
            "grid_template_columns": null,
            "grid_template_rows": null,
            "height": null,
            "justify_content": null,
            "justify_items": null,
            "left": null,
            "margin": null,
            "max_height": null,
            "max_width": null,
            "min_height": null,
            "min_width": null,
            "object_fit": null,
            "object_position": null,
            "order": null,
            "overflow": null,
            "overflow_x": null,
            "overflow_y": null,
            "padding": null,
            "right": null,
            "top": null,
            "visibility": null,
            "width": null
          }
        },
        "31884d5b27d84be7ba438fdcc8f10bae": {
          "model_module": "@jupyter-widgets/controls",
          "model_name": "DescriptionStyleModel",
          "model_module_version": "1.5.0",
          "state": {
            "_model_module": "@jupyter-widgets/controls",
            "_model_module_version": "1.5.0",
            "_model_name": "DescriptionStyleModel",
            "_view_count": null,
            "_view_module": "@jupyter-widgets/base",
            "_view_module_version": "1.2.0",
            "_view_name": "StyleView",
            "description_width": ""
          }
        }
      }
    }
  },
  "cells": [
    {
      "cell_type": "markdown",
      "source": [
        "# Import necessary libs"
      ],
      "metadata": {
        "id": "OXV3z3aKMkfP"
      }
    },
    {
      "cell_type": "code",
      "execution_count": 1,
      "metadata": {
        "id": "htxCsVRyLUJ7"
      },
      "outputs": [],
      "source": [
        "import os\n",
        "import random\n",
        "import time\n",
        "import xml.etree.ElementTree as ET\n",
        "\n",
        "import cv2\n",
        "import matplotlib.pyplot as plt\n",
        "import numpy as np\n",
        "import pandas as pd\n",
        "import timm\n",
        "import torch\n",
        "import torch.nn as nn\n",
        "from torch.utils.data import Dataset, DataLoader\n",
        "from torchvision import transforms\n",
        "from torch.nn import functional as F\n",
        "import torchvision\n",
        "\n",
        "from PIL import Image\n",
        "from sklearn.model_selection import train_test_split"
      ]
    },
    {
      "cell_type": "markdown",
      "source": [
        "# Prepare data"
      ],
      "metadata": {
        "id": "Z8W2hZjtMres"
      }
    },
    {
      "cell_type": "markdown",
      "source": [
        "## Download data"
      ],
      "metadata": {
        "id": "ckphMkWzNIuv"
      }
    },
    {
      "cell_type": "code",
      "source": [
        "!gdown 1kUy2tuH-kKBlFCNA0a9sqD2TG4uyvBnV"
      ],
      "metadata": {
        "colab": {
          "base_uri": "https://localhost:8080/"
        },
        "id": "_UQpK2AzMsvI",
        "outputId": "7e7f85f0-f70a-47f6-ed0d-729752fd64bc"
      },
      "execution_count": 2,
      "outputs": [
        {
          "output_type": "stream",
          "name": "stdout",
          "text": [
            "Downloading...\n",
            "From (original): https://drive.google.com/uc?id=1kUy2tuH-kKBlFCNA0a9sqD2TG4uyvBnV\n",
            "From (redirected): https://drive.google.com/uc?id=1kUy2tuH-kKBlFCNA0a9sqD2TG4uyvBnV&confirm=t&uuid=87fb7134-f766-4fc7-807e-572adf0a6f7d\n",
            "To: /content/icdar2003.zip\n",
            "100% 45.7M/45.7M [00:00<00:00, 91.9MB/s]\n"
          ]
        }
      ]
    },
    {
      "cell_type": "code",
      "source": [
        "!unzip icdar2003.zip"
      ],
      "metadata": {
        "colab": {
          "base_uri": "https://localhost:8080/"
        },
        "id": "zpDiOrjCMymU",
        "outputId": "8c0c6ee2-7d75-44b5-f074-9b93d4cb030b"
      },
      "execution_count": 3,
      "outputs": [
        {
          "output_type": "stream",
          "name": "stdout",
          "text": [
            "Archive:  icdar2003.zip\n",
            "   creating: SceneTrialTrain/apanar_06.08.2002/\n",
            "  inflating: SceneTrialTrain/apanar_06.08.2002/IMG_1247.JPG  \n",
            "  inflating: SceneTrialTrain/apanar_06.08.2002/IMG_1252.JPG  \n",
            "  inflating: SceneTrialTrain/apanar_06.08.2002/IMG_1253.JPG  \n",
            "  inflating: SceneTrialTrain/apanar_06.08.2002/IMG_1255.JPG  \n",
            "  inflating: SceneTrialTrain/apanar_06.08.2002/IMG_1259.JPG  \n",
            "  inflating: SceneTrialTrain/apanar_06.08.2002/IMG_1261.JPG  \n",
            "  inflating: SceneTrialTrain/apanar_06.08.2002/IMG_1263.JPG  \n",
            "  inflating: SceneTrialTrain/apanar_06.08.2002/IMG_1265.JPG  \n",
            "  inflating: SceneTrialTrain/apanar_06.08.2002/IMG_1269.JPG  \n",
            "  inflating: SceneTrialTrain/apanar_06.08.2002/IMG_1281.JPG  \n",
            "  inflating: SceneTrialTrain/apanar_06.08.2002/IMG_1282.JPG  \n",
            "  inflating: SceneTrialTrain/apanar_06.08.2002/IMG_1283.JPG  \n",
            "  inflating: SceneTrialTrain/apanar_06.08.2002/IMG_1284.JPG  \n",
            "  inflating: SceneTrialTrain/apanar_06.08.2002/IMG_1285.JPG  \n",
            "  inflating: SceneTrialTrain/apanar_06.08.2002/IMG_1286.JPG  \n",
            "  inflating: SceneTrialTrain/apanar_06.08.2002/IMG_1288.JPG  \n",
            "  inflating: SceneTrialTrain/apanar_06.08.2002/IMG_1289.JPG  \n",
            "  inflating: SceneTrialTrain/apanar_06.08.2002/IMG_1290.JPG  \n",
            "  inflating: SceneTrialTrain/apanar_06.08.2002/IMG_1291.JPG  \n",
            "  inflating: SceneTrialTrain/apanar_06.08.2002/IMG_1292.JPG  \n",
            "  inflating: SceneTrialTrain/apanar_06.08.2002/IMG_1293.JPG  \n",
            "  inflating: SceneTrialTrain/apanar_06.08.2002/IMG_1294.JPG  \n",
            "  inflating: SceneTrialTrain/apanar_06.08.2002/IMG_1298.JPG  \n",
            "  inflating: SceneTrialTrain/apanar_06.08.2002/IMG_1299.JPG  \n",
            "  inflating: SceneTrialTrain/apanar_06.08.2002/IMG_1300.JPG  \n",
            "  inflating: SceneTrialTrain/apanar_06.08.2002/IMG_1301.JPG  \n",
            "  inflating: SceneTrialTrain/apanar_06.08.2002/IMG_1302.JPG  \n",
            "  inflating: SceneTrialTrain/apanar_06.08.2002/IMG_1303.JPG  \n",
            "  inflating: SceneTrialTrain/apanar_06.08.2002/IMG_1304.JPG  \n",
            "  inflating: SceneTrialTrain/apanar_06.08.2002/Img_1305.jpg  \n",
            "  inflating: SceneTrialTrain/apanar_06.08.2002/IMG_1306.JPG  \n",
            "  inflating: SceneTrialTrain/apanar_06.08.2002/IMG_1307.JPG  \n",
            "  inflating: SceneTrialTrain/apanar_06.08.2002/IMG_1308.JPG  \n",
            "  inflating: SceneTrialTrain/apanar_06.08.2002/IMG_1311.JPG  \n",
            "  inflating: SceneTrialTrain/apanar_06.08.2002/IMG_1312.JPG  \n",
            "  inflating: SceneTrialTrain/apanar_06.08.2002/Img_1313.jpg  \n",
            "  inflating: SceneTrialTrain/apanar_06.08.2002/IMG_1315.JPG  \n",
            "  inflating: SceneTrialTrain/apanar_06.08.2002/IMG_1316.JPG  \n",
            "  inflating: SceneTrialTrain/apanar_06.08.2002/IMG_1317.JPG  \n",
            "   creating: SceneTrialTrain/lfsosa_12.08.2002/\n",
            "  inflating: SceneTrialTrain/lfsosa_12.08.2002/IMG_2013.jpg  \n",
            "  inflating: SceneTrialTrain/lfsosa_12.08.2002/IMG_2460.JPG  \n",
            "  inflating: SceneTrialTrain/lfsosa_12.08.2002/IMG_2461.JPG  \n",
            "  inflating: SceneTrialTrain/lfsosa_12.08.2002/IMG_2462.JPG  \n",
            "  inflating: SceneTrialTrain/lfsosa_12.08.2002/IMG_2463.JPG  \n",
            "  inflating: SceneTrialTrain/lfsosa_12.08.2002/IMG_2464.JPG  \n",
            "  inflating: SceneTrialTrain/lfsosa_12.08.2002/IMG_2466.JPG  \n",
            "  inflating: SceneTrialTrain/lfsosa_12.08.2002/IMG_2468.JPG  \n",
            "  inflating: SceneTrialTrain/lfsosa_12.08.2002/IMG_2469.JPG  \n",
            "  inflating: SceneTrialTrain/lfsosa_12.08.2002/IMG_2471.JPG  \n",
            "  inflating: SceneTrialTrain/lfsosa_12.08.2002/IMG_2472.JPG  \n",
            "  inflating: SceneTrialTrain/lfsosa_12.08.2002/IMG_2473.JPG  \n",
            "  inflating: SceneTrialTrain/lfsosa_12.08.2002/IMG_2474.JPG  \n",
            "  inflating: SceneTrialTrain/lfsosa_12.08.2002/IMG_2476.JPG  \n",
            "  inflating: SceneTrialTrain/lfsosa_12.08.2002/IMG_2477.JPG  \n",
            "  inflating: SceneTrialTrain/lfsosa_12.08.2002/IMG_2478.JPG  \n",
            "  inflating: SceneTrialTrain/lfsosa_12.08.2002/IMG_2479.JPG  \n",
            "  inflating: SceneTrialTrain/lfsosa_12.08.2002/IMG_2480.JPG  \n",
            "  inflating: SceneTrialTrain/lfsosa_12.08.2002/IMG_2481.JPG  \n",
            "  inflating: SceneTrialTrain/lfsosa_12.08.2002/IMG_2482.JPG  \n",
            "  inflating: SceneTrialTrain/lfsosa_12.08.2002/IMG_2483.JPG  \n",
            "  inflating: SceneTrialTrain/lfsosa_12.08.2002/IMG_2484.JPG  \n",
            "  inflating: SceneTrialTrain/lfsosa_12.08.2002/IMG_2485.JPG  \n",
            "  inflating: SceneTrialTrain/lfsosa_12.08.2002/IMG_2486.JPG  \n",
            "  inflating: SceneTrialTrain/lfsosa_12.08.2002/IMG_2487.JPG  \n",
            "  inflating: SceneTrialTrain/lfsosa_12.08.2002/IMG_2488.JPG  \n",
            "  inflating: SceneTrialTrain/lfsosa_12.08.2002/IMG_2489.JPG  \n",
            "  inflating: SceneTrialTrain/lfsosa_12.08.2002/IMG_2490.JPG  \n",
            "  inflating: SceneTrialTrain/lfsosa_12.08.2002/IMG_2491.JPG  \n",
            "  inflating: SceneTrialTrain/lfsosa_12.08.2002/IMG_2493.JPG  \n",
            "  inflating: SceneTrialTrain/lfsosa_12.08.2002/IMG_2495.JPG  \n",
            "  inflating: SceneTrialTrain/lfsosa_12.08.2002/IMG_2498.JPG  \n",
            "  inflating: SceneTrialTrain/lfsosa_12.08.2002/IMG_2499.JPG  \n",
            "  inflating: SceneTrialTrain/lfsosa_12.08.2002/IMG_2500.JPG  \n",
            "  inflating: SceneTrialTrain/lfsosa_12.08.2002/IMG_2501.JPG  \n",
            "  inflating: SceneTrialTrain/lfsosa_12.08.2002/IMG_2502.JPG  \n",
            "  inflating: SceneTrialTrain/lfsosa_12.08.2002/IMG_2503.JPG  \n",
            "  inflating: SceneTrialTrain/lfsosa_12.08.2002/IMG_2504.JPG  \n",
            "  inflating: SceneTrialTrain/lfsosa_12.08.2002/IMG_2505.JPG  \n",
            "  inflating: SceneTrialTrain/lfsosa_12.08.2002/IMG_2506.JPG  \n",
            "  inflating: SceneTrialTrain/lfsosa_12.08.2002/IMG_2507.JPG  \n",
            "  inflating: SceneTrialTrain/lfsosa_12.08.2002/IMG_2508.JPG  \n",
            "  inflating: SceneTrialTrain/lfsosa_12.08.2002/IMG_2509.JPG  \n",
            "  inflating: SceneTrialTrain/lfsosa_12.08.2002/IMG_2510.JPG  \n",
            "  inflating: SceneTrialTrain/lfsosa_12.08.2002/IMG_2511.JPG  \n",
            "  inflating: SceneTrialTrain/lfsosa_12.08.2002/IMG_2512.JPG  \n",
            "  inflating: SceneTrialTrain/lfsosa_12.08.2002/IMG_2513.JPG  \n",
            "  inflating: SceneTrialTrain/lfsosa_12.08.2002/IMG_2514.JPG  \n",
            "  inflating: SceneTrialTrain/lfsosa_12.08.2002/IMG_2516.JPG  \n",
            "  inflating: SceneTrialTrain/lfsosa_12.08.2002/IMG_2518.JPG  \n",
            "  inflating: SceneTrialTrain/lfsosa_12.08.2002/IMG_2519.JPG  \n",
            "  inflating: SceneTrialTrain/lfsosa_12.08.2002/IMG_2520.JPG  \n",
            "  inflating: SceneTrialTrain/lfsosa_12.08.2002/IMG_2521.JPG  \n",
            "  inflating: SceneTrialTrain/lfsosa_12.08.2002/IMG_2522.JPG  \n",
            "  inflating: SceneTrialTrain/lfsosa_12.08.2002/IMG_2523.JPG  \n",
            "  inflating: SceneTrialTrain/lfsosa_12.08.2002/IMG_2524.JPG  \n",
            "  inflating: SceneTrialTrain/lfsosa_12.08.2002/IMG_2525.JPG  \n",
            "  inflating: SceneTrialTrain/lfsosa_12.08.2002/IMG_2526.JPG  \n",
            "  inflating: SceneTrialTrain/lfsosa_12.08.2002/IMG_2528.JPG  \n",
            "  inflating: SceneTrialTrain/lfsosa_12.08.2002/IMG_2530.JPG  \n",
            "  inflating: SceneTrialTrain/lfsosa_12.08.2002/IMG_2531.JPG  \n",
            "  inflating: SceneTrialTrain/lfsosa_12.08.2002/IMG_2532.JPG  \n",
            "  inflating: SceneTrialTrain/lfsosa_12.08.2002/IMG_2533.JPG  \n",
            "  inflating: SceneTrialTrain/lfsosa_12.08.2002/IMG_2534.JPG  \n",
            "  inflating: SceneTrialTrain/lfsosa_12.08.2002/IMG_2535.JPG  \n",
            "  inflating: SceneTrialTrain/lfsosa_12.08.2002/IMG_2536.JPG  \n",
            "  inflating: SceneTrialTrain/lfsosa_12.08.2002/IMG_2537.JPG  \n",
            "  inflating: SceneTrialTrain/lfsosa_12.08.2002/IMG_2538.JPG  \n",
            "  inflating: SceneTrialTrain/lfsosa_12.08.2002/IMG_2539.JPG  \n",
            "  inflating: SceneTrialTrain/lfsosa_12.08.2002/IMG_2540.JPG  \n",
            "  inflating: SceneTrialTrain/lfsosa_12.08.2002/IMG_2541.JPG  \n",
            "  inflating: SceneTrialTrain/lfsosa_12.08.2002/IMG_2542.JPG  \n",
            "  inflating: SceneTrialTrain/lfsosa_12.08.2002/IMG_2543.JPG  \n",
            "  inflating: SceneTrialTrain/lfsosa_12.08.2002/IMG_2544.JPG  \n",
            "  inflating: SceneTrialTrain/lfsosa_12.08.2002/IMG_2545.JPG  \n",
            "  inflating: SceneTrialTrain/lfsosa_12.08.2002/IMG_2546.JPG  \n",
            "  inflating: SceneTrialTrain/lfsosa_12.08.2002/IMG_2547.JPG  \n",
            "  inflating: SceneTrialTrain/lfsosa_12.08.2002/IMG_2548.JPG  \n",
            "  inflating: SceneTrialTrain/lfsosa_12.08.2002/IMG_2549.JPG  \n",
            "  inflating: SceneTrialTrain/lfsosa_12.08.2002/IMG_2550.JPG  \n",
            "  inflating: SceneTrialTrain/lfsosa_12.08.2002/IMG_2552.JPG  \n",
            "  inflating: SceneTrialTrain/lfsosa_12.08.2002/IMG_2553.JPG  \n",
            "  inflating: SceneTrialTrain/lfsosa_12.08.2002/IMG_2554.JPG  \n",
            "  inflating: SceneTrialTrain/lfsosa_12.08.2002/IMG_2555.JPG  \n",
            "  inflating: SceneTrialTrain/lfsosa_12.08.2002/IMG_2556.JPG  \n",
            "  inflating: SceneTrialTrain/lfsosa_12.08.2002/IMG_2557.JPG  \n",
            "  inflating: SceneTrialTrain/lfsosa_12.08.2002/IMG_2558.JPG  \n",
            "  inflating: SceneTrialTrain/lfsosa_12.08.2002/IMG_2559.JPG  \n",
            "  inflating: SceneTrialTrain/lfsosa_12.08.2002/IMG_2560.JPG  \n",
            "  inflating: SceneTrialTrain/lfsosa_12.08.2002/IMG_2561.JPG  \n",
            "  inflating: SceneTrialTrain/lfsosa_12.08.2002/IMG_2564.JPG  \n",
            "  inflating: SceneTrialTrain/lfsosa_12.08.2002/IMG_2565.JPG  \n",
            "  inflating: SceneTrialTrain/lfsosa_12.08.2002/IMG_2566.JPG  \n",
            "  inflating: SceneTrialTrain/lfsosa_12.08.2002/IMG_2567.JPG  \n",
            "  inflating: SceneTrialTrain/lfsosa_12.08.2002/IMG_2569.JPG  \n",
            "  inflating: SceneTrialTrain/lfsosa_12.08.2002/IMG_2571.JPG  \n",
            "  inflating: SceneTrialTrain/lfsosa_12.08.2002/IMG_2572.JPG  \n",
            "  inflating: SceneTrialTrain/lfsosa_12.08.2002/IMG_2573.JPG  \n",
            "  inflating: SceneTrialTrain/lfsosa_12.08.2002/IMG_2575.JPG  \n",
            "  inflating: SceneTrialTrain/lfsosa_12.08.2002/IMG_2583.JPG  \n",
            "  inflating: SceneTrialTrain/lfsosa_12.08.2002/IMG_2584.JPG  \n",
            "  inflating: SceneTrialTrain/lfsosa_12.08.2002/IMG_2585.JPG  \n",
            "  inflating: SceneTrialTrain/lfsosa_12.08.2002/IMG_2586.JPG  \n",
            "  inflating: SceneTrialTrain/lfsosa_12.08.2002/IMG_2588.JPG  \n",
            "  inflating: SceneTrialTrain/lfsosa_12.08.2002/IMG_2591.JPG  \n",
            "  inflating: SceneTrialTrain/lfsosa_12.08.2002/IMG_2593.JPG  \n",
            "  inflating: SceneTrialTrain/lfsosa_12.08.2002/IMG_2594.JPG  \n",
            "  inflating: SceneTrialTrain/lfsosa_12.08.2002/IMG_2595.JPG  \n",
            "  inflating: SceneTrialTrain/lfsosa_12.08.2002/IMG_2597.JPG  \n",
            "  inflating: SceneTrialTrain/lfsosa_12.08.2002/IMG_2598.JPG  \n",
            "  inflating: SceneTrialTrain/lfsosa_12.08.2002/IMG_2599.JPG  \n",
            "  inflating: SceneTrialTrain/lfsosa_12.08.2002/IMG_2600.JPG  \n",
            "  inflating: SceneTrialTrain/lfsosa_12.08.2002/IMG_2604.JPG  \n",
            "  inflating: SceneTrialTrain/lfsosa_12.08.2002/IMG_2605.JPG  \n",
            "  inflating: SceneTrialTrain/lfsosa_12.08.2002/IMG_2606.JPG  \n",
            "  inflating: SceneTrialTrain/lfsosa_12.08.2002/IMG_2607.JPG  \n",
            "  inflating: SceneTrialTrain/lfsosa_12.08.2002/IMG_2612.JPG  \n",
            "  inflating: SceneTrialTrain/lfsosa_12.08.2002/IMG_2613.JPG  \n",
            "  inflating: SceneTrialTrain/lfsosa_12.08.2002/IMG_2614.JPG  \n",
            "  inflating: SceneTrialTrain/lfsosa_12.08.2002/IMG_2615.JPG  \n",
            "  inflating: SceneTrialTrain/lfsosa_12.08.2002/IMG_2616.JPG  \n",
            "  inflating: SceneTrialTrain/lfsosa_12.08.2002/IMG_2617.JPG  \n",
            "  inflating: SceneTrialTrain/lfsosa_12.08.2002/IMG_2618.JPG  \n",
            "  inflating: SceneTrialTrain/lfsosa_12.08.2002/IMG_2619.JPG  \n",
            "  inflating: SceneTrialTrain/lfsosa_12.08.2002/IMG_2620.JPG  \n",
            "  inflating: SceneTrialTrain/lfsosa_12.08.2002/IMG_2622.JPG  \n",
            "  inflating: SceneTrialTrain/lfsosa_12.08.2002/IMG_2624.JPG  \n",
            "  inflating: SceneTrialTrain/lfsosa_12.08.2002/IMG_2626.JPG  \n",
            "  inflating: SceneTrialTrain/lfsosa_12.08.2002/IMG_2627.JPG  \n",
            "  inflating: SceneTrialTrain/lfsosa_12.08.2002/IMG_2628.JPG  \n",
            "  inflating: SceneTrialTrain/lfsosa_12.08.2002/IMG_2629.JPG  \n",
            "  inflating: SceneTrialTrain/lfsosa_12.08.2002/IMG_2630.JPG  \n",
            "  inflating: SceneTrialTrain/lfsosa_12.08.2002/IMG_2631.JPG  \n",
            "  inflating: SceneTrialTrain/lfsosa_12.08.2002/IMG_2633.JPG  \n",
            "  inflating: SceneTrialTrain/lfsosa_12.08.2002/IMG_2634.JPG  \n",
            "  inflating: SceneTrialTrain/lfsosa_12.08.2002/IMG_2635.JPG  \n",
            "  inflating: SceneTrialTrain/lfsosa_12.08.2002/IMG_2637.JPG  \n",
            "  inflating: SceneTrialTrain/lfsosa_12.08.2002/IMG_2638.JPG  \n",
            "  inflating: SceneTrialTrain/lfsosa_12.08.2002/IMG_2639.JPG  \n",
            "  inflating: SceneTrialTrain/lfsosa_12.08.2002/IMG_2640.JPG  \n",
            "  inflating: SceneTrialTrain/lfsosa_12.08.2002/IMG_2641.JPG  \n",
            "  inflating: SceneTrialTrain/lfsosa_12.08.2002/IMG_2642.JPG  \n",
            "  inflating: SceneTrialTrain/lfsosa_12.08.2002/IMG_2643.JPG  \n",
            "  inflating: SceneTrialTrain/lfsosa_12.08.2002/IMG_2644.JPG  \n",
            "  inflating: SceneTrialTrain/lfsosa_12.08.2002/IMG_2645.JPG  \n",
            "  inflating: SceneTrialTrain/lfsosa_12.08.2002/IMG_2646.JPG  \n",
            "  inflating: SceneTrialTrain/lfsosa_12.08.2002/IMG_2647.JPG  \n",
            "  inflating: SceneTrialTrain/lfsosa_12.08.2002/IMG_2648.JPG  \n",
            "  inflating: SceneTrialTrain/lfsosa_12.08.2002/IMG_2653.JPG  \n",
            "  inflating: SceneTrialTrain/lfsosa_12.08.2002/IMG_2654.JPG  \n",
            "  inflating: SceneTrialTrain/lfsosa_12.08.2002/IMG_2655.JPG  \n",
            "  inflating: SceneTrialTrain/lfsosa_12.08.2002/IMG_2657.JPG  \n",
            "  inflating: SceneTrialTrain/lfsosa_12.08.2002/IMG_2658.JPG  \n",
            "  inflating: SceneTrialTrain/lfsosa_12.08.2002/IMG_2659.JPG  \n",
            "  inflating: SceneTrialTrain/lfsosa_12.08.2002/IMG_2660.JPG  \n",
            "  inflating: SceneTrialTrain/lfsosa_12.08.2002/IMG_2661.JPG  \n",
            "  inflating: SceneTrialTrain/lfsosa_12.08.2002/IMG_2662.JPG  \n",
            "  inflating: SceneTrialTrain/lfsosa_12.08.2002/IMG_2663.JPG  \n",
            "  inflating: SceneTrialTrain/lfsosa_12.08.2002/IMG_2664.JPG  \n",
            "  inflating: SceneTrialTrain/lfsosa_12.08.2002/IMG_2666.JPG  \n",
            "  inflating: SceneTrialTrain/lfsosa_12.08.2002/IMG_2667.JPG  \n",
            "  inflating: SceneTrialTrain/lfsosa_12.08.2002/IMG_2668.JPG  \n",
            "  inflating: SceneTrialTrain/lfsosa_12.08.2002/IMG_2669.JPG  \n",
            "  inflating: SceneTrialTrain/lfsosa_12.08.2002/IMG_2670.JPG  \n",
            "  inflating: SceneTrialTrain/lfsosa_12.08.2002/IMG_2671.JPG  \n",
            "  inflating: SceneTrialTrain/lfsosa_12.08.2002/IMG_2672.JPG  \n",
            "  inflating: SceneTrialTrain/lfsosa_12.08.2002/IMG_2673.JPG  \n",
            "  inflating: SceneTrialTrain/lfsosa_12.08.2002/IMG_2674.JPG  \n",
            "  inflating: SceneTrialTrain/lfsosa_12.08.2002/IMG_2675.JPG  \n",
            "  inflating: SceneTrialTrain/lfsosa_12.08.2002/IMG_2676.JPG  \n",
            "  inflating: SceneTrialTrain/lfsosa_12.08.2002/IMG_2678.JPG  \n",
            "  inflating: SceneTrialTrain/lfsosa_12.08.2002/IMG_2679.JPG  \n",
            "  inflating: SceneTrialTrain/lfsosa_12.08.2002/IMG_2682.JPG  \n",
            "  inflating: SceneTrialTrain/lfsosa_12.08.2002/IMG_2683.JPG  \n",
            "  inflating: SceneTrialTrain/locations.xml  \n",
            "   creating: SceneTrialTrain/ryoungt_03.09.2002/\n",
            "  inflating: SceneTrialTrain/ryoungt_03.09.2002/036._.jpg  \n",
            "  inflating: SceneTrialTrain/ryoungt_03.09.2002/ball.jpg  \n",
            "  inflating: SceneTrialTrain/ryoungt_03.09.2002/benone.jpg  \n",
            "  inflating: SceneTrialTrain/ryoungt_03.09.2002/from_joanne.jpg  \n",
            "  inflating: SceneTrialTrain/ryoungt_03.09.2002/goose.jpg  \n",
            "  inflating: SceneTrialTrain/ryoungt_03.09.2002/mach.jpg  \n",
            "  inflating: SceneTrialTrain/ryoungt_03.09.2002/PICT0004.JPG  \n",
            "  inflating: SceneTrialTrain/ryoungt_03.09.2002/PICT0005.JPG  \n",
            "  inflating: SceneTrialTrain/ryoungt_03.09.2002/PICT0010.JPG  \n",
            "  inflating: SceneTrialTrain/ryoungt_03.09.2002/PICT0011.JPG  \n",
            "  inflating: SceneTrialTrain/ryoungt_03.09.2002/PICT0015.JPG  \n",
            "  inflating: SceneTrialTrain/ryoungt_03.09.2002/PICT0019.JPG  \n",
            "  inflating: SceneTrialTrain/ryoungt_03.09.2002/Pict0020.jpg  \n",
            "  inflating: SceneTrialTrain/ryoungt_03.09.2002/PICT0022.JPG  \n",
            "  inflating: SceneTrialTrain/ryoungt_03.09.2002/PICT0023.JPG  \n",
            "  inflating: SceneTrialTrain/ryoungt_03.09.2002/PICT0025.JPG  \n",
            "  inflating: SceneTrialTrain/ryoungt_03.09.2002/PICT0026.JPG  \n",
            "  inflating: SceneTrialTrain/ryoungt_03.09.2002/PICT0029.JPG  \n",
            "  inflating: SceneTrialTrain/ryoungt_03.09.2002/PICT0030.JPG  \n",
            "  inflating: SceneTrialTrain/ryoungt_03.09.2002/PICT0031.JPG  \n",
            "  inflating: SceneTrialTrain/ryoungt_03.09.2002/PICT0042.JPG  \n",
            "  inflating: SceneTrialTrain/ryoungt_03.09.2002/PICT0043.JPG  \n",
            "  inflating: SceneTrialTrain/ryoungt_03.09.2002/PICT0048.JPG  \n",
            "  inflating: SceneTrialTrain/ryoungt_03.09.2002/PICT0049.JPG  \n",
            "  inflating: SceneTrialTrain/ryoungt_03.09.2002/PICT0052.JPG  \n",
            "   creating: SceneTrialTrain/ryoungt_05.08.2002/\n",
            "  inflating: SceneTrialTrain/ryoungt_05.08.2002/052.Kungstradgarden.jpg  \n",
            "  inflating: SceneTrialTrain/ryoungt_05.08.2002/abPICT0005.JPG  \n",
            "  inflating: SceneTrialTrain/ryoungt_05.08.2002/aPICT0001.JPG  \n",
            "  inflating: SceneTrialTrain/ryoungt_05.08.2002/aPICT0002.JPG  \n",
            "  inflating: SceneTrialTrain/ryoungt_05.08.2002/aPICT0004.JPG  \n",
            "  inflating: SceneTrialTrain/ryoungt_05.08.2002/aPICT0006.JPG  \n",
            "  inflating: SceneTrialTrain/ryoungt_05.08.2002/aPICT0007.JPG  \n",
            "  inflating: SceneTrialTrain/ryoungt_05.08.2002/aPICT0010.JPG  \n",
            "  inflating: SceneTrialTrain/ryoungt_05.08.2002/aPICT0011.JPG  \n",
            "  inflating: SceneTrialTrain/ryoungt_05.08.2002/aPICT0013.JPG  \n",
            "  inflating: SceneTrialTrain/ryoungt_05.08.2002/aPICT0014.JPG  \n",
            "  inflating: SceneTrialTrain/ryoungt_05.08.2002/aPICT0017.JPG  \n",
            "  inflating: SceneTrialTrain/ryoungt_05.08.2002/aPICT0018.JPG  \n",
            "  inflating: SceneTrialTrain/ryoungt_05.08.2002/aPICT0020.JPG  \n",
            "  inflating: SceneTrialTrain/ryoungt_05.08.2002/aPICT0021.JPG  \n",
            "  inflating: SceneTrialTrain/ryoungt_05.08.2002/aPICT0023.JPG  \n",
            "  inflating: SceneTrialTrain/ryoungt_05.08.2002/aPICT0024.JPG  \n",
            "  inflating: SceneTrialTrain/ryoungt_05.08.2002/aPICT0025.JPG  \n",
            "  inflating: SceneTrialTrain/ryoungt_05.08.2002/aPICT0026.JPG  \n",
            "  inflating: SceneTrialTrain/ryoungt_05.08.2002/aPICT0027.JPG  \n",
            "  inflating: SceneTrialTrain/segmentation.xml  \n",
            "  inflating: SceneTrialTrain/words.xml  \n"
          ]
        }
      ]
    },
    {
      "cell_type": "markdown",
      "source": [
        "## Extract from xml"
      ],
      "metadata": {
        "id": "Qfp5BfOoRFwo"
      }
    },
    {
      "cell_type": "code",
      "source": [
        "def extract_data_from_xml(root_dir):\n",
        "    xml_path = os.path.join(root_dir, 'words.xml')\n",
        "    tree = ET.parse(xml_path)\n",
        "    root = tree.getroot()\n",
        "\n",
        "    img_paths = []\n",
        "    img_sizes = []\n",
        "    img_labels = []\n",
        "    bboxes = []\n",
        "\n",
        "    for img in root:\n",
        "        bbs_of_img = []\n",
        "        labels_of_img = []\n",
        "\n",
        "        for bbs in img.findall('taggedRectangles'):\n",
        "            for bb in bbs:\n",
        "                # check non-alphabet and non-number\n",
        "                if not bb[0].text.isalnum():\n",
        "                  continue\n",
        "\n",
        "                if \"é\" in bb[0].text.lower() or \"ñ\" in bb[0].text.lower():\n",
        "                    continue\n",
        "\n",
        "                bbs_of_img.append([\n",
        "                    float(bb.attrib['x']),\n",
        "                    float(bb.attrib['y']),\n",
        "                    float(bb.attrib['width']),\n",
        "                    float(bb.attrib['height'])\n",
        "                ])\n",
        "                labels_of_img.append(bb[0].text.lower())\n",
        "\n",
        "        img_path = os.path.join(root_dir, img[0].text)\n",
        "        img_paths.append(img_path)\n",
        "        img_sizes.append((int(img[1].attrib[\"x\"]), int(img[1].attrib[\"y\"])))\n",
        "        bboxes.append(bbs_of_img)\n",
        "        img_labels.append(labels_of_img)\n",
        "\n",
        "    return img_paths, img_sizes, img_labels, bboxes"
      ],
      "metadata": {
        "id": "3FHbFKl3NGtk"
      },
      "execution_count": 4,
      "outputs": []
    },
    {
      "cell_type": "code",
      "source": [
        "dataset_dir = 'SceneTrialTrain'\n",
        "img_paths, img_sizes, img_labels, bboxes = extract_data_from_xml(dataset_dir)"
      ],
      "metadata": {
        "id": "p8i5ZjRaRHrh"
      },
      "execution_count": 5,
      "outputs": []
    },
    {
      "cell_type": "markdown",
      "source": [
        "## Create dataset"
      ],
      "metadata": {
        "id": "Vy-V8NxzRlyg"
      }
    },
    {
      "cell_type": "markdown",
      "source": [
        "We will create the dataset by combining each bounding box with its label"
      ],
      "metadata": {
        "id": "-rkrJumPRpoF"
      }
    },
    {
      "cell_type": "code",
      "source": [
        "def split_bounding_boxes(img_paths, img_labels, bboxes, save_dir):\n",
        "    os.makedirs(save_dir, exist_ok=True)\n",
        "\n",
        "    count = 0\n",
        "    labels = []\n",
        "\n",
        "    for img_path, img_label, bbox in zip(img_paths, img_labels, bboxes):\n",
        "        img = Image.open(img_path)\n",
        "\n",
        "        for label, bb in zip(img_label, bbox):\n",
        "            # Crop image\n",
        "            cropped_img = img.crop((bb[0], bb[1], bb[0] + bb[2], bb[1] + bb[3]))\n",
        "            # Filter out if 90% of the cropped image is black or white\n",
        "            if np.mean(cropped_img) < 35 or np.mean(cropped_img) > 220:\n",
        "                continue\n",
        "\n",
        "            # Filter out if a size is too small\n",
        "            if cropped_img.size[0] < 10 or cropped_img.size [1] < 10:\n",
        "                continue\n",
        "            # Save image\n",
        "            file_name = f\"{count:06d}.jpg\"\n",
        "            new_img_path = os.path.join(save_dir, file_name)\n",
        "            cropped_img.save(new_img_path)\n",
        "\n",
        "            label = new_img_path + '\\t' + label\n",
        "            labels.append(label)\n",
        "\n",
        "            count += 1\n",
        "\n",
        "    print(f\"Created {count} images\")\n",
        "\n",
        "    # Write labels to a text file\n",
        "    with open(os.path.join(save_dir, 'labels.txt'), 'w') as f:\n",
        "        for label in labels:\n",
        "            f.write(f'{label}\\n')"
      ],
      "metadata": {
        "id": "H13E_yrsRxI8"
      },
      "execution_count": 6,
      "outputs": []
    },
    {
      "cell_type": "code",
      "source": [
        "save_dir = 'ocr_dataset'\n",
        "\n",
        "split_bounding_boxes(img_paths, img_labels, bboxes, save_dir)"
      ],
      "metadata": {
        "colab": {
          "base_uri": "https://localhost:8080/"
        },
        "id": "o-2VvZ-WXJUw",
        "outputId": "ab4f9773-39ea-474d-ca75-a1df5e4011fd"
      },
      "execution_count": 7,
      "outputs": [
        {
          "output_type": "stream",
          "name": "stdout",
          "text": [
            "Created 1088 images\n"
          ]
        }
      ]
    },
    {
      "cell_type": "markdown",
      "source": [
        "## Read data"
      ],
      "metadata": {
        "id": "WUo2Vr_pYA-W"
      }
    },
    {
      "cell_type": "code",
      "source": [
        "root_dir = save_dir\n",
        "\n",
        "img_paths = []\n",
        "labels = []\n",
        "\n",
        "with open(os.path.join(root_dir, 'labels.txt'), 'r') as f:\n",
        "    for label in f:\n",
        "        labels.append(label.strip().split('\\t')[1])\n",
        "        img_paths.append(label.strip().split('\\t')[0])\n",
        "\n",
        "print(f\"Number of images: {len(img_paths)}\")"
      ],
      "metadata": {
        "colab": {
          "base_uri": "https://localhost:8080/"
        },
        "id": "freTtM_tYC6f",
        "outputId": "c9075c12-b390-48ec-90a7-c55b6016751f"
      },
      "execution_count": 8,
      "outputs": [
        {
          "output_type": "stream",
          "name": "stdout",
          "text": [
            "Number of images: 1088\n"
          ]
        }
      ]
    },
    {
      "cell_type": "markdown",
      "source": [
        "Print an image"
      ],
      "metadata": {
        "id": "knVepqrzhbOi"
      }
    },
    {
      "cell_type": "code",
      "source": [
        "img = Image.open(img_paths[0])\n",
        "img"
      ],
      "metadata": {
        "colab": {
          "base_uri": "https://localhost:8080/",
          "height": 212
        },
        "id": "o7G4xsm-ha-H",
        "outputId": "24e6d85e-5486-47f3-fb5e-5a1f4dbd1501"
      },
      "execution_count": 9,
      "outputs": [
        {
          "output_type": "execute_result",
          "data": {
            "text/plain": [
              "<PIL.JpegImagePlugin.JpegImageFile image mode=RGB size=274x195>"
            ],
            "image/png": "[encoded data removed]",
            "image/jpeg": "[encoded data removed]"
          },
          "metadata": {},
          "execution_count": 9
        }
      ]
    },
    {
      "cell_type": "markdown",
      "source": [
        "## Create vocab"
      ],
      "metadata": {
        "id": "CmyPvZbnZRPa"
      }
    },
    {
      "cell_type": "code",
      "source": [
        "letters = [char.split(\".\")[0].lower() for char in labels]\n",
        "letters = \"\".join(letters)\n",
        "letters = sorted(list(set(list(letters))))\n",
        "\n",
        "# create a string of all characters in the dataset\n",
        "chars = \"\".join(letters)\n",
        "\n",
        "blank_char = \"-\"\n",
        "chars += blank_char\n",
        "vocab_size = len(chars)\n",
        "\n",
        "print(f\"Vocab size: {vocab_size}\")\n",
        "print(f\"Vocab: {chars}\")"
      ],
      "metadata": {
        "colab": {
          "base_uri": "https://localhost:8080/"
        },
        "id": "Wm31HRDEZS1w",
        "outputId": "5a215dc7-9f54-4ef1-994a-6b79ca0db980"
      },
      "execution_count": 10,
      "outputs": [
        {
          "output_type": "stream",
          "name": "stdout",
          "text": [
            "Vocab size: 37\n",
            "Vocab: 0123456789abcdefghijklmnopqrstuvwxyz-\n"
          ]
        }
      ]
    },
    {
      "cell_type": "code",
      "source": [
        "char_to_idx = {char: idx+1 for idx, char in enumerate(sorted(chars))}\n",
        "idx_to_char = {idx: char for char, idx in char_to_idx.items()}"
      ],
      "metadata": {
        "id": "hTIMyY9SZhHU"
      },
      "execution_count": 11,
      "outputs": []
    },
    {
      "cell_type": "markdown",
      "source": [
        "## Create string encoder and decoder"
      ],
      "metadata": {
        "id": "H5jXctYpaY7q"
      }
    },
    {
      "cell_type": "code",
      "source": [
        "max_label_len = max([len(label) for label in labels])\n",
        "\n",
        "def encode(label, char_to_idx, max_label_len):\n",
        "    encoded_labels = torch.tensor(\n",
        "        [char_to_idx[char] for char in label],\n",
        "        dtype=torch.long\n",
        "    )\n",
        "    label_len = len(encoded_labels)\n",
        "    lengths = torch.tensor(label_len, dtype=torch.long)\n",
        "    padded_labels = F.pad(\n",
        "        encoded_labels,\n",
        "        (0, max_label_len - label_len),\n",
        "        value=0\n",
        "    )\n",
        "\n",
        "    return padded_labels, lengths"
      ],
      "metadata": {
        "id": "_RbiymqWaRBD"
      },
      "execution_count": 34,
      "outputs": []
    },
    {
      "cell_type": "code",
      "source": [
        "def decode(encoded_sequences, idx_to_char, blank_char='-'):\n",
        "    decoded_sequences = []\n",
        "    for seq in encoded_sequences:\n",
        "        decoded_label = []\n",
        "        prev_char = None\n",
        "\n",
        "        for token in seq:\n",
        "            if token != 0:\n",
        "                char = idx_to_char[token.item()]\n",
        "                if char != blank_char:\n",
        "                    if char != prev_char or prev_char == blank_char:\n",
        "                        decoded_label.append(char)\n",
        "                prev_char = char\n",
        "        decoded_sequences.append(\"\".join(decoded_label))\n",
        "\n",
        "    print(f\"From {encoded_sequences} to {decoded_sequences}\")\n",
        "    return decoded_sequences"
      ],
      "metadata": {
        "id": "KBJxa-9QblY9"
      },
      "execution_count": 35,
      "outputs": []
    },
    {
      "cell_type": "markdown",
      "source": [
        "Testing"
      ],
      "metadata": {
        "id": "3kzc9p7Bca-J"
      }
    },
    {
      "cell_type": "code",
      "source": [
        "label = 'hello-world'\n",
        "encoded_label, label_len = encode(label, char_to_idx, max_label_len)\n",
        "decoded_label = decode([encoded_label], idx_to_char)"
      ],
      "metadata": {
        "colab": {
          "base_uri": "https://localhost:8080/"
        },
        "id": "JoeDnLF9cbtI",
        "outputId": "aacc49f2-c769-4238-94a3-79fb6fc683ea"
      },
      "execution_count": 36,
      "outputs": [
        {
          "output_type": "stream",
          "name": "stdout",
          "text": [
            "From [tensor([19, 16, 23, 23, 26,  1, 34, 26, 29, 23, 15,  0,  0,  0])] to ['heloworld']\n"
          ]
        }
      ]
    },
    {
      "cell_type": "markdown",
      "source": [
        "## Create data transform"
      ],
      "metadata": {
        "id": "chF_fzzCdxEl"
      }
    },
    {
      "cell_type": "code",
      "source": [
        "data_transforms = {\n",
        "    \"train\": transforms.Compose(\n",
        "        [\n",
        "            transforms.Resize((100, 420)),\n",
        "            transforms.ColorJitter(\n",
        "                brightness=0.5,\n",
        "                contrast=0.5,\n",
        "                saturation=0.5,\n",
        "            ),\n",
        "            transforms.Grayscale(\n",
        "                num_output_channels=1,\n",
        "            ),\n",
        "            transforms.GaussianBlur(3),\n",
        "            transforms.RandomAffine(\n",
        "                degrees=1,\n",
        "                shear=1,\n",
        "            ),\n",
        "            transforms.RandomPerspective(\n",
        "                distortion_scale=0.3,\n",
        "                p=0.5,\n",
        "                interpolation=3,\n",
        "            ),\n",
        "            transforms.RandomRotation(degrees=2),\n",
        "            transforms.ToTensor(),\n",
        "            transforms.Normalize((0.5,), (0.5,)),\n",
        "        ]\n",
        "    ),\n",
        "    \"val\": transforms.Compose(\n",
        "        [\n",
        "            transforms.Resize((100, 420)),\n",
        "            transforms.Grayscale(num_output_channels=1),\n",
        "            transforms.ToTensor(),\n",
        "            transforms.Normalize((0.5,), (0.5,)),\n",
        "        ]\n",
        "    ),\n",
        "}"
      ],
      "metadata": {
        "id": "b-6YpR4Td0uA"
      },
      "execution_count": 37,
      "outputs": []
    },
    {
      "cell_type": "markdown",
      "source": [
        "## Split data"
      ],
      "metadata": {
        "id": "hVrIB5H3fGIo"
      }
    },
    {
      "cell_type": "code",
      "source": [
        "seed = 0\n",
        "val_size = 0.1\n",
        "test_size = 0.1\n",
        "is_shuffle = True\n",
        "\n",
        "X_train, X_val, y_train, y_val = train_test_split(\n",
        "    img_paths,\n",
        "    labels,\n",
        "    test_size=val_size,\n",
        "    random_state=seed,\n",
        "    shuffle=is_shuffle\n",
        ")\n",
        "\n",
        "X_train, X_test, y_train, y_test = train_test_split(\n",
        "    X_train,\n",
        "    y_train,\n",
        "    test_size=test_size,\n",
        "    random_state=seed,\n",
        "    shuffle=is_shuffle\n",
        ")"
      ],
      "metadata": {
        "id": "qXONf3NZfHUH"
      },
      "execution_count": 38,
      "outputs": []
    },
    {
      "cell_type": "markdown",
      "source": [
        "## Create Pytorch dataset"
      ],
      "metadata": {
        "id": "uGVAuqqJfasm"
      }
    },
    {
      "cell_type": "code",
      "source": [
        "class STRDataset(Dataset):\n",
        "    def __init__(\n",
        "        self,\n",
        "        X,\n",
        "        y,\n",
        "        char_to_idx,\n",
        "        max_label_len,\n",
        "        label_encoder=None,\n",
        "        transform=None,\n",
        "    ):\n",
        "        self.transform = transform\n",
        "        self.img_paths = X\n",
        "        self.labels = y\n",
        "        self.char_to_idx = char_to_idx\n",
        "        self.max_label_len = max_label_len\n",
        "        self.label_encoder = label_encoder\n",
        "\n",
        "    def __len__(self):\n",
        "        return len(self.img_paths)\n",
        "\n",
        "    def __getitem__(self, idx):\n",
        "        label = self.labels[idx]\n",
        "        img_path = self.img_paths[idx]\n",
        "        img = Image.open(img_path).convert(\"RGB\")\n",
        "\n",
        "        if self.transform:\n",
        "            img = self.transform(img)\n",
        "\n",
        "        if self.label_encoder:\n",
        "            encoded_label, label_len = self.label_encoder(\n",
        "                label, self.char_to_idx, self.max_label_len\n",
        "            )\n",
        "        return img, encoded_label, label_len"
      ],
      "metadata": {
        "id": "OuYmYYhjfcmH"
      },
      "execution_count": 39,
      "outputs": []
    },
    {
      "cell_type": "markdown",
      "source": [
        "## Create DataLoader"
      ],
      "metadata": {
        "id": "K8xpq5J0gMKi"
      }
    },
    {
      "cell_type": "code",
      "source": [
        "train_dataset = STRDataset(\n",
        "    X_train,\n",
        "    y_train,\n",
        "    char_to_idx=char_to_idx,\n",
        "    max_label_len=max_label_len,\n",
        "    label_encoder=encode,\n",
        "    transform=data_transforms[\"train\"],\n",
        ")\n",
        "val_dataset = STRDataset(\n",
        "    X_val,\n",
        "    y_val,\n",
        "    char_to_idx=char_to_idx,\n",
        "    max_label_len=max_label_len,\n",
        "    label_encoder=encode,\n",
        "    transform=data_transforms[\"val\"],\n",
        ")\n",
        "test_dataset = STRDataset(\n",
        "    X_test,\n",
        "    y_test,\n",
        "    char_to_idx=char_to_idx,\n",
        "    max_label_len=max_label_len,\n",
        "    label_encoder=encode,\n",
        "    transform=data_transforms[\"val\"],\n",
        ")"
      ],
      "metadata": {
        "id": "_VaN7YOYgNsY"
      },
      "execution_count": 40,
      "outputs": []
    },
    {
      "cell_type": "code",
      "source": [
        "print(\n",
        "    f\"Train dataset: {len(train_dataset)}\",\n",
        "    f\"Val dataset: {len(val_dataset)}\",\n",
        "    f\"Test dataset: {len(test_dataset)}\",\n",
        "    sep=\"\\n\",\n",
        ")"
      ],
      "metadata": {
        "colab": {
          "base_uri": "https://localhost:8080/"
        },
        "id": "9cPJb7LFvO1K",
        "outputId": "06a3f91d-e497-4f5b-ac2c-f756eb2df328"
      },
      "execution_count": 41,
      "outputs": [
        {
          "output_type": "stream",
          "name": "stdout",
          "text": [
            "Train dataset: 881\n",
            "Val dataset: 109\n",
            "Test dataset: 98\n"
          ]
        }
      ]
    },
    {
      "cell_type": "code",
      "source": [
        "train_batch_size = 64\n",
        "test_batch_size = 64*2\n",
        "\n",
        "train_dataloader = DataLoader(\n",
        "    train_dataset,\n",
        "    batch_size=train_batch_size,\n",
        "    shuffle=True,\n",
        ")\n",
        "val_dataloader = DataLoader(\n",
        "    val_dataset,\n",
        "    batch_size=test_batch_size,\n",
        "    shuffle=False,\n",
        ")\n",
        "test_dataloader = DataLoader(\n",
        "    test_dataset,\n",
        "    batch_size=test_batch_size,\n",
        "    shuffle=False,\n",
        ")"
      ],
      "metadata": {
        "id": "yzbvEkL8geHZ"
      },
      "execution_count": 42,
      "outputs": []
    },
    {
      "cell_type": "markdown",
      "source": [
        "# Modeling"
      ],
      "metadata": {
        "id": "F78ZLOlVg0eX"
      }
    },
    {
      "cell_type": "markdown",
      "source": [
        "## Main model"
      ],
      "metadata": {
        "id": "wd3qathAo7Gp"
      }
    },
    {
      "cell_type": "markdown",
      "source": [
        "![image.png](data:image/png;base64,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)"
      ],
      "metadata": {
        "id": "bCR0TirahmF1"
      }
    },
    {
      "cell_type": "code",
      "source": [
        "class CRNN(nn.Module):\n",
        "    def __init__(self, vocab_size, hidden_size, n_layers,\n",
        "                 dropout=0.2, unfreeze_layers=3):\n",
        "        super(CRNN, self).__init__()\n",
        "        backbone = timm.create_model(\"resnet34\", in_chans=1, pretrained=True)\n",
        "        modules = list(backbone.children())[:-2]\n",
        "        modules.append(nn.AdaptiveAvgPool2d((1,None)))\n",
        "        self.backbone = nn.Sequential(*modules)\n",
        "\n",
        "        # Unfreeze the last few layers\n",
        "        for param in self.backbone[-unfreeze_layers:].parameters():\n",
        "            param.requires_grad = True\n",
        "\n",
        "        self.mapSeq = nn.Sequential(\n",
        "            nn.Linear(512, 512),\n",
        "            nn.ReLU(),\n",
        "            nn.Dropout(dropout)\n",
        "        )\n",
        "\n",
        "        self.gru = nn.GRU(\n",
        "            512,\n",
        "            hidden_size,\n",
        "            n_layers,\n",
        "            batch_first=True,\n",
        "            bidirectional=True,\n",
        "            dropout = dropout if n_layers > 1 else 0\n",
        "        )\n",
        "        self.layernorm = nn.LayerNorm(hidden_size * 2)\n",
        "\n",
        "        self.out = nn.Sequential(\n",
        "            nn.Linear(hidden_size * 2, vocab_size),\n",
        "            nn.LogSoftmax(dim=2)\n",
        "        )\n",
        "\n",
        "    @torch.autocast(device_type =\"cuda\")\n",
        "    def forward(self, x):\n",
        "        x = self.backbone(x)\n",
        "        x = x.permute(0, 3, 1, 2)\n",
        "        x = x.view(x.size(0), x.size(1), -1)\n",
        "        x = self.mapSeq(x)\n",
        "        x, _ = self.gru(x)\n",
        "        x = self.layernorm(x)\n",
        "        x = self.out(x)\n",
        "        x = x.permute(1, 0, 2)\n",
        "        return x"
      ],
      "metadata": {
        "id": "JhsU7xbZg2FS"
      },
      "execution_count": 60,
      "outputs": []
    },
    {
      "cell_type": "markdown",
      "source": [
        "## training and evaluating functions"
      ],
      "metadata": {
        "id": "ecu6lYbio9-c"
      }
    },
    {
      "cell_type": "code",
      "source": [
        "def evaluate(model, dataloader, criterion, device):\n",
        "    model.eval()\n",
        "    losses = []\n",
        "    with torch.no_grad():\n",
        "        for idx, (inputs, labels, labels_len) in enumerate(dataloader):\n",
        "            inputs = inputs.to(device)\n",
        "            labels = labels.to(device)\n",
        "            labels_len = labels_len.to(device)\n",
        "\n",
        "            outputs = model(inputs)\n",
        "            logits_lens = torch.full(\n",
        "                size=(outputs.size(1),), fill_value=outputs.size(0), dtype=torch.long\n",
        "            ).to(device)\n",
        "\n",
        "            loss = criterion(outputs, labels, logits_lens, labels_len)\n",
        "            losses.append(loss.item())\n",
        "\n",
        "    loss = sum(losses) / len(losses)\n",
        "\n",
        "    return loss"
      ],
      "metadata": {
        "id": "LnaKrIM9pCtu"
      },
      "execution_count": 46,
      "outputs": []
    },
    {
      "cell_type": "code",
      "source": [
        "def fit(\n",
        "    model,\n",
        "    train_loader,\n",
        "    val_loader,\n",
        "    criterion,\n",
        "    optimizer,\n",
        "    scheduler,\n",
        "    device,\n",
        "    epochs,\n",
        "):\n",
        "    train_losses = []\n",
        "    val_losses = []\n",
        "\n",
        "    for epoch in range(epochs):\n",
        "        start = time.time()\n",
        "\n",
        "        batch_train_losses = []\n",
        "\n",
        "        model.train()\n",
        "        for idx, (inputs, labels, labels_len) in enumerate(train_loader):\n",
        "            inputs = inputs.to(device)\n",
        "            labels = labels.to(device)\n",
        "            labels_len = labels_len.to(device)\n",
        "\n",
        "            optimizer.zero_grad()\n",
        "\n",
        "            outputs = model(inputs)\n",
        "\n",
        "            logits_lens = torch.full(\n",
        "                size=(outputs.size(1),),\n",
        "                fill_value=outputs.size(0),\n",
        "                dtype=torch.long,\n",
        "            ).to(device)\n",
        "\n",
        "            loss = criterion(outputs, labels, logits_lens, labels_len)\n",
        "\n",
        "            loss.backward()\n",
        "\n",
        "            # Gradient clipping with a configurable max norm\n",
        "            torch.nn.utils.clip_grad_norm_(model.parameters(), 2)\n",
        "\n",
        "            optimizer.step()\n",
        "\n",
        "            batch_train_losses.append(loss.item())\n",
        "\n",
        "        train_loss = sum(batch_train_losses) / len(batch_train_losses)\n",
        "        train_losses.append(train_loss)\n",
        "\n",
        "        val_loss = evaluate(model, val_loader, criterion, device)\n",
        "        val_losses.append(val_loss)\n",
        "\n",
        "        print(\n",
        "            f\"EPOCH {epoch + 1}:\\tTrain loss: {train_loss:.4f}\\tVal loss: {val_loss:.4f}\\t\\t Time: {time.time() - start:.2f} seconds\"\n",
        "        )\n",
        "\n",
        "        scheduler.step()\n",
        "\n",
        "    return train_losses, val_losses"
      ],
      "metadata": {
        "id": "_CEfM5LBpF3Y"
      },
      "execution_count": 61,
      "outputs": []
    },
    {
      "cell_type": "markdown",
      "source": [
        "## Create model"
      ],
      "metadata": {
        "id": "tyVLO1002SAV"
      }
    },
    {
      "cell_type": "code",
      "source": [
        "hidden_size = 256\n",
        "n_layers = 3\n",
        "dropout_prob = 0.2\n",
        "unfreeze_layers = 3\n",
        "device = \"cuda\" if torch.cuda.is_available() else \"cpu\"\n",
        "\n",
        "model = CRNN(\n",
        "    vocab_size=vocab_size,\n",
        "    hidden_size=hidden_size,\n",
        "    n_layers=n_layers,\n",
        "    dropout=dropout_prob,\n",
        "    unfreeze_layers=unfreeze_layers,\n",
        ").to(device)"
      ],
      "metadata": {
        "id": "-cPe5-0KpMFd",
        "colab": {
          "base_uri": "https://localhost:8080/",
          "height": 49,
          "referenced_widgets": [
            "f0d03421f2b5404ea77fa94c62c0d99d",
            "6663ed0ab82b4a4a8e0b15fa46303d98",
            "828d8f059b1c42899e903d81b3d0efe7",
            "7d19f42b758c4432baa0f5c81866cb80",
            "d1bcd762cfb14cbcacc87dd81c101c58",
            "fba3dadac79a436fb3bad728f062cdab",
            "4b79310c64e9471c9084ff56862180ac",
            "247125bff7484ccf8b88f20ea540fa31",
            "39b1ea7684c7473baf7b80e4b939e923",
            "821b35b239ce4e2fa3992f466fb4531d",
            "31884d5b27d84be7ba438fdcc8f10bae"
          ]
        },
        "outputId": "1320ddf0-af6c-4813-c35a-fd6da1e081e9"
      },
      "execution_count": 62,
      "outputs": [
        {
          "output_type": "display_data",
          "data": {
            "text/plain": [
              "model.safetensors:   0%|          | 0.00/87.3M [00:00<?, ?B/s]"
            ],
            "application/vnd.jupyter.widget-view+json": {
              "version_major": 2,
              "version_minor": 0,
              "model_id": "f0d03421f2b5404ea77fa94c62c0d99d"
            }
          },
          "metadata": {}
        }
      ]
    },
    {
      "cell_type": "code",
      "source": [
        "epochs = 100\n",
        "lr = 5e-4\n",
        "weight_decay = 1e-5\n",
        "scheduler_step_size = epochs * 0.5\n",
        "\n",
        "criterion = nn.CTCLoss(\n",
        "    blank=char_to_idx[blank_char],\n",
        "    zero_infinity=True,\n",
        "    reduction=\"mean\",\n",
        ")\n",
        "optimizer = torch.optim.Adam(\n",
        "    model.parameters(),\n",
        "    lr=lr,\n",
        "    weight_decay=weight_decay,\n",
        ")\n",
        "scheduler = torch.optim.lr_scheduler.StepLR(\n",
        "    optimizer, step_size=scheduler_step_size, gamma=0.1\n",
        ")"
      ],
      "metadata": {
        "id": "NlstpMURpKQJ"
      },
      "execution_count": 63,
      "outputs": []
    },
    {
      "cell_type": "markdown",
      "source": [
        "## Train model"
      ],
      "metadata": {
        "id": "0cJGqp-vpJHO"
      }
    },
    {
      "cell_type": "code",
      "source": [
        "train_losses, val_losses = fit(\n",
        "    model, train_dataloader, val_dataloader,\n",
        "    criterion, optimizer, scheduler, device, epochs\n",
        ")"
      ],
      "metadata": {
        "colab": {
          "base_uri": "https://localhost:8080/"
        },
        "id": "Mt7_c4kapgnG",
        "outputId": "f52567c2-8dcb-4a05-9452-721e0542609c"
      },
      "execution_count": 64,
      "outputs": [
        {
          "output_type": "stream",
          "name": "stdout",
          "text": [
            "EPOCH 1:\tTrain loss: 4.3174\tVal loss: 3.8083\t\t Time: 7.04 seconds\n",
            "EPOCH 2:\tTrain loss: 3.4476\tVal loss: 3.4841\t\t Time: 7.52 seconds\n",
            "EPOCH 3:\tTrain loss: 3.3578\tVal loss: 3.3988\t\t Time: 7.50 seconds\n",
            "EPOCH 4:\tTrain loss: 3.2024\tVal loss: 3.1790\t\t Time: 6.95 seconds\n",
            "EPOCH 5:\tTrain loss: 3.0453\tVal loss: 3.1003\t\t Time: 7.49 seconds\n",
            "EPOCH 6:\tTrain loss: 2.8138\tVal loss: 2.8000\t\t Time: 6.88 seconds\n",
            "EPOCH 7:\tTrain loss: 2.5405\tVal loss: 2.4165\t\t Time: 7.60 seconds\n",
            "EPOCH 8:\tTrain loss: 2.2076\tVal loss: 2.2217\t\t Time: 7.80 seconds\n",
            "EPOCH 9:\tTrain loss: 1.8411\tVal loss: 1.9490\t\t Time: 6.95 seconds\n",
            "EPOCH 10:\tTrain loss: 1.5936\tVal loss: 1.7288\t\t Time: 7.66 seconds\n",
            "EPOCH 11:\tTrain loss: 1.3272\tVal loss: 1.4149\t\t Time: 6.93 seconds\n",
            "EPOCH 12:\tTrain loss: 1.1368\tVal loss: 1.4027\t\t Time: 7.56 seconds\n",
            "EPOCH 13:\tTrain loss: 0.9548\tVal loss: 1.2558\t\t Time: 7.55 seconds\n",
            "EPOCH 14:\tTrain loss: 0.8499\tVal loss: 1.1195\t\t Time: 6.99 seconds\n",
            "EPOCH 15:\tTrain loss: 0.7454\tVal loss: 1.0981\t\t Time: 7.52 seconds\n",
            "EPOCH 16:\tTrain loss: 0.6267\tVal loss: 0.9934\t\t Time: 6.97 seconds\n",
            "EPOCH 17:\tTrain loss: 0.5502\tVal loss: 0.9892\t\t Time: 7.47 seconds\n",
            "EPOCH 18:\tTrain loss: 0.5162\tVal loss: 1.1332\t\t Time: 7.45 seconds\n",
            "EPOCH 19:\tTrain loss: 0.4335\tVal loss: 1.1021\t\t Time: 6.84 seconds\n",
            "EPOCH 20:\tTrain loss: 0.4165\tVal loss: 0.9900\t\t Time: 7.53 seconds\n",
            "EPOCH 21:\tTrain loss: 0.3531\tVal loss: 0.9902\t\t Time: 6.93 seconds\n",
            "EPOCH 22:\tTrain loss: 0.3370\tVal loss: 1.1014\t\t Time: 7.56 seconds\n",
            "EPOCH 23:\tTrain loss: 0.3273\tVal loss: 1.0168\t\t Time: 7.43 seconds\n",
            "EPOCH 24:\tTrain loss: 0.3144\tVal loss: 1.1464\t\t Time: 6.93 seconds\n",
            "EPOCH 25:\tTrain loss: 0.2903\tVal loss: 1.1719\t\t Time: 7.55 seconds\n",
            "EPOCH 26:\tTrain loss: 0.2637\tVal loss: 1.0175\t\t Time: 6.84 seconds\n",
            "EPOCH 27:\tTrain loss: 0.2851\tVal loss: 1.0672\t\t Time: 7.42 seconds\n",
            "EPOCH 28:\tTrain loss: 0.2207\tVal loss: 1.0113\t\t Time: 7.19 seconds\n",
            "EPOCH 29:\tTrain loss: 0.1812\tVal loss: 0.8742\t\t Time: 7.10 seconds\n",
            "EPOCH 30:\tTrain loss: 0.1565\tVal loss: 0.8275\t\t Time: 7.54 seconds\n",
            "EPOCH 31:\tTrain loss: 0.1739\tVal loss: 0.9235\t\t Time: 6.95 seconds\n",
            "EPOCH 32:\tTrain loss: 0.1551\tVal loss: 0.9293\t\t Time: 7.57 seconds\n",
            "EPOCH 33:\tTrain loss: 0.1646\tVal loss: 1.1609\t\t Time: 7.37 seconds\n",
            "EPOCH 34:\tTrain loss: 0.1545\tVal loss: 1.0692\t\t Time: 7.15 seconds\n",
            "EPOCH 35:\tTrain loss: 0.1554\tVal loss: 0.9492\t\t Time: 7.39 seconds\n",
            "EPOCH 36:\tTrain loss: 0.1278\tVal loss: 1.0626\t\t Time: 6.81 seconds\n",
            "EPOCH 37:\tTrain loss: 0.1480\tVal loss: 1.2077\t\t Time: 7.50 seconds\n",
            "EPOCH 38:\tTrain loss: 0.1365\tVal loss: 1.0810\t\t Time: 6.95 seconds\n",
            "EPOCH 39:\tTrain loss: 0.1284\tVal loss: 1.2067\t\t Time: 7.31 seconds\n",
            "EPOCH 40:\tTrain loss: 0.1277\tVal loss: 1.1120\t\t Time: 7.55 seconds\n",
            "EPOCH 41:\tTrain loss: 0.1022\tVal loss: 1.1701\t\t Time: 6.99 seconds\n",
            "EPOCH 42:\tTrain loss: 0.1274\tVal loss: 1.0877\t\t Time: 7.47 seconds\n",
            "EPOCH 43:\tTrain loss: 0.1091\tVal loss: 1.0554\t\t Time: 6.93 seconds\n",
            "EPOCH 44:\tTrain loss: 0.1109\tVal loss: 0.9600\t\t Time: 7.55 seconds\n",
            "EPOCH 45:\tTrain loss: 0.1138\tVal loss: 1.1446\t\t Time: 7.63 seconds\n",
            "EPOCH 46:\tTrain loss: 0.0979\tVal loss: 1.1365\t\t Time: 6.98 seconds\n",
            "EPOCH 47:\tTrain loss: 0.1325\tVal loss: 1.1253\t\t Time: 7.54 seconds\n",
            "EPOCH 48:\tTrain loss: 0.1214\tVal loss: 0.9532\t\t Time: 7.12 seconds\n",
            "EPOCH 49:\tTrain loss: 0.1098\tVal loss: 1.2251\t\t Time: 7.41 seconds\n",
            "EPOCH 50:\tTrain loss: 0.1080\tVal loss: 1.1424\t\t Time: 7.63 seconds\n",
            "EPOCH 51:\tTrain loss: 0.0813\tVal loss: 1.0785\t\t Time: 7.02 seconds\n",
            "EPOCH 52:\tTrain loss: 0.0731\tVal loss: 1.0703\t\t Time: 7.54 seconds\n",
            "EPOCH 53:\tTrain loss: 0.0660\tVal loss: 1.0663\t\t Time: 7.21 seconds\n",
            "EPOCH 54:\tTrain loss: 0.0560\tVal loss: 1.0621\t\t Time: 7.30 seconds\n",
            "EPOCH 55:\tTrain loss: 0.0554\tVal loss: 1.0537\t\t Time: 7.58 seconds\n",
            "EPOCH 56:\tTrain loss: 0.0502\tVal loss: 1.0510\t\t Time: 6.90 seconds\n",
            "EPOCH 57:\tTrain loss: 0.0533\tVal loss: 1.0348\t\t Time: 7.51 seconds\n",
            "EPOCH 58:\tTrain loss: 0.0581\tVal loss: 1.0223\t\t Time: 7.06 seconds\n",
            "EPOCH 59:\tTrain loss: 0.0526\tVal loss: 1.0028\t\t Time: 7.33 seconds\n",
            "EPOCH 60:\tTrain loss: 0.0625\tVal loss: 1.0028\t\t Time: 7.52 seconds\n",
            "EPOCH 61:\tTrain loss: 0.0523\tVal loss: 1.0137\t\t Time: 6.82 seconds\n",
            "EPOCH 62:\tTrain loss: 0.0392\tVal loss: 0.9972\t\t Time: 7.58 seconds\n",
            "EPOCH 63:\tTrain loss: 0.0551\tVal loss: 0.9943\t\t Time: 6.98 seconds\n",
            "EPOCH 64:\tTrain loss: 0.0490\tVal loss: 1.0015\t\t Time: 7.52 seconds\n",
            "EPOCH 65:\tTrain loss: 0.0479\tVal loss: 1.0246\t\t Time: 7.45 seconds\n",
            "EPOCH 66:\tTrain loss: 0.0565\tVal loss: 1.0192\t\t Time: 6.87 seconds\n",
            "EPOCH 67:\tTrain loss: 0.0474\tVal loss: 1.0176\t\t Time: 7.47 seconds\n",
            "EPOCH 68:\tTrain loss: 0.0419\tVal loss: 1.0101\t\t Time: 6.88 seconds\n",
            "EPOCH 69:\tTrain loss: 0.0545\tVal loss: 1.0156\t\t Time: 7.52 seconds\n",
            "EPOCH 70:\tTrain loss: 0.0472\tVal loss: 1.0054\t\t Time: 7.54 seconds\n",
            "EPOCH 71:\tTrain loss: 0.0319\tVal loss: 1.0188\t\t Time: 6.81 seconds\n",
            "EPOCH 72:\tTrain loss: 0.0427\tVal loss: 1.0395\t\t Time: 7.50 seconds\n",
            "EPOCH 73:\tTrain loss: 0.0389\tVal loss: 1.0473\t\t Time: 6.91 seconds\n",
            "EPOCH 74:\tTrain loss: 0.0481\tVal loss: 1.0276\t\t Time: 7.43 seconds\n",
            "EPOCH 75:\tTrain loss: 0.0510\tVal loss: 1.0182\t\t Time: 7.61 seconds\n",
            "EPOCH 76:\tTrain loss: 0.0352\tVal loss: 1.0010\t\t Time: 6.69 seconds\n",
            "EPOCH 77:\tTrain loss: 0.0339\tVal loss: 0.9916\t\t Time: 7.40 seconds\n",
            "EPOCH 78:\tTrain loss: 0.0452\tVal loss: 1.0191\t\t Time: 6.87 seconds\n",
            "EPOCH 79:\tTrain loss: 0.0436\tVal loss: 1.0211\t\t Time: 7.61 seconds\n",
            "EPOCH 80:\tTrain loss: 0.0413\tVal loss: 1.0259\t\t Time: 7.34 seconds\n",
            "EPOCH 81:\tTrain loss: 0.0424\tVal loss: 1.0241\t\t Time: 7.12 seconds\n",
            "EPOCH 82:\tTrain loss: 0.0446\tVal loss: 1.0463\t\t Time: 7.62 seconds\n",
            "EPOCH 83:\tTrain loss: 0.0362\tVal loss: 1.0498\t\t Time: 6.91 seconds\n",
            "EPOCH 84:\tTrain loss: 0.0411\tVal loss: 1.0366\t\t Time: 7.61 seconds\n",
            "EPOCH 85:\tTrain loss: 0.0325\tVal loss: 1.0289\t\t Time: 7.43 seconds\n",
            "EPOCH 86:\tTrain loss: 0.0404\tVal loss: 1.0327\t\t Time: 7.08 seconds\n",
            "EPOCH 87:\tTrain loss: 0.0466\tVal loss: 1.0653\t\t Time: 7.48 seconds\n",
            "EPOCH 88:\tTrain loss: 0.0368\tVal loss: 1.0541\t\t Time: 6.88 seconds\n",
            "EPOCH 89:\tTrain loss: 0.0416\tVal loss: 1.0178\t\t Time: 7.44 seconds\n",
            "EPOCH 90:\tTrain loss: 0.0419\tVal loss: 1.0187\t\t Time: 7.34 seconds\n",
            "EPOCH 91:\tTrain loss: 0.0342\tVal loss: 1.0459\t\t Time: 7.03 seconds\n",
            "EPOCH 92:\tTrain loss: 0.0396\tVal loss: 1.0248\t\t Time: 7.44 seconds\n",
            "EPOCH 93:\tTrain loss: 0.0369\tVal loss: 1.0465\t\t Time: 6.86 seconds\n",
            "EPOCH 94:\tTrain loss: 0.0331\tVal loss: 1.0415\t\t Time: 7.61 seconds\n",
            "EPOCH 95:\tTrain loss: 0.0461\tVal loss: 1.0215\t\t Time: 7.13 seconds\n",
            "EPOCH 96:\tTrain loss: 0.0287\tVal loss: 1.0328\t\t Time: 7.25 seconds\n",
            "EPOCH 97:\tTrain loss: 0.0449\tVal loss: 1.0410\t\t Time: 7.46 seconds\n",
            "EPOCH 98:\tTrain loss: 0.0302\tVal loss: 1.0433\t\t Time: 6.78 seconds\n",
            "EPOCH 99:\tTrain loss: 0.0443\tVal loss: 1.0338\t\t Time: 7.32 seconds\n",
            "EPOCH 100:\tTrain loss: 0.0406\tVal loss: 1.0335\t\t Time: 6.80 seconds\n"
          ]
        }
      ]
    },
    {
      "cell_type": "markdown",
      "source": [
        "## Visualize"
      ],
      "metadata": {
        "id": "hbJEwkSW2VA3"
      }
    },
    {
      "cell_type": "code",
      "source": [
        "fig, ax = plt.subplots(1, 2, figsize=(15, 5))\n",
        "ax[0].plot(train_losses, label=\"Train\")\n",
        "ax[0].set_xlabel(\"Epoch\")\n",
        "ax[0].set_ylabel(\"Loss\")\n",
        "ax[0].legend()\n",
        "\n",
        "ax[1].plot(val_losses, label=\"Validation\", color ='orange')\n",
        "ax[1].set_xlabel(\"Epoch\")\n",
        "ax[1].set_ylabel(\"Loss\")\n",
        "ax[1].legend()\n",
        "\n",
        "plt.show()"
      ],
      "metadata": {
        "colab": {
          "base_uri": "https://localhost:8080/",
          "height": 426
        },
        "id": "1WQMmuuO2WsO",
        "outputId": "365ae651-86b3-4557-bdf1-1fbf59836e64"
      },
      "execution_count": 65,
      "outputs": [
        {
          "output_type": "display_data",
          "data": {
            "text/plain": [
              "<Figure size 1500x500 with 2 Axes>"
            ],
            "image/png": "[encoded data removed]"
          },
          "metadata": {}
        }
      ]
    },
    {
      "cell_type": "markdown",
      "source": [
        "## Evaluate"
      ],
      "metadata": {
        "id": "w6DW754F3CQx"
      }
    },
    {
      "cell_type": "code",
      "source": [
        "val_loss = evaluate(model, val_dataloader, criterion, device)\n",
        "test_loss = evaluate(model, test_dataloader, criterion, device)\n",
        "\n",
        "print(f\"Validation loss: {val_loss:.4f}\")\n",
        "print(f\"Test loss: {test_loss:.4f}\")"
      ],
      "metadata": {
        "colab": {
          "base_uri": "https://localhost:8080/"
        },
        "id": "KwFl6OjH3AeQ",
        "outputId": "a386f72b-3ca9-4add-b7bf-a0cf878624e2"
      },
      "execution_count": 66,
      "outputs": [
        {
          "output_type": "stream",
          "name": "stdout",
          "text": [
            "Validation loss: 1.0335\n",
            "Test loss: 1.3471\n"
          ]
        }
      ]
    },
    {
      "cell_type": "markdown",
      "source": [
        "## Save model"
      ],
      "metadata": {
        "id": "5-D66ap23LaQ"
      }
    },
    {
      "cell_type": "code",
      "source": [
        "save_model_path = 'ocr_crnn.pt'\n",
        "torch.save(model.state_dict(), save_model_path)"
      ],
      "metadata": {
        "id": "EEaXzLdi3Mlx"
      },
      "execution_count": 67,
      "outputs": []
    },
    {
      "cell_type": "markdown",
      "source": [
        "Download"
      ],
      "metadata": {
        "id": "rGScqCe_3Tqt"
      }
    },
    {
      "cell_type": "code",
      "source": [
        "from google.colab import files\n",
        "files.download(save_model_path)"
      ],
      "metadata": {
        "colab": {
          "base_uri": "https://localhost:8080/",
          "height": 17
        },
        "id": "3Ldz1uQD3Tcq",
        "outputId": "1668a1f5-75e4-4f8a-e05e-11d2c7c3774d"
      },
      "execution_count": 68,
      "outputs": [
        {
          "output_type": "display_data",
          "data": {
            "text/plain": [
              "<IPython.core.display.Javascript object>"
            ],
            "application/javascript": [
              "\n",
              "    async function download(id, filename, size) {\n",
              "      if (!google.colab.kernel.accessAllowed) {\n",
              "        return;\n",
              "      }\n",
              "      const div = document.createElement('div');\n",
              "      const label = document.createElement('label');\n",
              "      label.textContent = `Downloading \"${filename}\": `;\n",
              "      div.appendChild(label);\n",
              "      const progress = document.createElement('progress');\n",
              "      progress.max = size;\n",
              "      div.appendChild(progress);\n",
              "      document.body.appendChild(div);\n",
              "\n",
              "      const buffers = [];\n",
              "      let downloaded = 0;\n",
              "\n",
              "      const channel = await google.colab.kernel.comms.open(id);\n",
              "      // Send a message to notify the kernel that we're ready.\n",
              "      channel.send({})\n",
              "\n",
              "      for await (const message of channel.messages) {\n",
              "        // Send a message to notify the kernel that we're ready.\n",
              "        channel.send({})\n",
              "        if (message.buffers) {\n",
              "          for (const buffer of message.buffers) {\n",
              "            buffers.push(buffer);\n",
              "            downloaded += buffer.byteLength;\n",
              "            progress.value = downloaded;\n",
              "          }\n",
              "        }\n",
              "      }\n",
              "      const blob = new Blob(buffers, {type: 'application/binary'});\n",
              "      const a = document.createElement('a');\n",
              "      a.href = window.URL.createObjectURL(blob);\n",
              "      a.download = filename;\n",
              "      div.appendChild(a);\n",
              "      a.click();\n",
              "      div.remove();\n",
              "    }\n",
              "  "
            ]
          },
          "metadata": {}
        },
        {
          "output_type": "display_data",
          "data": {
            "text/plain": [
              "<IPython.core.display.Javascript object>"
            ],
            "application/javascript": [
              "download(\"download_400de771-5a39-4839-b25d-371036fe4a0b\", \"ocr_crnn.pt\", 100585047)"
            ]
          },
          "metadata": {}
        }
      ]
    }
  ]
}